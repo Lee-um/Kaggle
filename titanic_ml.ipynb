{
 "cells": [
  {
   "cell_type": "markdown",
   "id": "ed909310",
   "metadata": {
    "papermill": {
     "duration": 0.033599,
     "end_time": "2023-01-10T12:14:11.871854",
     "exception": false,
     "start_time": "2023-01-10T12:14:11.838255",
     "status": "completed"
    },
    "tags": []
   },
   "source": [
    "**TITANIC NOTEBOOK**\n",
    "\n",
    "This is some code for the Titanic dataset competition on Kaggle - a binary classification ML problem. The submission based on this code currently scores in the top 18%.\n",
    "\n",
    "We are given a test and train set on details of passengers from the Titanic. We must build a model to predict whether passengers survived."
   ]
  },
  {
   "cell_type": "markdown",
   "id": "704e6fee",
   "metadata": {
    "papermill": {
     "duration": 0.031955,
     "end_time": "2023-01-10T12:14:11.934519",
     "exception": false,
     "start_time": "2023-01-10T12:14:11.902564",
     "status": "completed"
    },
    "tags": []
   },
   "source": [
    "First we import the data and some libraries we will use."
   ]
  },
  {
   "cell_type": "code",
   "execution_count": 1,
   "id": "c32617d6",
   "metadata": {
    "execution": {
     "iopub.execute_input": "2023-01-10T12:14:11.999489Z",
     "iopub.status.busy": "2023-01-10T12:14:11.998353Z",
     "iopub.status.idle": "2023-01-10T12:14:13.041452Z",
     "shell.execute_reply": "2023-01-10T12:14:13.040159Z"
    },
    "papermill": {
     "duration": 1.078101,
     "end_time": "2023-01-10T12:14:13.044021",
     "exception": false,
     "start_time": "2023-01-10T12:14:11.965920",
     "status": "completed"
    },
    "tags": []
   },
   "outputs": [],
   "source": [
    "#Importing Libraries\n",
    "\n",
    "import numpy as np\n",
    "import pandas as pd\n",
    "import matplotlib.pyplot as plt\n",
    "import seaborn as sns\n",
    "\n",
    "#Importing data\n",
    "\n",
    "training = pd.read_csv('/kaggle/input/titanic/train.csv')\n",
    "testing = pd.read_csv('/kaggle/input/titanic/test.csv')"
   ]
  },
  {
   "cell_type": "markdown",
   "id": "6168e736",
   "metadata": {
    "papermill": {
     "duration": 0.030667,
     "end_time": "2023-01-10T12:14:13.105804",
     "exception": false,
     "start_time": "2023-01-10T12:14:13.075137",
     "status": "completed"
    },
    "tags": []
   },
   "source": [
    "The following is a funtion to print a line of stars to act as separators."
   ]
  },
  {
   "cell_type": "code",
   "execution_count": 2,
   "id": "01ba55ab",
   "metadata": {
    "execution": {
     "iopub.execute_input": "2023-01-10T12:14:13.169471Z",
     "iopub.status.busy": "2023-01-10T12:14:13.168987Z",
     "iopub.status.idle": "2023-01-10T12:14:13.174763Z",
     "shell.execute_reply": "2023-01-10T12:14:13.172971Z"
    },
    "papermill": {
     "duration": 0.040168,
     "end_time": "2023-01-10T12:14:13.176952",
     "exception": false,
     "start_time": "2023-01-10T12:14:13.136784",
     "status": "completed"
    },
    "tags": []
   },
   "outputs": [
    {
     "name": "stdout",
     "output_type": "stream",
     "text": [
      "\n",
      "\n",
      "* * * * * * * * * * * * * * * * * * * * \n",
      "\n",
      "\n"
     ]
    }
   ],
   "source": [
    "def lineOfStars():\n",
    "    print('\\n')\n",
    "    print('* '*20)\n",
    "    print('\\n')\n",
    "\n",
    "lineOfStars()"
   ]
  },
  {
   "cell_type": "markdown",
   "id": "86ceda3c",
   "metadata": {
    "papermill": {
     "duration": 0.031759,
     "end_time": "2023-01-10T12:14:13.241302",
     "exception": false,
     "start_time": "2023-01-10T12:14:13.209543",
     "status": "completed"
    },
    "tags": []
   },
   "source": [
    "The features / target of the data is as follows:\n",
    "\n",
    "* Survival : Whether the passenger survived. \n",
    "    * 0 = No. 1 = Yes The target.\n",
    "* PassengerID : Unique number to identify each passenger. \n",
    "* Pclass : Ticket class. \n",
    "    * 1 = 1st. 2 = 2nd. 3 = 3rd.\n",
    "* Sex\n",
    "* Age : Age in years.\n",
    "    * Fractional if less than 1. If the age is estimated, is it in the form of xx.5\n",
    "* sibsp : # of siblings / spouses aboard the Titanic. \n",
    "    * Sibling = brother, sister, stepbrother, stepsister. \n",
    "    * Spouse = husband, wife (mistresses and fiancés were ignored)\n",
    "* parch : # of parents / children aboard the Titanic\n",
    "    * Parent = mother, father\n",
    "    * Child = daughter, son, stepdaughter, stepson\n",
    "    * Some children travelled only with a nanny, therefore parch=0 for them.\n",
    "* ticket : Ticket Number.\n",
    "* fare : Passenger Fare\n",
    "* Cabin : Cabin Number\n",
    "* embarked : Port of Embarkation.\n",
    "    * C = Cherbourg, Q = Queenstown, S = Southampton\n"
   ]
  },
  {
   "cell_type": "markdown",
   "id": "0e16cc13",
   "metadata": {
    "papermill": {
     "duration": 0.031142,
     "end_time": "2023-01-10T12:14:13.304337",
     "exception": false,
     "start_time": "2023-01-10T12:14:13.273195",
     "status": "completed"
    },
    "tags": []
   },
   "source": [
    "Let us look at the beginning of both sets."
   ]
  },
  {
   "cell_type": "code",
   "execution_count": 3,
   "id": "0beab4bd",
   "metadata": {
    "execution": {
     "iopub.execute_input": "2023-01-10T12:14:13.371131Z",
     "iopub.status.busy": "2023-01-10T12:14:13.370451Z",
     "iopub.status.idle": "2023-01-10T12:14:13.392492Z",
     "shell.execute_reply": "2023-01-10T12:14:13.391396Z"
    },
    "papermill": {
     "duration": 0.058237,
     "end_time": "2023-01-10T12:14:13.394611",
     "exception": false,
     "start_time": "2023-01-10T12:14:13.336374",
     "status": "completed"
    },
    "tags": []
   },
   "outputs": [
    {
     "data": {
      "text/html": [
       "<div>\n",
       "<style scoped>\n",
       "    .dataframe tbody tr th:only-of-type {\n",
       "        vertical-align: middle;\n",
       "    }\n",
       "\n",
       "    .dataframe tbody tr th {\n",
       "        vertical-align: top;\n",
       "    }\n",
       "\n",
       "    .dataframe thead th {\n",
       "        text-align: right;\n",
       "    }\n",
       "</style>\n",
       "<table border=\"1\" class=\"dataframe\">\n",
       "  <thead>\n",
       "    <tr style=\"text-align: right;\">\n",
       "      <th></th>\n",
       "      <th>PassengerId</th>\n",
       "      <th>Survived</th>\n",
       "      <th>Pclass</th>\n",
       "      <th>Name</th>\n",
       "      <th>Sex</th>\n",
       "      <th>Age</th>\n",
       "      <th>SibSp</th>\n",
       "      <th>Parch</th>\n",
       "      <th>Ticket</th>\n",
       "      <th>Fare</th>\n",
       "      <th>Cabin</th>\n",
       "      <th>Embarked</th>\n",
       "    </tr>\n",
       "  </thead>\n",
       "  <tbody>\n",
       "    <tr>\n",
       "      <th>0</th>\n",
       "      <td>1</td>\n",
       "      <td>0</td>\n",
       "      <td>3</td>\n",
       "      <td>Braund, Mr. Owen Harris</td>\n",
       "      <td>male</td>\n",
       "      <td>22.0</td>\n",
       "      <td>1</td>\n",
       "      <td>0</td>\n",
       "      <td>A/5 21171</td>\n",
       "      <td>7.2500</td>\n",
       "      <td>NaN</td>\n",
       "      <td>S</td>\n",
       "    </tr>\n",
       "    <tr>\n",
       "      <th>1</th>\n",
       "      <td>2</td>\n",
       "      <td>1</td>\n",
       "      <td>1</td>\n",
       "      <td>Cumings, Mrs. John Bradley (Florence Briggs Th...</td>\n",
       "      <td>female</td>\n",
       "      <td>38.0</td>\n",
       "      <td>1</td>\n",
       "      <td>0</td>\n",
       "      <td>PC 17599</td>\n",
       "      <td>71.2833</td>\n",
       "      <td>C85</td>\n",
       "      <td>C</td>\n",
       "    </tr>\n",
       "    <tr>\n",
       "      <th>2</th>\n",
       "      <td>3</td>\n",
       "      <td>1</td>\n",
       "      <td>3</td>\n",
       "      <td>Heikkinen, Miss. Laina</td>\n",
       "      <td>female</td>\n",
       "      <td>26.0</td>\n",
       "      <td>0</td>\n",
       "      <td>0</td>\n",
       "      <td>STON/O2. 3101282</td>\n",
       "      <td>7.9250</td>\n",
       "      <td>NaN</td>\n",
       "      <td>S</td>\n",
       "    </tr>\n",
       "    <tr>\n",
       "      <th>3</th>\n",
       "      <td>4</td>\n",
       "      <td>1</td>\n",
       "      <td>1</td>\n",
       "      <td>Futrelle, Mrs. Jacques Heath (Lily May Peel)</td>\n",
       "      <td>female</td>\n",
       "      <td>35.0</td>\n",
       "      <td>1</td>\n",
       "      <td>0</td>\n",
       "      <td>113803</td>\n",
       "      <td>53.1000</td>\n",
       "      <td>C123</td>\n",
       "      <td>S</td>\n",
       "    </tr>\n",
       "    <tr>\n",
       "      <th>4</th>\n",
       "      <td>5</td>\n",
       "      <td>0</td>\n",
       "      <td>3</td>\n",
       "      <td>Allen, Mr. William Henry</td>\n",
       "      <td>male</td>\n",
       "      <td>35.0</td>\n",
       "      <td>0</td>\n",
       "      <td>0</td>\n",
       "      <td>373450</td>\n",
       "      <td>8.0500</td>\n",
       "      <td>NaN</td>\n",
       "      <td>S</td>\n",
       "    </tr>\n",
       "  </tbody>\n",
       "</table>\n",
       "</div>"
      ],
      "text/plain": [
       "   PassengerId  Survived  Pclass  \\\n",
       "0            1         0       3   \n",
       "1            2         1       1   \n",
       "2            3         1       3   \n",
       "3            4         1       1   \n",
       "4            5         0       3   \n",
       "\n",
       "                                                Name     Sex   Age  SibSp  \\\n",
       "0                            Braund, Mr. Owen Harris    male  22.0      1   \n",
       "1  Cumings, Mrs. John Bradley (Florence Briggs Th...  female  38.0      1   \n",
       "2                             Heikkinen, Miss. Laina  female  26.0      0   \n",
       "3       Futrelle, Mrs. Jacques Heath (Lily May Peel)  female  35.0      1   \n",
       "4                           Allen, Mr. William Henry    male  35.0      0   \n",
       "\n",
       "   Parch            Ticket     Fare Cabin Embarked  \n",
       "0      0         A/5 21171   7.2500   NaN        S  \n",
       "1      0          PC 17599  71.2833   C85        C  \n",
       "2      0  STON/O2. 3101282   7.9250   NaN        S  \n",
       "3      0            113803  53.1000  C123        S  \n",
       "4      0            373450   8.0500   NaN        S  "
      ]
     },
     "execution_count": 3,
     "metadata": {},
     "output_type": "execute_result"
    }
   ],
   "source": [
    "training.head()"
   ]
  },
  {
   "cell_type": "code",
   "execution_count": 4,
   "id": "2e18f466",
   "metadata": {
    "execution": {
     "iopub.execute_input": "2023-01-10T12:14:13.467270Z",
     "iopub.status.busy": "2023-01-10T12:14:13.466933Z",
     "iopub.status.idle": "2023-01-10T12:14:13.480628Z",
     "shell.execute_reply": "2023-01-10T12:14:13.479737Z"
    },
    "papermill": {
     "duration": 0.051339,
     "end_time": "2023-01-10T12:14:13.482432",
     "exception": false,
     "start_time": "2023-01-10T12:14:13.431093",
     "status": "completed"
    },
    "tags": []
   },
   "outputs": [
    {
     "data": {
      "text/html": [
       "<div>\n",
       "<style scoped>\n",
       "    .dataframe tbody tr th:only-of-type {\n",
       "        vertical-align: middle;\n",
       "    }\n",
       "\n",
       "    .dataframe tbody tr th {\n",
       "        vertical-align: top;\n",
       "    }\n",
       "\n",
       "    .dataframe thead th {\n",
       "        text-align: right;\n",
       "    }\n",
       "</style>\n",
       "<table border=\"1\" class=\"dataframe\">\n",
       "  <thead>\n",
       "    <tr style=\"text-align: right;\">\n",
       "      <th></th>\n",
       "      <th>PassengerId</th>\n",
       "      <th>Pclass</th>\n",
       "      <th>Name</th>\n",
       "      <th>Sex</th>\n",
       "      <th>Age</th>\n",
       "      <th>SibSp</th>\n",
       "      <th>Parch</th>\n",
       "      <th>Ticket</th>\n",
       "      <th>Fare</th>\n",
       "      <th>Cabin</th>\n",
       "      <th>Embarked</th>\n",
       "    </tr>\n",
       "  </thead>\n",
       "  <tbody>\n",
       "    <tr>\n",
       "      <th>0</th>\n",
       "      <td>892</td>\n",
       "      <td>3</td>\n",
       "      <td>Kelly, Mr. James</td>\n",
       "      <td>male</td>\n",
       "      <td>34.5</td>\n",
       "      <td>0</td>\n",
       "      <td>0</td>\n",
       "      <td>330911</td>\n",
       "      <td>7.8292</td>\n",
       "      <td>NaN</td>\n",
       "      <td>Q</td>\n",
       "    </tr>\n",
       "    <tr>\n",
       "      <th>1</th>\n",
       "      <td>893</td>\n",
       "      <td>3</td>\n",
       "      <td>Wilkes, Mrs. James (Ellen Needs)</td>\n",
       "      <td>female</td>\n",
       "      <td>47.0</td>\n",
       "      <td>1</td>\n",
       "      <td>0</td>\n",
       "      <td>363272</td>\n",
       "      <td>7.0000</td>\n",
       "      <td>NaN</td>\n",
       "      <td>S</td>\n",
       "    </tr>\n",
       "    <tr>\n",
       "      <th>2</th>\n",
       "      <td>894</td>\n",
       "      <td>2</td>\n",
       "      <td>Myles, Mr. Thomas Francis</td>\n",
       "      <td>male</td>\n",
       "      <td>62.0</td>\n",
       "      <td>0</td>\n",
       "      <td>0</td>\n",
       "      <td>240276</td>\n",
       "      <td>9.6875</td>\n",
       "      <td>NaN</td>\n",
       "      <td>Q</td>\n",
       "    </tr>\n",
       "    <tr>\n",
       "      <th>3</th>\n",
       "      <td>895</td>\n",
       "      <td>3</td>\n",
       "      <td>Wirz, Mr. Albert</td>\n",
       "      <td>male</td>\n",
       "      <td>27.0</td>\n",
       "      <td>0</td>\n",
       "      <td>0</td>\n",
       "      <td>315154</td>\n",
       "      <td>8.6625</td>\n",
       "      <td>NaN</td>\n",
       "      <td>S</td>\n",
       "    </tr>\n",
       "    <tr>\n",
       "      <th>4</th>\n",
       "      <td>896</td>\n",
       "      <td>3</td>\n",
       "      <td>Hirvonen, Mrs. Alexander (Helga E Lindqvist)</td>\n",
       "      <td>female</td>\n",
       "      <td>22.0</td>\n",
       "      <td>1</td>\n",
       "      <td>1</td>\n",
       "      <td>3101298</td>\n",
       "      <td>12.2875</td>\n",
       "      <td>NaN</td>\n",
       "      <td>S</td>\n",
       "    </tr>\n",
       "  </tbody>\n",
       "</table>\n",
       "</div>"
      ],
      "text/plain": [
       "   PassengerId  Pclass                                          Name     Sex  \\\n",
       "0          892       3                              Kelly, Mr. James    male   \n",
       "1          893       3              Wilkes, Mrs. James (Ellen Needs)  female   \n",
       "2          894       2                     Myles, Mr. Thomas Francis    male   \n",
       "3          895       3                              Wirz, Mr. Albert    male   \n",
       "4          896       3  Hirvonen, Mrs. Alexander (Helga E Lindqvist)  female   \n",
       "\n",
       "    Age  SibSp  Parch   Ticket     Fare Cabin Embarked  \n",
       "0  34.5      0      0   330911   7.8292   NaN        Q  \n",
       "1  47.0      1      0   363272   7.0000   NaN        S  \n",
       "2  62.0      0      0   240276   9.6875   NaN        Q  \n",
       "3  27.0      0      0   315154   8.6625   NaN        S  \n",
       "4  22.0      1      1  3101298  12.2875   NaN        S  "
      ]
     },
     "execution_count": 4,
     "metadata": {},
     "output_type": "execute_result"
    }
   ],
   "source": [
    "testing.head()"
   ]
  },
  {
   "cell_type": "code",
   "execution_count": 5,
   "id": "ac88f0fa",
   "metadata": {
    "execution": {
     "iopub.execute_input": "2023-01-10T12:14:13.548488Z",
     "iopub.status.busy": "2023-01-10T12:14:13.547324Z",
     "iopub.status.idle": "2023-01-10T12:14:13.553633Z",
     "shell.execute_reply": "2023-01-10T12:14:13.551998Z"
    },
    "papermill": {
     "duration": 0.042208,
     "end_time": "2023-01-10T12:14:13.556507",
     "exception": false,
     "start_time": "2023-01-10T12:14:13.514299",
     "status": "completed"
    },
    "tags": []
   },
   "outputs": [
    {
     "name": "stdout",
     "output_type": "stream",
     "text": [
      "The training data has shape:  (891, 12)\n",
      "The testing data has shape:  (418, 11)\n"
     ]
    }
   ],
   "source": [
    "print('The training data has shape: ', training.shape)\n",
    "print('The testing data has shape: ', testing.shape)"
   ]
  },
  {
   "cell_type": "markdown",
   "id": "ae280c9c",
   "metadata": {
    "papermill": {
     "duration": 0.031441,
     "end_time": "2023-01-10T12:14:13.620292",
     "exception": false,
     "start_time": "2023-01-10T12:14:13.588851",
     "status": "completed"
    },
    "tags": []
   },
   "source": [
    "It appears that the PassengerId column is just the index + 1. Let us check the max of PassengerId in the training set and the min in the testing set. Do they differ by 1?"
   ]
  },
  {
   "cell_type": "code",
   "execution_count": 6,
   "id": "e8815902",
   "metadata": {
    "execution": {
     "iopub.execute_input": "2023-01-10T12:14:13.685016Z",
     "iopub.status.busy": "2023-01-10T12:14:13.684229Z",
     "iopub.status.idle": "2023-01-10T12:14:13.692503Z",
     "shell.execute_reply": "2023-01-10T12:14:13.691408Z"
    },
    "papermill": {
     "duration": 0.04315,
     "end_time": "2023-01-10T12:14:13.694616",
     "exception": false,
     "start_time": "2023-01-10T12:14:13.651466",
     "status": "completed"
    },
    "tags": []
   },
   "outputs": [
    {
     "name": "stdout",
     "output_type": "stream",
     "text": [
      "The max of PassengerId in the training set is 891.\n",
      "The min of PassengerId in the testing set is 892.\n"
     ]
    }
   ],
   "source": [
    "print('The max of PassengerId in the training set is %d.' % np.max(training['PassengerId']))\n",
    "print('The min of PassengerId in the testing set is %d.' % np.min(testing['PassengerId']))"
   ]
  },
  {
   "cell_type": "markdown",
   "id": "5f9deefc",
   "metadata": {
    "papermill": {
     "duration": 0.032964,
     "end_time": "2023-01-10T12:14:13.759738",
     "exception": false,
     "start_time": "2023-01-10T12:14:13.726774",
     "status": "completed"
    },
    "tags": []
   },
   "source": [
    "It appears the testing set is just the 892th row of the original dataset onwards. We shall drop the PassengerId feature from both columns if they contain no duplicated values."
   ]
  },
  {
   "cell_type": "code",
   "execution_count": 7,
   "id": "4278a122",
   "metadata": {
    "execution": {
     "iopub.execute_input": "2023-01-10T12:14:13.829920Z",
     "iopub.status.busy": "2023-01-10T12:14:13.829307Z",
     "iopub.status.idle": "2023-01-10T12:14:13.844121Z",
     "shell.execute_reply": "2023-01-10T12:14:13.842691Z"
    },
    "papermill": {
     "duration": 0.05027,
     "end_time": "2023-01-10T12:14:13.846299",
     "exception": false,
     "start_time": "2023-01-10T12:14:13.796029",
     "status": "completed"
    },
    "tags": []
   },
   "outputs": [
    {
     "name": "stdout",
     "output_type": "stream",
     "text": [
      "PassengerId was deleted.\n",
      "The training data now has shape:  (891, 11)\n",
      "The testing data now has shape:  (418, 10)\n"
     ]
    }
   ],
   "source": [
    "if len(training['PassengerId'].unique()) == training.shape[0]:\n",
    "    training.drop('PassengerId', axis = 1, inplace = True)\n",
    "    testing.drop('PassengerId', axis = 1, inplace = True)\n",
    "    print('PassengerId was deleted.')\n",
    "\n",
    "print('The training data now has shape: ', training.shape)\n",
    "print('The testing data now has shape: ', testing.shape)"
   ]
  },
  {
   "cell_type": "markdown",
   "id": "6437c862",
   "metadata": {
    "papermill": {
     "duration": 0.031218,
     "end_time": "2023-01-10T12:14:13.910770",
     "exception": false,
     "start_time": "2023-01-10T12:14:13.879552",
     "status": "completed"
    },
    "tags": []
   },
   "source": [
    "Now we will perform EDA. We will look at Data Types, Missing Data, and Summary Statistics."
   ]
  },
  {
   "cell_type": "code",
   "execution_count": 8,
   "id": "29a48ab8",
   "metadata": {
    "execution": {
     "iopub.execute_input": "2023-01-10T12:14:13.975713Z",
     "iopub.status.busy": "2023-01-10T12:14:13.974705Z",
     "iopub.status.idle": "2023-01-10T12:14:14.002069Z",
     "shell.execute_reply": "2023-01-10T12:14:14.001225Z"
    },
    "papermill": {
     "duration": 0.061718,
     "end_time": "2023-01-10T12:14:14.004081",
     "exception": false,
     "start_time": "2023-01-10T12:14:13.942363",
     "status": "completed"
    },
    "tags": []
   },
   "outputs": [
    {
     "name": "stdout",
     "output_type": "stream",
     "text": [
      "<class 'pandas.core.frame.DataFrame'>\n",
      "RangeIndex: 891 entries, 0 to 890\n",
      "Data columns (total 11 columns):\n",
      " #   Column    Non-Null Count  Dtype  \n",
      "---  ------    --------------  -----  \n",
      " 0   Survived  891 non-null    int64  \n",
      " 1   Pclass    891 non-null    int64  \n",
      " 2   Name      891 non-null    object \n",
      " 3   Sex       891 non-null    object \n",
      " 4   Age       714 non-null    float64\n",
      " 5   SibSp     891 non-null    int64  \n",
      " 6   Parch     891 non-null    int64  \n",
      " 7   Ticket    891 non-null    object \n",
      " 8   Fare      891 non-null    float64\n",
      " 9   Cabin     204 non-null    object \n",
      " 10  Embarked  889 non-null    object \n",
      "dtypes: float64(2), int64(4), object(5)\n",
      "memory usage: 76.7+ KB\n",
      "\n",
      "\n",
      "* * * * * * * * * * * * * * * * * * * * \n",
      "\n",
      "\n",
      "<class 'pandas.core.frame.DataFrame'>\n",
      "RangeIndex: 418 entries, 0 to 417\n",
      "Data columns (total 10 columns):\n",
      " #   Column    Non-Null Count  Dtype  \n",
      "---  ------    --------------  -----  \n",
      " 0   Pclass    418 non-null    int64  \n",
      " 1   Name      418 non-null    object \n",
      " 2   Sex       418 non-null    object \n",
      " 3   Age       332 non-null    float64\n",
      " 4   SibSp     418 non-null    int64  \n",
      " 5   Parch     418 non-null    int64  \n",
      " 6   Ticket    418 non-null    object \n",
      " 7   Fare      417 non-null    float64\n",
      " 8   Cabin     91 non-null     object \n",
      " 9   Embarked  418 non-null    object \n",
      "dtypes: float64(2), int64(3), object(5)\n",
      "memory usage: 32.8+ KB\n"
     ]
    }
   ],
   "source": [
    "#Missing Data Count From the Data Sets.\n",
    "\n",
    "training.info()\n",
    "lineOfStars()\n",
    "testing.info()"
   ]
  },
  {
   "cell_type": "markdown",
   "id": "6f77cdb0",
   "metadata": {
    "papermill": {
     "duration": 0.031801,
     "end_time": "2023-01-10T12:14:14.068759",
     "exception": false,
     "start_time": "2023-01-10T12:14:14.036958",
     "status": "completed"
    },
    "tags": []
   },
   "source": [
    "Age, Cabin, and Embarked are missing values in the training data. Age, Cabin, an Fare are missing values in the testing data."
   ]
  },
  {
   "cell_type": "code",
   "execution_count": 9,
   "id": "98fcdd41",
   "metadata": {
    "execution": {
     "iopub.execute_input": "2023-01-10T12:14:14.138672Z",
     "iopub.status.busy": "2023-01-10T12:14:14.137345Z",
     "iopub.status.idle": "2023-01-10T12:14:14.152836Z",
     "shell.execute_reply": "2023-01-10T12:14:14.152046Z"
    },
    "papermill": {
     "duration": 0.054246,
     "end_time": "2023-01-10T12:14:14.154667",
     "exception": false,
     "start_time": "2023-01-10T12:14:14.100421",
     "status": "completed"
    },
    "tags": []
   },
   "outputs": [
    {
     "name": "stdout",
     "output_type": "stream",
     "text": [
      "Training\n",
      "\n",
      "\n",
      "* * * * * * * * * * * * * * * * * * * * \n",
      "\n",
      "\n",
      "Testing\n"
     ]
    },
    {
     "data": {
      "text/plain": [
       "Cabin       687\n",
       "Age         177\n",
       "Embarked      2\n",
       "Survived      0\n",
       "Pclass        0\n",
       "Name          0\n",
       "Sex           0\n",
       "SibSp         0\n",
       "Parch         0\n",
       "Ticket        0\n",
       "Fare          0\n",
       "dtype: int64"
      ]
     },
     "execution_count": 9,
     "metadata": {},
     "output_type": "execute_result"
    }
   ],
   "source": [
    "# Missing data from training set by column\n",
    "\n",
    "print('Training')\n",
    "training.isna().sum().sort_values(ascending = False)\n",
    "\n",
    "lineOfStars()\n",
    "\n",
    "print('Testing')\n",
    "training.isna().sum().sort_values(ascending = False)\n"
   ]
  },
  {
   "cell_type": "markdown",
   "id": "7263e8c6",
   "metadata": {
    "papermill": {
     "duration": 0.033158,
     "end_time": "2023-01-10T12:14:14.225360",
     "exception": false,
     "start_time": "2023-01-10T12:14:14.192202",
     "status": "completed"
    },
    "tags": []
   },
   "source": [
    "This is a cool way to visualise the missing values."
   ]
  },
  {
   "cell_type": "code",
   "execution_count": 10,
   "id": "61266cca",
   "metadata": {
    "execution": {
     "iopub.execute_input": "2023-01-10T12:14:14.292461Z",
     "iopub.status.busy": "2023-01-10T12:14:14.292139Z",
     "iopub.status.idle": "2023-01-10T12:14:14.684525Z",
     "shell.execute_reply": "2023-01-10T12:14:14.683503Z"
    },
    "papermill": {
     "duration": 0.428561,
     "end_time": "2023-01-10T12:14:14.686573",
     "exception": false,
     "start_time": "2023-01-10T12:14:14.258012",
     "status": "completed"
    },
    "tags": []
   },
   "outputs": [
    {
     "name": "stdout",
     "output_type": "stream",
     "text": [
      "Training\n"
     ]
    },
    {
     "data": {
      "text/plain": [
       "<AxesSubplot:>"
      ]
     },
     "execution_count": 10,
     "metadata": {},
     "output_type": "execute_result"
    },
    {
     "data": {
      "image/png": "[encoded data removed]",
      "text/plain": [
       "<Figure size 1800x720 with 2 Axes>"
      ]
     },
     "metadata": {
      "needs_background": "light"
     },
     "output_type": "display_data"
    }
   ],
   "source": [
    "import missingno\n",
    "\n",
    "print('Training')\n",
    "missingno.matrix(training)"
   ]
  },
  {
   "cell_type": "code",
   "execution_count": 11,
   "id": "f74be4c0",
   "metadata": {
    "execution": {
     "iopub.execute_input": "2023-01-10T12:14:14.754227Z",
     "iopub.status.busy": "2023-01-10T12:14:14.753892Z",
     "iopub.status.idle": "2023-01-10T12:14:15.123737Z",
     "shell.execute_reply": "2023-01-10T12:14:15.122474Z"
    },
    "papermill": {
     "duration": 0.406191,
     "end_time": "2023-01-10T12:14:15.125812",
     "exception": false,
     "start_time": "2023-01-10T12:14:14.719621",
     "status": "completed"
    },
    "tags": []
   },
   "outputs": [
    {
     "name": "stdout",
     "output_type": "stream",
     "text": [
      "Testing\n"
     ]
    },
    {
     "data": {
      "text/plain": [
       "<AxesSubplot:>"
      ]
     },
     "execution_count": 11,
     "metadata": {},
     "output_type": "execute_result"
    },
    {
     "data": {
      "image/png": "[encoded data removed]",
      "text/plain": [
       "<Figure size 1800x720 with 2 Axes>"
      ]
     },
     "metadata": {
      "needs_background": "light"
     },
     "output_type": "display_data"
    }
   ],
   "source": [
    "print('Testing')\n",
    "missingno.matrix(testing)"
   ]
  },
  {
   "cell_type": "markdown",
   "id": "08b75c9f",
   "metadata": {
    "papermill": {
     "duration": 0.033393,
     "end_time": "2023-01-10T12:14:15.192691",
     "exception": false,
     "start_time": "2023-01-10T12:14:15.159298",
     "status": "completed"
    },
    "tags": []
   },
   "source": [
    "We will have to figure ou how to fill in these values, or drop them.\n",
    "\n",
    "Summary Statistics now follow:"
   ]
  },
  {
   "cell_type": "code",
   "execution_count": 12,
   "id": "80fbe2ce",
   "metadata": {
    "execution": {
     "iopub.execute_input": "2023-01-10T12:14:15.264186Z",
     "iopub.status.busy": "2023-01-10T12:14:15.263783Z",
     "iopub.status.idle": "2023-01-10T12:14:15.287755Z",
     "shell.execute_reply": "2023-01-10T12:14:15.287124Z"
    },
    "papermill": {
     "duration": 0.061295,
     "end_time": "2023-01-10T12:14:15.289591",
     "exception": false,
     "start_time": "2023-01-10T12:14:15.228296",
     "status": "completed"
    },
    "tags": []
   },
   "outputs": [
    {
     "data": {
      "text/html": [
       "<div>\n",
       "<style scoped>\n",
       "    .dataframe tbody tr th:only-of-type {\n",
       "        vertical-align: middle;\n",
       "    }\n",
       "\n",
       "    .dataframe tbody tr th {\n",
       "        vertical-align: top;\n",
       "    }\n",
       "\n",
       "    .dataframe thead th {\n",
       "        text-align: right;\n",
       "    }\n",
       "</style>\n",
       "<table border=\"1\" class=\"dataframe\">\n",
       "  <thead>\n",
       "    <tr style=\"text-align: right;\">\n",
       "      <th></th>\n",
       "      <th>Pclass</th>\n",
       "      <th>Age</th>\n",
       "      <th>SibSp</th>\n",
       "      <th>Parch</th>\n",
       "      <th>Fare</th>\n",
       "    </tr>\n",
       "  </thead>\n",
       "  <tbody>\n",
       "    <tr>\n",
       "      <th>count</th>\n",
       "      <td>891.000000</td>\n",
       "      <td>714.000000</td>\n",
       "      <td>891.000000</td>\n",
       "      <td>891.000000</td>\n",
       "      <td>891.000000</td>\n",
       "    </tr>\n",
       "    <tr>\n",
       "      <th>mean</th>\n",
       "      <td>2.308642</td>\n",
       "      <td>29.699118</td>\n",
       "      <td>0.523008</td>\n",
       "      <td>0.381594</td>\n",
       "      <td>32.204208</td>\n",
       "    </tr>\n",
       "    <tr>\n",
       "      <th>std</th>\n",
       "      <td>0.836071</td>\n",
       "      <td>14.526497</td>\n",
       "      <td>1.102743</td>\n",
       "      <td>0.806057</td>\n",
       "      <td>49.693429</td>\n",
       "    </tr>\n",
       "    <tr>\n",
       "      <th>min</th>\n",
       "      <td>1.000000</td>\n",
       "      <td>0.420000</td>\n",
       "      <td>0.000000</td>\n",
       "      <td>0.000000</td>\n",
       "      <td>0.000000</td>\n",
       "    </tr>\n",
       "    <tr>\n",
       "      <th>25%</th>\n",
       "      <td>2.000000</td>\n",
       "      <td>20.125000</td>\n",
       "      <td>0.000000</td>\n",
       "      <td>0.000000</td>\n",
       "      <td>7.910400</td>\n",
       "    </tr>\n",
       "    <tr>\n",
       "      <th>50%</th>\n",
       "      <td>3.000000</td>\n",
       "      <td>28.000000</td>\n",
       "      <td>0.000000</td>\n",
       "      <td>0.000000</td>\n",
       "      <td>14.454200</td>\n",
       "    </tr>\n",
       "    <tr>\n",
       "      <th>75%</th>\n",
       "      <td>3.000000</td>\n",
       "      <td>38.000000</td>\n",
       "      <td>1.000000</td>\n",
       "      <td>0.000000</td>\n",
       "      <td>31.000000</td>\n",
       "    </tr>\n",
       "    <tr>\n",
       "      <th>max</th>\n",
       "      <td>3.000000</td>\n",
       "      <td>80.000000</td>\n",
       "      <td>8.000000</td>\n",
       "      <td>6.000000</td>\n",
       "      <td>512.329200</td>\n",
       "    </tr>\n",
       "  </tbody>\n",
       "</table>\n",
       "</div>"
      ],
      "text/plain": [
       "           Pclass         Age       SibSp       Parch        Fare\n",
       "count  891.000000  714.000000  891.000000  891.000000  891.000000\n",
       "mean     2.308642   29.699118    0.523008    0.381594   32.204208\n",
       "std      0.836071   14.526497    1.102743    0.806057   49.693429\n",
       "min      1.000000    0.420000    0.000000    0.000000    0.000000\n",
       "25%      2.000000   20.125000    0.000000    0.000000    7.910400\n",
       "50%      3.000000   28.000000    0.000000    0.000000   14.454200\n",
       "75%      3.000000   38.000000    1.000000    0.000000   31.000000\n",
       "max      3.000000   80.000000    8.000000    6.000000  512.329200"
      ]
     },
     "execution_count": 12,
     "metadata": {},
     "output_type": "execute_result"
    }
   ],
   "source": [
    "# Summary Statistics for training\n",
    "\n",
    "training.drop('Survived', axis = 1).describe()"
   ]
  },
  {
   "cell_type": "code",
   "execution_count": 13,
   "id": "29c3cd6c",
   "metadata": {
    "execution": {
     "iopub.execute_input": "2023-01-10T12:14:15.359198Z",
     "iopub.status.busy": "2023-01-10T12:14:15.358385Z",
     "iopub.status.idle": "2023-01-10T12:14:15.381842Z",
     "shell.execute_reply": "2023-01-10T12:14:15.380854Z"
    },
    "papermill": {
     "duration": 0.060611,
     "end_time": "2023-01-10T12:14:15.384282",
     "exception": false,
     "start_time": "2023-01-10T12:14:15.323671",
     "status": "completed"
    },
    "tags": []
   },
   "outputs": [
    {
     "data": {
      "text/html": [
       "<div>\n",
       "<style scoped>\n",
       "    .dataframe tbody tr th:only-of-type {\n",
       "        vertical-align: middle;\n",
       "    }\n",
       "\n",
       "    .dataframe tbody tr th {\n",
       "        vertical-align: top;\n",
       "    }\n",
       "\n",
       "    .dataframe thead th {\n",
       "        text-align: right;\n",
       "    }\n",
       "</style>\n",
       "<table border=\"1\" class=\"dataframe\">\n",
       "  <thead>\n",
       "    <tr style=\"text-align: right;\">\n",
       "      <th></th>\n",
       "      <th>Pclass</th>\n",
       "      <th>Age</th>\n",
       "      <th>SibSp</th>\n",
       "      <th>Parch</th>\n",
       "      <th>Fare</th>\n",
       "    </tr>\n",
       "  </thead>\n",
       "  <tbody>\n",
       "    <tr>\n",
       "      <th>count</th>\n",
       "      <td>418.000000</td>\n",
       "      <td>332.000000</td>\n",
       "      <td>418.000000</td>\n",
       "      <td>418.000000</td>\n",
       "      <td>417.000000</td>\n",
       "    </tr>\n",
       "    <tr>\n",
       "      <th>mean</th>\n",
       "      <td>2.265550</td>\n",
       "      <td>30.272590</td>\n",
       "      <td>0.447368</td>\n",
       "      <td>0.392344</td>\n",
       "      <td>35.627188</td>\n",
       "    </tr>\n",
       "    <tr>\n",
       "      <th>std</th>\n",
       "      <td>0.841838</td>\n",
       "      <td>14.181209</td>\n",
       "      <td>0.896760</td>\n",
       "      <td>0.981429</td>\n",
       "      <td>55.907576</td>\n",
       "    </tr>\n",
       "    <tr>\n",
       "      <th>min</th>\n",
       "      <td>1.000000</td>\n",
       "      <td>0.170000</td>\n",
       "      <td>0.000000</td>\n",
       "      <td>0.000000</td>\n",
       "      <td>0.000000</td>\n",
       "    </tr>\n",
       "    <tr>\n",
       "      <th>25%</th>\n",
       "      <td>1.000000</td>\n",
       "      <td>21.000000</td>\n",
       "      <td>0.000000</td>\n",
       "      <td>0.000000</td>\n",
       "      <td>7.895800</td>\n",
       "    </tr>\n",
       "    <tr>\n",
       "      <th>50%</th>\n",
       "      <td>3.000000</td>\n",
       "      <td>27.000000</td>\n",
       "      <td>0.000000</td>\n",
       "      <td>0.000000</td>\n",
       "      <td>14.454200</td>\n",
       "    </tr>\n",
       "    <tr>\n",
       "      <th>75%</th>\n",
       "      <td>3.000000</td>\n",
       "      <td>39.000000</td>\n",
       "      <td>1.000000</td>\n",
       "      <td>0.000000</td>\n",
       "      <td>31.500000</td>\n",
       "    </tr>\n",
       "    <tr>\n",
       "      <th>max</th>\n",
       "      <td>3.000000</td>\n",
       "      <td>76.000000</td>\n",
       "      <td>8.000000</td>\n",
       "      <td>9.000000</td>\n",
       "      <td>512.329200</td>\n",
       "    </tr>\n",
       "  </tbody>\n",
       "</table>\n",
       "</div>"
      ],
      "text/plain": [
       "           Pclass         Age       SibSp       Parch        Fare\n",
       "count  418.000000  332.000000  418.000000  418.000000  417.000000\n",
       "mean     2.265550   30.272590    0.447368    0.392344   35.627188\n",
       "std      0.841838   14.181209    0.896760    0.981429   55.907576\n",
       "min      1.000000    0.170000    0.000000    0.000000    0.000000\n",
       "25%      1.000000   21.000000    0.000000    0.000000    7.895800\n",
       "50%      3.000000   27.000000    0.000000    0.000000   14.454200\n",
       "75%      3.000000   39.000000    1.000000    0.000000   31.500000\n",
       "max      3.000000   76.000000    8.000000    9.000000  512.329200"
      ]
     },
     "execution_count": 13,
     "metadata": {},
     "output_type": "execute_result"
    }
   ],
   "source": [
    "# Summary Statistics for testing\n",
    "\n",
    "testing.describe()"
   ]
  },
  {
   "cell_type": "code",
   "execution_count": 14,
   "id": "6982983f",
   "metadata": {
    "execution": {
     "iopub.execute_input": "2023-01-10T12:14:15.463581Z",
     "iopub.status.busy": "2023-01-10T12:14:15.462902Z",
     "iopub.status.idle": "2023-01-10T12:14:15.468207Z",
     "shell.execute_reply": "2023-01-10T12:14:15.467504Z"
    },
    "papermill": {
     "duration": 0.050637,
     "end_time": "2023-01-10T12:14:15.469960",
     "exception": false,
     "start_time": "2023-01-10T12:14:15.419323",
     "status": "completed"
    },
    "tags": []
   },
   "outputs": [],
   "source": [
    "#Subsetting Survivors from Training\n",
    "\n",
    "survived_training = training[training['Survived'] == 1]"
   ]
  },
  {
   "cell_type": "markdown",
   "id": "4d2b4f36",
   "metadata": {
    "papermill": {
     "duration": 0.037624,
     "end_time": "2023-01-10T12:14:15.550179",
     "exception": false,
     "start_time": "2023-01-10T12:14:15.512555",
     "status": "completed"
    },
    "tags": []
   },
   "source": [
    "Passenger Class is currently of type integer. We convert it to categorical type."
   ]
  },
  {
   "cell_type": "code",
   "execution_count": 15,
   "id": "2063f250",
   "metadata": {
    "execution": {
     "iopub.execute_input": "2023-01-10T12:14:15.622771Z",
     "iopub.status.busy": "2023-01-10T12:14:15.621993Z",
     "iopub.status.idle": "2023-01-10T12:14:15.632042Z",
     "shell.execute_reply": "2023-01-10T12:14:15.630642Z"
    },
    "papermill": {
     "duration": 0.048481,
     "end_time": "2023-01-10T12:14:15.634269",
     "exception": false,
     "start_time": "2023-01-10T12:14:15.585788",
     "status": "completed"
    },
    "tags": []
   },
   "outputs": [
    {
     "name": "stdout",
     "output_type": "stream",
     "text": [
      "Survived       int64\n",
      "Pclass      category\n",
      "Name          object\n",
      "Sex           object\n",
      "Age          float64\n",
      "SibSp          int64\n",
      "Parch          int64\n",
      "Ticket        object\n",
      "Fare         float64\n",
      "Cabin         object\n",
      "Embarked      object\n",
      "dtype: object\n",
      "\n",
      "\n",
      "* * * * * * * * * * * * * * * * * * * * \n",
      "\n",
      "\n",
      "Pclass      category\n",
      "Name          object\n",
      "Sex           object\n",
      "Age          float64\n",
      "SibSp          int64\n",
      "Parch          int64\n",
      "Ticket        object\n",
      "Fare         float64\n",
      "Cabin         object\n",
      "Embarked      object\n",
      "dtype: object\n"
     ]
    }
   ],
   "source": [
    "training['Pclass'] = training['Pclass'].astype('category')\n",
    "testing['Pclass'] = testing['Pclass'].astype('category')\n",
    "\n",
    "print(training.dtypes)\n",
    "lineOfStars()\n",
    "print(testing.dtypes)"
   ]
  },
  {
   "cell_type": "markdown",
   "id": "78371902",
   "metadata": {
    "papermill": {
     "duration": 0.035979,
     "end_time": "2023-01-10T12:14:15.706637",
     "exception": false,
     "start_time": "2023-01-10T12:14:15.670658",
     "status": "completed"
    },
    "tags": []
   },
   "source": [
    "# **Feauture Analysis**\n",
    "\n",
    "Our categorical data our : Sex, Pclass, and Embarked.\n",
    "\n",
    "**Sex**"
   ]
  },
  {
   "cell_type": "code",
   "execution_count": 16,
   "id": "32bb6c9f",
   "metadata": {
    "execution": {
     "iopub.execute_input": "2023-01-10T12:14:15.778624Z",
     "iopub.status.busy": "2023-01-10T12:14:15.778053Z",
     "iopub.status.idle": "2023-01-10T12:14:15.786517Z",
     "shell.execute_reply": "2023-01-10T12:14:15.785581Z"
    },
    "papermill": {
     "duration": 0.046304,
     "end_time": "2023-01-10T12:14:15.788389",
     "exception": false,
     "start_time": "2023-01-10T12:14:15.742085",
     "status": "completed"
    },
    "tags": []
   },
   "outputs": [
    {
     "name": "stdout",
     "output_type": "stream",
     "text": [
      "Training\n",
      "male      0.647587\n",
      "female    0.352413\n",
      "Name: Sex, dtype: float64\n",
      "\n",
      "\n",
      "* * * * * * * * * * * * * * * * * * * * \n",
      "\n",
      "\n",
      "Testing\n",
      "male      0.636364\n",
      "female    0.363636\n",
      "Name: Sex, dtype: float64\n"
     ]
    }
   ],
   "source": [
    "#Value Counts in the sex column.\n",
    "\n",
    "print('Training')\n",
    "\n",
    "print(training['Sex'].value_counts(normalize = True))\n",
    "\n",
    "lineOfStars()\n",
    "\n",
    "print('Testing')\n",
    "\n",
    "print(testing['Sex'].value_counts(normalize = True))"
   ]
  },
  {
   "cell_type": "markdown",
   "id": "94e9e174",
   "metadata": {
    "papermill": {
     "duration": 0.033562,
     "end_time": "2023-01-10T12:14:15.857067",
     "exception": false,
     "start_time": "2023-01-10T12:14:15.823505",
     "status": "completed"
    },
    "tags": []
   },
   "source": [
    "We can see that in both sets, males make up roughly 64% of the passengers.\n",
    "\n",
    "Does Sex give an indication of chance of survival?"
   ]
  },
  {
   "cell_type": "code",
   "execution_count": 17,
   "id": "1d7fdc84",
   "metadata": {
    "execution": {
     "iopub.execute_input": "2023-01-10T12:14:15.928330Z",
     "iopub.status.busy": "2023-01-10T12:14:15.927728Z",
     "iopub.status.idle": "2023-01-10T12:14:16.180325Z",
     "shell.execute_reply": "2023-01-10T12:14:16.179194Z"
    },
    "papermill": {
     "duration": 0.291193,
     "end_time": "2023-01-10T12:14:16.182807",
     "exception": false,
     "start_time": "2023-01-10T12:14:15.891614",
     "status": "completed"
    },
    "tags": []
   },
   "outputs": [
    {
     "data": {
      "image/png": "[encoded data removed]",
      "text/plain": [
       "<Figure size 432x288 with 2 Axes>"
      ]
     },
     "metadata": {
      "needs_background": "light"
     },
     "output_type": "display_data"
    }
   ],
   "source": [
    "fig, ax = plt.subplots(1,2)\n",
    "\n",
    "sns.barplot(data = training, x = 'Sex', y = 'Survived', ci=None, ax = ax[0])\n",
    "ax[0].set_ylabel('Probability of Survival')\n",
    "ax[0].set_title('Probability of Survival by Gender')\n",
    "\n",
    "\n",
    "sns.countplot(data = training, x = 'Sex', hue = 'Survived', ax = ax[1])\n",
    "ax[1].set_ylabel('# of Passengers')\n",
    "ax[1].set_title('# of Survivors by Sex')\n",
    "\n",
    "fig.suptitle('Survival And Sex')\n",
    "plt.tight_layout()\n",
    "plt.show()"
   ]
  },
  {
   "cell_type": "code",
   "execution_count": 18,
   "id": "8df2b38e",
   "metadata": {
    "execution": {
     "iopub.execute_input": "2023-01-10T12:14:16.257015Z",
     "iopub.status.busy": "2023-01-10T12:14:16.256444Z",
     "iopub.status.idle": "2023-01-10T12:14:16.270199Z",
     "shell.execute_reply": "2023-01-10T12:14:16.269018Z"
    },
    "papermill": {
     "duration": 0.052349,
     "end_time": "2023-01-10T12:14:16.272332",
     "exception": false,
     "start_time": "2023-01-10T12:14:16.219983",
     "status": "completed"
    },
    "tags": []
   },
   "outputs": [
    {
     "data": {
      "text/html": [
       "<div>\n",
       "<style scoped>\n",
       "    .dataframe tbody tr th:only-of-type {\n",
       "        vertical-align: middle;\n",
       "    }\n",
       "\n",
       "    .dataframe tbody tr th {\n",
       "        vertical-align: top;\n",
       "    }\n",
       "\n",
       "    .dataframe thead th {\n",
       "        text-align: right;\n",
       "    }\n",
       "</style>\n",
       "<table border=\"1\" class=\"dataframe\">\n",
       "  <thead>\n",
       "    <tr style=\"text-align: right;\">\n",
       "      <th></th>\n",
       "      <th>Survived</th>\n",
       "    </tr>\n",
       "    <tr>\n",
       "      <th>Sex</th>\n",
       "      <th></th>\n",
       "    </tr>\n",
       "  </thead>\n",
       "  <tbody>\n",
       "    <tr>\n",
       "      <th>female</th>\n",
       "      <td>0.742038</td>\n",
       "    </tr>\n",
       "    <tr>\n",
       "      <th>male</th>\n",
       "      <td>0.188908</td>\n",
       "    </tr>\n",
       "  </tbody>\n",
       "</table>\n",
       "</div>"
      ],
      "text/plain": [
       "        Survived\n",
       "Sex             \n",
       "female  0.742038\n",
       "male    0.188908"
      ]
     },
     "execution_count": 18,
     "metadata": {},
     "output_type": "execute_result"
    }
   ],
   "source": [
    "#Probability of survival per Sex\n",
    "training[['Sex','Survived']].groupby('Sex').mean()"
   ]
  },
  {
   "cell_type": "markdown",
   "id": "d5f4ee8e",
   "metadata": {
    "papermill": {
     "duration": 0.03459,
     "end_time": "2023-01-10T12:14:16.341954",
     "exception": false,
     "start_time": "2023-01-10T12:14:16.307364",
     "status": "completed"
    },
    "tags": []
   },
   "source": [
    "74% of females survived while only 18% of males survived."
   ]
  },
  {
   "cell_type": "code",
   "execution_count": 19,
   "id": "b176b4bb",
   "metadata": {
    "execution": {
     "iopub.execute_input": "2023-01-10T12:14:16.416501Z",
     "iopub.status.busy": "2023-01-10T12:14:16.415774Z",
     "iopub.status.idle": "2023-01-10T12:14:16.424226Z",
     "shell.execute_reply": "2023-01-10T12:14:16.423056Z"
    },
    "papermill": {
     "duration": 0.047727,
     "end_time": "2023-01-10T12:14:16.426219",
     "exception": false,
     "start_time": "2023-01-10T12:14:16.378492",
     "status": "completed"
    },
    "tags": []
   },
   "outputs": [
    {
     "data": {
      "text/plain": [
       "female    0.681287\n",
       "male      0.318713\n",
       "Name: Sex, dtype: float64"
      ]
     },
     "execution_count": 19,
     "metadata": {},
     "output_type": "execute_result"
    }
   ],
   "source": [
    "#Probability of being a certain Sex if you survived\n",
    "survived_training['Sex'].value_counts(normalize = True)"
   ]
  },
  {
   "cell_type": "markdown",
   "id": "4af61ddc",
   "metadata": {
    "papermill": {
     "duration": 0.035665,
     "end_time": "2023-01-10T12:14:16.497113",
     "exception": false,
     "start_time": "2023-01-10T12:14:16.461448",
     "status": "completed"
    },
    "tags": []
   },
   "source": [
    "Even though males made up 64% of the passengers, they only made up 31% of the survivors. You were more likely to survive if you were female.\n",
    "\n",
    "Sex appears to be a good indicator of survival.\n",
    "\n",
    "**Pclass**\n",
    "\n",
    "How many people are in each class?"
   ]
  },
  {
   "cell_type": "code",
   "execution_count": 20,
   "id": "3f81fd9e",
   "metadata": {
    "execution": {
     "iopub.execute_input": "2023-01-10T12:14:16.568804Z",
     "iopub.status.busy": "2023-01-10T12:14:16.568398Z",
     "iopub.status.idle": "2023-01-10T12:14:16.577784Z",
     "shell.execute_reply": "2023-01-10T12:14:16.576619Z"
    },
    "papermill": {
     "duration": 0.048008,
     "end_time": "2023-01-10T12:14:16.579578",
     "exception": false,
     "start_time": "2023-01-10T12:14:16.531570",
     "status": "completed"
    },
    "tags": []
   },
   "outputs": [
    {
     "name": "stdout",
     "output_type": "stream",
     "text": [
      "3    0.551066\n",
      "1    0.242424\n",
      "2    0.206510\n",
      "Name: Pclass, dtype: float64\n"
     ]
    }
   ],
   "source": [
    "# Value Counts of Passenger Class\n",
    "\n",
    "print(training['Pclass'].value_counts(normalize = True))"
   ]
  },
  {
   "cell_type": "code",
   "execution_count": 21,
   "id": "de7ed9f4",
   "metadata": {
    "execution": {
     "iopub.execute_input": "2023-01-10T12:14:16.650970Z",
     "iopub.status.busy": "2023-01-10T12:14:16.649808Z",
     "iopub.status.idle": "2023-01-10T12:14:16.756831Z",
     "shell.execute_reply": "2023-01-10T12:14:16.756012Z"
    },
    "papermill": {
     "duration": 0.144723,
     "end_time": "2023-01-10T12:14:16.758969",
     "exception": false,
     "start_time": "2023-01-10T12:14:16.614246",
     "status": "completed"
    },
    "tags": []
   },
   "outputs": [
    {
     "data": {
      "image/png": "[encoded data removed]",
      "text/plain": [
       "<Figure size 432x288 with 1 Axes>"
      ]
     },
     "metadata": {
      "needs_background": "light"
     },
     "output_type": "display_data"
    }
   ],
   "source": [
    "sns.countplot(data = training, x = 'Pclass')\n",
    "plt.title('# of Passengers per Class')\n",
    "plt.show()"
   ]
  },
  {
   "cell_type": "markdown",
   "id": "c73a1123",
   "metadata": {
    "papermill": {
     "duration": 0.035596,
     "end_time": "2023-01-10T12:14:16.839634",
     "exception": false,
     "start_time": "2023-01-10T12:14:16.804038",
     "status": "completed"
    },
    "tags": []
   },
   "source": [
    "We see that 3rd class made up 55% of passengers, 24% made up 2nd class, and 20% made up 1st class.\n",
    "\n",
    "Does class give an indication of survival?"
   ]
  },
  {
   "cell_type": "code",
   "execution_count": 22,
   "id": "5e622430",
   "metadata": {
    "execution": {
     "iopub.execute_input": "2023-01-10T12:14:16.915605Z",
     "iopub.status.busy": "2023-01-10T12:14:16.914745Z",
     "iopub.status.idle": "2023-01-10T12:14:17.164775Z",
     "shell.execute_reply": "2023-01-10T12:14:17.163932Z"
    },
    "papermill": {
     "duration": 0.289567,
     "end_time": "2023-01-10T12:14:17.166543",
     "exception": false,
     "start_time": "2023-01-10T12:14:16.876976",
     "status": "completed"
    },
    "tags": []
   },
   "outputs": [
    {
     "data": {
      "image/png": "[encoded data removed]",
      "text/plain": [
       "<Figure size 432x288 with 2 Axes>"
      ]
     },
     "metadata": {
      "needs_background": "light"
     },
     "output_type": "display_data"
    }
   ],
   "source": [
    "fig, ax = plt.subplots(1,2)\n",
    "\n",
    "sns.barplot(data = training, x = 'Pclass', y = 'Survived', ci=None, ax = ax[0])\n",
    "ax[0].set_ylabel('Probability of Survival')\n",
    "ax[0].set_title('Prob of Survival by Class')\n",
    "\n",
    "\n",
    "sns.countplot(data = training, x = 'Pclass', hue = 'Survived', ax = ax[1])\n",
    "ax[1].set_ylabel('# of Passengers')\n",
    "ax[1].set_title('# of Survivors by Class')\n",
    "\n",
    "fig.suptitle('Survival And Passenger Class')\n",
    "plt.tight_layout()\n",
    "plt.show()"
   ]
  },
  {
   "cell_type": "code",
   "execution_count": 23,
   "id": "14baad48",
   "metadata": {
    "execution": {
     "iopub.execute_input": "2023-01-10T12:14:17.239952Z",
     "iopub.status.busy": "2023-01-10T12:14:17.239095Z",
     "iopub.status.idle": "2023-01-10T12:14:17.250045Z",
     "shell.execute_reply": "2023-01-10T12:14:17.249396Z"
    },
    "papermill": {
     "duration": 0.049653,
     "end_time": "2023-01-10T12:14:17.251743",
     "exception": false,
     "start_time": "2023-01-10T12:14:17.202090",
     "status": "completed"
    },
    "tags": []
   },
   "outputs": [
    {
     "data": {
      "text/html": [
       "<div>\n",
       "<style scoped>\n",
       "    .dataframe tbody tr th:only-of-type {\n",
       "        vertical-align: middle;\n",
       "    }\n",
       "\n",
       "    .dataframe tbody tr th {\n",
       "        vertical-align: top;\n",
       "    }\n",
       "\n",
       "    .dataframe thead th {\n",
       "        text-align: right;\n",
       "    }\n",
       "</style>\n",
       "<table border=\"1\" class=\"dataframe\">\n",
       "  <thead>\n",
       "    <tr style=\"text-align: right;\">\n",
       "      <th></th>\n",
       "      <th>Survived</th>\n",
       "    </tr>\n",
       "    <tr>\n",
       "      <th>Pclass</th>\n",
       "      <th></th>\n",
       "    </tr>\n",
       "  </thead>\n",
       "  <tbody>\n",
       "    <tr>\n",
       "      <th>1</th>\n",
       "      <td>0.629630</td>\n",
       "    </tr>\n",
       "    <tr>\n",
       "      <th>2</th>\n",
       "      <td>0.472826</td>\n",
       "    </tr>\n",
       "    <tr>\n",
       "      <th>3</th>\n",
       "      <td>0.242363</td>\n",
       "    </tr>\n",
       "  </tbody>\n",
       "</table>\n",
       "</div>"
      ],
      "text/plain": [
       "        Survived\n",
       "Pclass          \n",
       "1       0.629630\n",
       "2       0.472826\n",
       "3       0.242363"
      ]
     },
     "execution_count": 23,
     "metadata": {},
     "output_type": "execute_result"
    }
   ],
   "source": [
    "#Probability of survival per Class\n",
    "training[['Pclass','Survived']].groupby('Pclass').mean()"
   ]
  },
  {
   "cell_type": "markdown",
   "id": "7d9970ba",
   "metadata": {
    "papermill": {
     "duration": 0.035864,
     "end_time": "2023-01-10T12:14:17.323258",
     "exception": false,
     "start_time": "2023-01-10T12:14:17.287394",
     "status": "completed"
    },
    "tags": []
   },
   "source": [
    "We see that 62% of 1st Class survives, 47% of 2nd Class survived, and 24% of 3rd class survived."
   ]
  },
  {
   "cell_type": "code",
   "execution_count": 24,
   "id": "9bcb1aff",
   "metadata": {
    "execution": {
     "iopub.execute_input": "2023-01-10T12:14:17.395236Z",
     "iopub.status.busy": "2023-01-10T12:14:17.394655Z",
     "iopub.status.idle": "2023-01-10T12:14:17.401504Z",
     "shell.execute_reply": "2023-01-10T12:14:17.400828Z"
    },
    "papermill": {
     "duration": 0.044797,
     "end_time": "2023-01-10T12:14:17.403138",
     "exception": false,
     "start_time": "2023-01-10T12:14:17.358341",
     "status": "completed"
    },
    "tags": []
   },
   "outputs": [
    {
     "data": {
      "text/plain": [
       "1    0.397661\n",
       "3    0.347953\n",
       "2    0.254386\n",
       "Name: Pclass, dtype: float64"
      ]
     },
     "execution_count": 24,
     "metadata": {},
     "output_type": "execute_result"
    }
   ],
   "source": [
    "#Probability of being a certain Class if you survived\n",
    "survived_training['Pclass'].value_counts(normalize = True)"
   ]
  },
  {
   "cell_type": "markdown",
   "id": "8924fca4",
   "metadata": {
    "papermill": {
     "duration": 0.091562,
     "end_time": "2023-01-10T12:14:17.532030",
     "exception": false,
     "start_time": "2023-01-10T12:14:17.440468",
     "status": "completed"
    },
    "tags": []
   },
   "source": [
    "Even though 3rd class made up 55% of all passengers, they only made up 34% of all survivors. The majority of survivors were from 1st class.\n",
    "\n",
    "What if we look at Class and Sex?"
   ]
  },
  {
   "cell_type": "code",
   "execution_count": 25,
   "id": "6b70e393",
   "metadata": {
    "execution": {
     "iopub.execute_input": "2023-01-10T12:14:17.604767Z",
     "iopub.status.busy": "2023-01-10T12:14:17.604407Z",
     "iopub.status.idle": "2023-01-10T12:14:17.759226Z",
     "shell.execute_reply": "2023-01-10T12:14:17.758534Z"
    },
    "papermill": {
     "duration": 0.19359,
     "end_time": "2023-01-10T12:14:17.761022",
     "exception": false,
     "start_time": "2023-01-10T12:14:17.567432",
     "status": "completed"
    },
    "tags": []
   },
   "outputs": [
    {
     "data": {
      "image/png": "[encoded data removed]",
      "text/plain": [
       "<Figure size 432x288 with 1 Axes>"
      ]
     },
     "metadata": {
      "needs_background": "light"
     },
     "output_type": "display_data"
    }
   ],
   "source": [
    "sns.barplot(data = training, x = 'Pclass', y = 'Survived', hue = 'Sex', ci = None)\n",
    "plt.ylabel('Probability of Survival')\n",
    "plt.title('Probability of Survival by Class and Gender')\n",
    "plt.axhline(0.9, c = 'red', linestyle = '--', label = '90%', linewidth = 3.0)\n",
    "plt.legend()\n",
    "plt.show()"
   ]
  },
  {
   "cell_type": "markdown",
   "id": "457eaa07",
   "metadata": {
    "papermill": {
     "duration": 0.036494,
     "end_time": "2023-01-10T12:14:17.833668",
     "exception": false,
     "start_time": "2023-01-10T12:14:17.797174",
     "status": "completed"
    },
    "tags": []
   },
   "source": [
    "The above shows that if you were female, if you were from 1st or 2nd class, you had over a 90% chance of survival."
   ]
  },
  {
   "cell_type": "markdown",
   "id": "f990d83b",
   "metadata": {
    "papermill": {
     "duration": 0.035391,
     "end_time": "2023-01-10T12:14:17.906404",
     "exception": false,
     "start_time": "2023-01-10T12:14:17.871013",
     "status": "completed"
    },
    "tags": []
   },
   "source": [
    "**Embarked**\n",
    "\n",
    "How many people embarked from each destination? We do not ignore the NONE entries. "
   ]
  },
  {
   "cell_type": "code",
   "execution_count": 26,
   "id": "e31c1c9d",
   "metadata": {
    "execution": {
     "iopub.execute_input": "2023-01-10T12:14:17.980612Z",
     "iopub.status.busy": "2023-01-10T12:14:17.980230Z",
     "iopub.status.idle": "2023-01-10T12:14:17.989176Z",
     "shell.execute_reply": "2023-01-10T12:14:17.988072Z"
    },
    "papermill": {
     "duration": 0.049796,
     "end_time": "2023-01-10T12:14:17.991925",
     "exception": false,
     "start_time": "2023-01-10T12:14:17.942129",
     "status": "completed"
    },
    "tags": []
   },
   "outputs": [
    {
     "name": "stdout",
     "output_type": "stream",
     "text": [
      "Training\n",
      "S      0.722783\n",
      "C      0.188552\n",
      "Q      0.086420\n",
      "NaN    0.002245\n",
      "Name: Embarked, dtype: float64\n",
      "\n",
      "\n",
      "* * * * * * * * * * * * * * * * * * * * \n",
      "\n",
      "\n",
      "Testing\n",
      "S    0.645933\n",
      "C    0.244019\n",
      "Q    0.110048\n",
      "Name: Embarked, dtype: float64\n"
     ]
    }
   ],
   "source": [
    "#Value Counts in the sex column.\n",
    "\n",
    "print('Training')\n",
    "\n",
    "print(training['Embarked'].value_counts(normalize = True, dropna = False))\n",
    "\n",
    "lineOfStars()\n",
    "\n",
    "print('Testing')\n",
    "\n",
    "print(testing['Embarked'].value_counts(normalize = True))"
   ]
  },
  {
   "cell_type": "code",
   "execution_count": 27,
   "id": "fcb1fcde",
   "metadata": {
    "execution": {
     "iopub.execute_input": "2023-01-10T12:14:18.066594Z",
     "iopub.status.busy": "2023-01-10T12:14:18.066226Z",
     "iopub.status.idle": "2023-01-10T12:14:18.187439Z",
     "shell.execute_reply": "2023-01-10T12:14:18.186639Z"
    },
    "papermill": {
     "duration": 0.160872,
     "end_time": "2023-01-10T12:14:18.189411",
     "exception": false,
     "start_time": "2023-01-10T12:14:18.028539",
     "status": "completed"
    },
    "tags": []
   },
   "outputs": [
    {
     "data": {
      "image/png": "[encoded data removed]",
      "text/plain": [
       "<Figure size 432x288 with 1 Axes>"
      ]
     },
     "metadata": {
      "needs_background": "light"
     },
     "output_type": "display_data"
    }
   ],
   "source": [
    "ax = sns.countplot(data = training, x = 'Embarked')\n",
    "ax.set_title('# of Passengers per Embarkment Destination')\n",
    "ax.set(xticklabels=[\"Southampton\", \"Cherbourg\", \"Queenstown\"])\n",
    "plt.show()"
   ]
  },
  {
   "cell_type": "markdown",
   "id": "bfc8caaa",
   "metadata": {
    "papermill": {
     "duration": 0.036359,
     "end_time": "2023-01-10T12:14:18.268406",
     "exception": false,
     "start_time": "2023-01-10T12:14:18.232047",
     "status": "completed"
    },
    "tags": []
   },
   "source": [
    "We see that Southampton was the most common disembarkment destination. 72% of passengers left from here."
   ]
  },
  {
   "cell_type": "code",
   "execution_count": 28,
   "id": "fe93fbc1",
   "metadata": {
    "execution": {
     "iopub.execute_input": "2023-01-10T12:14:18.345637Z",
     "iopub.status.busy": "2023-01-10T12:14:18.344667Z",
     "iopub.status.idle": "2023-01-10T12:14:18.604159Z",
     "shell.execute_reply": "2023-01-10T12:14:18.602887Z"
    },
    "papermill": {
     "duration": 0.301542,
     "end_time": "2023-01-10T12:14:18.606560",
     "exception": false,
     "start_time": "2023-01-10T12:14:18.305018",
     "status": "completed"
    },
    "tags": []
   },
   "outputs": [
    {
     "data": {
      "image/png": "[encoded data removed]",
      "text/plain": [
       "<Figure size 432x288 with 2 Axes>"
      ]
     },
     "metadata": {
      "needs_background": "light"
     },
     "output_type": "display_data"
    }
   ],
   "source": [
    "fig, ax = plt.subplots(1,2)\n",
    "\n",
    "sns.barplot(data = training, x = 'Embarked', y = 'Survived', ci=None, ax = ax[0])\n",
    "ax[0].set_ylabel('Probability of Survival')\n",
    "ax[0].set_title('Prob of Survival by Embarkment')\n",
    "ax[0].set(xticklabels=[\"Southampton\", \"Cherbourg\", \"Queenstown\"])\n",
    "ax[0].tick_params(axis='x', rotation=30)\n",
    "\n",
    "\n",
    "sns.countplot(data = training, x = 'Embarked', hue = 'Survived', ax = ax[1])\n",
    "ax[1].set_ylabel('# of Passengers')\n",
    "ax[1].set_title('# of Survivors by Embarkment')\n",
    "ax[1].set(xticklabels=[\"Southampton\", \"Cherbourg\", \"Queenstown\"])\n",
    "ax[1].tick_params(axis='x', rotation=30)\n",
    "\n",
    "\n",
    "fig.suptitle('Survival And Embarkment')\n",
    "plt.tight_layout()\n",
    "plt.show()"
   ]
  },
  {
   "cell_type": "code",
   "execution_count": 29,
   "id": "bd296478",
   "metadata": {
    "execution": {
     "iopub.execute_input": "2023-01-10T12:14:18.683502Z",
     "iopub.status.busy": "2023-01-10T12:14:18.683118Z",
     "iopub.status.idle": "2023-01-10T12:14:18.696461Z",
     "shell.execute_reply": "2023-01-10T12:14:18.695467Z"
    },
    "papermill": {
     "duration": 0.053907,
     "end_time": "2023-01-10T12:14:18.698211",
     "exception": false,
     "start_time": "2023-01-10T12:14:18.644304",
     "status": "completed"
    },
    "tags": []
   },
   "outputs": [
    {
     "data": {
      "text/html": [
       "<div>\n",
       "<style scoped>\n",
       "    .dataframe tbody tr th:only-of-type {\n",
       "        vertical-align: middle;\n",
       "    }\n",
       "\n",
       "    .dataframe tbody tr th {\n",
       "        vertical-align: top;\n",
       "    }\n",
       "\n",
       "    .dataframe thead th {\n",
       "        text-align: right;\n",
       "    }\n",
       "</style>\n",
       "<table border=\"1\" class=\"dataframe\">\n",
       "  <thead>\n",
       "    <tr style=\"text-align: right;\">\n",
       "      <th></th>\n",
       "      <th>Survived</th>\n",
       "    </tr>\n",
       "    <tr>\n",
       "      <th>Embarked</th>\n",
       "      <th></th>\n",
       "    </tr>\n",
       "  </thead>\n",
       "  <tbody>\n",
       "    <tr>\n",
       "      <th>C</th>\n",
       "      <td>0.553571</td>\n",
       "    </tr>\n",
       "    <tr>\n",
       "      <th>Q</th>\n",
       "      <td>0.389610</td>\n",
       "    </tr>\n",
       "    <tr>\n",
       "      <th>S</th>\n",
       "      <td>0.336957</td>\n",
       "    </tr>\n",
       "  </tbody>\n",
       "</table>\n",
       "</div>"
      ],
      "text/plain": [
       "          Survived\n",
       "Embarked          \n",
       "C         0.553571\n",
       "Q         0.389610\n",
       "S         0.336957"
      ]
     },
     "execution_count": 29,
     "metadata": {},
     "output_type": "execute_result"
    }
   ],
   "source": [
    "#Probability of survival per Embarkment\n",
    "training[['Embarked','Survived']].groupby('Embarked').mean()"
   ]
  },
  {
   "cell_type": "markdown",
   "id": "4bae3d66",
   "metadata": {
    "papermill": {
     "duration": 0.036801,
     "end_time": "2023-01-10T12:14:18.773044",
     "exception": false,
     "start_time": "2023-01-10T12:14:18.736243",
     "status": "completed"
    },
    "tags": []
   },
   "source": [
    "We see that if you embarked from Cherbourg, you had a 55% chance of survival. Embarking from the remaining to destinations had less tham 39% of survival."
   ]
  },
  {
   "cell_type": "code",
   "execution_count": 30,
   "id": "15c0afe3",
   "metadata": {
    "execution": {
     "iopub.execute_input": "2023-01-10T12:14:18.850158Z",
     "iopub.status.busy": "2023-01-10T12:14:18.849368Z",
     "iopub.status.idle": "2023-01-10T12:14:18.859662Z",
     "shell.execute_reply": "2023-01-10T12:14:18.858524Z"
    },
    "papermill": {
     "duration": 0.051936,
     "end_time": "2023-01-10T12:14:18.862200",
     "exception": false,
     "start_time": "2023-01-10T12:14:18.810264",
     "status": "completed"
    },
    "tags": []
   },
   "outputs": [
    {
     "data": {
      "text/plain": [
       "S    0.638235\n",
       "C    0.273529\n",
       "Q    0.088235\n",
       "Name: Embarked, dtype: float64"
      ]
     },
     "execution_count": 30,
     "metadata": {},
     "output_type": "execute_result"
    }
   ],
   "source": [
    "#Probability of having embarked from a certain destination if you survived\n",
    "survived_training['Embarked'].value_counts(normalize = True)"
   ]
  },
  {
   "cell_type": "markdown",
   "id": "8017c2ea",
   "metadata": {
    "papermill": {
     "duration": 0.037749,
     "end_time": "2023-01-10T12:14:18.939252",
     "exception": false,
     "start_time": "2023-01-10T12:14:18.901503",
     "status": "completed"
    },
    "tags": []
   },
   "source": [
    "Of those that survived, 63% embarked from Southamptom. Cherbourg is overrepresented in survivors. 27% of survivors are from there even though they only make up 19% of the passengers.\n",
    "\n",
    "Is it the case that most first class passengers boarded from Cherbourg?"
   ]
  },
  {
   "cell_type": "code",
   "execution_count": 31,
   "id": "ef86d500",
   "metadata": {
    "execution": {
     "iopub.execute_input": "2023-01-10T12:14:19.018194Z",
     "iopub.status.busy": "2023-01-10T12:14:19.017193Z",
     "iopub.status.idle": "2023-01-10T12:14:19.030927Z",
     "shell.execute_reply": "2023-01-10T12:14:19.029922Z"
    },
    "papermill": {
     "duration": 0.055295,
     "end_time": "2023-01-10T12:14:19.032856",
     "exception": false,
     "start_time": "2023-01-10T12:14:18.977561",
     "status": "completed"
    },
    "tags": []
   },
   "outputs": [
    {
     "data": {
      "text/plain": [
       "Embarked   \n",
       "C         1    0.505952\n",
       "          2    0.101190\n",
       "          3    0.392857\n",
       "Q         1    0.025974\n",
       "          2    0.038961\n",
       "          3    0.935065\n",
       "S         1    0.197205\n",
       "          2    0.254658\n",
       "          3    0.548137\n",
       "Name: Pclass, dtype: float64"
      ]
     },
     "execution_count": 31,
     "metadata": {},
     "output_type": "execute_result"
    }
   ],
   "source": [
    "#% of class perEmarkment\n",
    "training.groupby(['Embarked'])['Pclass'].value_counts(normalize = True,sort = False)"
   ]
  },
  {
   "cell_type": "code",
   "execution_count": 32,
   "id": "e86e992b",
   "metadata": {
    "execution": {
     "iopub.execute_input": "2023-01-10T12:14:19.109764Z",
     "iopub.status.busy": "2023-01-10T12:14:19.109436Z",
     "iopub.status.idle": "2023-01-10T12:14:19.265255Z",
     "shell.execute_reply": "2023-01-10T12:14:19.264447Z"
    },
    "papermill": {
     "duration": 0.197076,
     "end_time": "2023-01-10T12:14:19.267188",
     "exception": false,
     "start_time": "2023-01-10T12:14:19.070112",
     "status": "completed"
    },
    "tags": []
   },
   "outputs": [
    {
     "data": {
      "image/png": "[encoded data removed]",
      "text/plain": [
       "<Figure size 432x288 with 1 Axes>"
      ]
     },
     "metadata": {
      "needs_background": "light"
     },
     "output_type": "display_data"
    }
   ],
   "source": [
    "ax = sns.countplot(data = training, x = 'Embarked', hue = 'Pclass')\n",
    "plt.ylabel('# of Passengers')\n",
    "plt.title('Number of Passengers who Embarked per Class')\n",
    "ax.set(xticklabels=[\"Southampton\", \"Cherbourg\", \"Queenstown\"])\n",
    "plt.legend()\n",
    "plt.show()"
   ]
  },
  {
   "cell_type": "markdown",
   "id": "8b1b8e11",
   "metadata": {
    "papermill": {
     "duration": 0.038119,
     "end_time": "2023-01-10T12:14:19.344496",
     "exception": false,
     "start_time": "2023-01-10T12:14:19.306377",
     "status": "completed"
    },
    "tags": []
   },
   "source": [
    "The above shows that 1st class was the most frequent type of ticket from Cherbourg. 50% of the tickets from there were 1st class. It was the least common ticket from the other two destinations."
   ]
  },
  {
   "cell_type": "markdown",
   "id": "d54bbc14",
   "metadata": {
    "papermill": {
     "duration": 0.03809,
     "end_time": "2023-01-10T12:14:19.420561",
     "exception": false,
     "start_time": "2023-01-10T12:14:19.382471",
     "status": "completed"
    },
    "tags": []
   },
   "source": [
    "**Ticket**\n",
    "\n",
    "Let us try to make sense of the ticket feature."
   ]
  },
  {
   "cell_type": "code",
   "execution_count": 33,
   "id": "2174e1bf",
   "metadata": {
    "execution": {
     "iopub.execute_input": "2023-01-10T12:14:19.501217Z",
     "iopub.status.busy": "2023-01-10T12:14:19.500657Z",
     "iopub.status.idle": "2023-01-10T12:14:19.508177Z",
     "shell.execute_reply": "2023-01-10T12:14:19.507372Z"
    },
    "papermill": {
     "duration": 0.049407,
     "end_time": "2023-01-10T12:14:19.509974",
     "exception": false,
     "start_time": "2023-01-10T12:14:19.460567",
     "status": "completed"
    },
    "tags": []
   },
   "outputs": [
    {
     "name": "stdout",
     "output_type": "stream",
     "text": [
      "There are 681 ticket numbers.\n"
     ]
    },
    {
     "data": {
      "text/plain": [
       "False"
      ]
     },
     "execution_count": 33,
     "metadata": {},
     "output_type": "execute_result"
    }
   ],
   "source": [
    "#Are all ticket numbers unique?\n",
    "print('There are %d ticket numbers.' % len(training['Ticket'].unique()))\n",
    "len(training['Ticket'].unique()) == len(training)"
   ]
  },
  {
   "cell_type": "markdown",
   "id": "d92659b1",
   "metadata": {
    "papermill": {
     "duration": 0.038041,
     "end_time": "2023-01-10T12:14:19.589040",
     "exception": false,
     "start_time": "2023-01-10T12:14:19.550999",
     "status": "completed"
    },
    "tags": []
   },
   "source": [
    "Each person does not have a unique ticket! Which ticket number occurs more than once?"
   ]
  },
  {
   "cell_type": "code",
   "execution_count": 34,
   "id": "1bf09593",
   "metadata": {
    "execution": {
     "iopub.execute_input": "2023-01-10T12:14:19.664123Z",
     "iopub.status.busy": "2023-01-10T12:14:19.663762Z",
     "iopub.status.idle": "2023-01-10T12:14:19.683529Z",
     "shell.execute_reply": "2023-01-10T12:14:19.682456Z"
    },
    "papermill": {
     "duration": 0.059485,
     "end_time": "2023-01-10T12:14:19.685312",
     "exception": false,
     "start_time": "2023-01-10T12:14:19.625827",
     "status": "completed"
    },
    "tags": []
   },
   "outputs": [
    {
     "name": "stdout",
     "output_type": "stream",
     "text": [
      "3          113803\n",
      "7          349909\n",
      "8          347742\n",
      "9          237736\n",
      "10        PP 9549\n",
      "          ...    \n",
      "876          7534\n",
      "879         11767\n",
      "880        230433\n",
      "885        382652\n",
      "888    W./C. 6607\n",
      "Name: Ticket, Length: 344, dtype: object\n"
     ]
    }
   ],
   "source": [
    "#Listing all ticket numbers which are shared by 2 or more people\n",
    "frequentTicket = training.groupby('Ticket')['Ticket'].filter(lambda x : len(x) > 1)\n",
    "print(frequentTicket)"
   ]
  },
  {
   "cell_type": "markdown",
   "id": "179090e8",
   "metadata": {
    "papermill": {
     "duration": 0.037171,
     "end_time": "2023-01-10T12:14:19.760636",
     "exception": false,
     "start_time": "2023-01-10T12:14:19.723465",
     "status": "completed"
    },
    "tags": []
   },
   "source": [
    "It can be seen that several ticket numbers are shared. Is it the case that these are all members of the same family?"
   ]
  },
  {
   "cell_type": "code",
   "execution_count": 35,
   "id": "ef15a726",
   "metadata": {
    "execution": {
     "iopub.execute_input": "2023-01-10T12:14:19.837401Z",
     "iopub.status.busy": "2023-01-10T12:14:19.836687Z",
     "iopub.status.idle": "2023-01-10T12:14:20.339398Z",
     "shell.execute_reply": "2023-01-10T12:14:20.338515Z"
    },
    "papermill": {
     "duration": 0.544996,
     "end_time": "2023-01-10T12:14:20.342759",
     "exception": false,
     "start_time": "2023-01-10T12:14:19.797763",
     "status": "completed"
    },
    "tags": []
   },
   "outputs": [
    {
     "name": "stdout",
     "output_type": "stream",
     "text": [
      "113803\n",
      "                                             Name   Age  SibSp  Parch  Fare  \\\n",
      "3    Futrelle, Mrs. Jacques Heath (Lily May Peel)  35.0      1      0  53.1   \n",
      "137                   Futrelle, Mr. Jacques Heath  37.0      1      0  53.1   \n",
      "\n",
      "    Cabin Embarked  \n",
      "3    C123        S  \n",
      "137  C123        S  \n",
      "\n",
      "\n",
      "* * * * * * * * * * * * * * * * * * * * \n",
      "\n",
      "\n",
      "349909\n",
      "                                            Name   Age  SibSp  Parch    Fare  \\\n",
      "7                 Palsson, Master. Gosta Leonard   2.0      3      1  21.075   \n",
      "24                 Palsson, Miss. Torborg Danira   8.0      3      1  21.075   \n",
      "374                   Palsson, Miss. Stina Viola   3.0      3      1  21.075   \n",
      "567  Palsson, Mrs. Nils (Alma Cornelia Berglund)  29.0      0      4  21.075   \n",
      "\n",
      "    Cabin Embarked  \n",
      "7     NaN        S  \n",
      "24    NaN        S  \n",
      "374   NaN        S  \n",
      "567   NaN        S  \n",
      "\n",
      "\n",
      "* * * * * * * * * * * * * * * * * * * * \n",
      "\n",
      "\n",
      "347742\n",
      "                                                  Name   Age  SibSp  Parch  \\\n",
      "8    Johnson, Mrs. Oscar W (Elisabeth Vilhelmina Berg)  27.0      0      2   \n",
      "172                       Johnson, Miss. Eleanor Ileen   1.0      1      1   \n",
      "869                    Johnson, Master. Harold Theodor   4.0      1      1   \n",
      "\n",
      "        Fare Cabin Embarked  \n",
      "8    11.1333   NaN        S  \n",
      "172  11.1333   NaN        S  \n",
      "869  11.1333   NaN        S  \n",
      "\n",
      "\n",
      "* * * * * * * * * * * * * * * * * * * * \n",
      "\n",
      "\n",
      "237736\n",
      "                                    Name   Age  SibSp  Parch     Fare Cabin  \\\n",
      "9    Nasser, Mrs. Nicholas (Adele Achem)  14.0      1      0  30.0708   NaN   \n",
      "122                 Nasser, Mr. Nicholas  32.5      1      0  30.0708   NaN   \n",
      "\n",
      "    Embarked  \n",
      "9          C  \n",
      "122        C  \n",
      "\n",
      "\n",
      "* * * * * * * * * * * * * * * * * * * * \n",
      "\n",
      "\n",
      "PP 9549\n",
      "                                                  Name   Age  SibSp  Parch  \\\n",
      "10                     Sandstrom, Miss. Marguerite Rut   4.0      1      1   \n",
      "394  Sandstrom, Mrs. Hjalmar (Agnes Charlotta Bengt...  24.0      0      2   \n",
      "\n",
      "     Fare Cabin Embarked  \n",
      "10   16.7    G6        S  \n",
      "394  16.7    G6        S  \n",
      "\n",
      "\n",
      "* * * * * * * * * * * * * * * * * * * * \n",
      "\n",
      "\n",
      "347082\n",
      "                                                  Name   Age  SibSp  Parch  \\\n",
      "13                         Andersson, Mr. Anders Johan  39.0      1      5   \n",
      "119                  Andersson, Miss. Ellis Anna Maria   2.0      4      2   \n",
      "541               Andersson, Miss. Ingeborg Constanzia   9.0      4      2   \n",
      "542                  Andersson, Miss. Sigrid Elisabeth  11.0      4      2   \n",
      "610  Andersson, Mrs. Anders Johan (Alfrida Konstant...  39.0      1      5   \n",
      "813                 Andersson, Miss. Ebba Iris Alfrida   6.0      4      2   \n",
      "850            Andersson, Master. Sigvard Harald Elias   4.0      4      2   \n",
      "\n",
      "       Fare Cabin Embarked  \n",
      "13   31.275   NaN        S  \n",
      "119  31.275   NaN        S  \n",
      "541  31.275   NaN        S  \n",
      "542  31.275   NaN        S  \n",
      "610  31.275   NaN        S  \n",
      "813  31.275   NaN        S  \n",
      "850  31.275   NaN        S  \n",
      "\n",
      "\n",
      "* * * * * * * * * * * * * * * * * * * * \n",
      "\n",
      "\n",
      "382652\n",
      "                                     Name   Age  SibSp  Parch    Fare Cabin  \\\n",
      "16                   Rice, Master. Eugene   2.0      4      1  29.125   NaN   \n",
      "171                  Rice, Master. Arthur   4.0      4      1  29.125   NaN   \n",
      "278                    Rice, Master. Eric   7.0      4      1  29.125   NaN   \n",
      "787             Rice, Master. George Hugh   8.0      4      1  29.125   NaN   \n",
      "885  Rice, Mrs. William (Margaret Norton)  39.0      0      5  29.125   NaN   \n",
      "\n",
      "    Embarked  \n",
      "16         Q  \n",
      "171        Q  \n",
      "278        Q  \n",
      "787        Q  \n",
      "885        Q  \n",
      "\n",
      "\n",
      "* * * * * * * * * * * * * * * * * * * * \n",
      "\n",
      "\n",
      "239865\n",
      "                     Name   Age  SibSp  Parch  Fare Cabin Embarked\n",
      "20   Fynney, Mr. Joseph J  35.0      0      0  26.0   NaN        S\n",
      "791   Gaskell, Mr. Alfred  16.0      0      0  26.0   NaN        S\n",
      "\n",
      "\n",
      "* * * * * * * * * * * * * * * * * * * * \n",
      "\n",
      "\n",
      "347077\n",
      "                                                  Name   Age  SibSp  Parch  \\\n",
      "25   Asplund, Mrs. Carl Oscar (Selma Augusta Emilia...  38.0      1      5   \n",
      "182              Asplund, Master. Clarence Gustaf Hugo   9.0      4      2   \n",
      "233                     Asplund, Miss. Lillian Gertrud   5.0      4      2   \n",
      "261                  Asplund, Master. Edvin Rojj Felix   3.0      4      2   \n",
      "\n",
      "        Fare Cabin Embarked  \n",
      "25   31.3875   NaN        S  \n",
      "182  31.3875   NaN        S  \n",
      "233  31.3875   NaN        S  \n",
      "261  31.3875   NaN        S  \n",
      "\n",
      "\n",
      "* * * * * * * * * * * * * * * * * * * * \n",
      "\n",
      "\n",
      "19950\n",
      "                               Name   Age  SibSp  Parch   Fare        Cabin  \\\n",
      "27   Fortune, Mr. Charles Alexander  19.0      3      2  263.0  C23 C25 C27   \n",
      "88       Fortune, Miss. Mabel Helen  23.0      3      2  263.0  C23 C25 C27   \n",
      "341  Fortune, Miss. Alice Elizabeth  24.0      3      2  263.0  C23 C25 C27   \n",
      "438               Fortune, Mr. Mark  64.0      1      4  263.0  C23 C25 C27   \n",
      "\n",
      "    Embarked  \n",
      "27         S  \n",
      "88         S  \n",
      "341        S  \n",
      "438        S  \n",
      "\n",
      "\n",
      "* * * * * * * * * * * * * * * * * * * * \n",
      "\n",
      "\n",
      "PC 17569\n",
      "                                               Name   Age  SibSp  Parch  \\\n",
      "31   Spencer, Mrs. William Augustus (Marie Eugenie)   NaN      1      0   \n",
      "195                            Lurette, Miss. Elise  58.0      0      0   \n",
      "\n",
      "         Fare Cabin Embarked  \n",
      "31   146.5208   B78        C  \n",
      "195  146.5208   B80        C  \n",
      "\n",
      "\n",
      "* * * * * * * * * * * * * * * * * * * * \n",
      "\n",
      "\n",
      "PC 17604\n",
      "                                      Name   Age  SibSp  Parch     Fare Cabin  \\\n",
      "34                 Meyer, Mr. Edgar Joseph  28.0      1      0  82.1708   NaN   \n",
      "375  Meyer, Mrs. Edgar Joseph (Leila Saks)   NaN      1      0  82.1708   NaN   \n",
      "\n",
      "    Embarked  \n",
      "34         C  \n",
      "375        C  \n",
      "\n",
      "\n",
      "* * * * * * * * * * * * * * * * * * * * \n",
      "\n",
      "\n",
      "113789\n",
      "                                                  Name   Age  SibSp  Parch  \\\n",
      "35                      Holverson, Mr. Alexander Oskar  42.0      1      0   \n",
      "383  Holverson, Mrs. Alexander Oskar (Mary Aline To...  35.0      1      0   \n",
      "\n",
      "     Fare Cabin Embarked  \n",
      "35   52.0   NaN        S  \n",
      "383  52.0   NaN        S  \n",
      "\n",
      "\n",
      "* * * * * * * * * * * * * * * * * * * * \n",
      "\n",
      "\n",
      "345764\n",
      "                                   Name   Age  SibSp  Parch  Fare Cabin  \\\n",
      "38   Vander Planke, Miss. Augusta Maria  18.0      2      0  18.0   NaN   \n",
      "333     Vander Planke, Mr. Leo Edmondus  16.0      2      0  18.0   NaN   \n",
      "\n",
      "    Embarked  \n",
      "38         S  \n",
      "333        S  \n",
      "\n",
      "\n",
      "* * * * * * * * * * * * * * * * * * * * \n",
      "\n",
      "\n",
      "2651\n",
      "                             Name   Age  SibSp  Parch     Fare Cabin Embarked\n",
      "39    Nicola-Yarred, Miss. Jamila  14.0      1      0  11.2417   NaN        C\n",
      "125  Nicola-Yarred, Master. Elias  12.0      1      0  11.2417   NaN        C\n",
      "\n",
      "\n",
      "* * * * * * * * * * * * * * * * * * * * \n",
      "\n",
      "\n",
      "11668\n",
      "                                                  Name   Age  SibSp  Parch  \\\n",
      "41   Turpin, Mrs. William John Robert (Dorothy Ann ...  27.0      1      0   \n",
      "117                    Turpin, Mr. William John Robert  29.0      1      0   \n",
      "\n",
      "     Fare Cabin Embarked  \n",
      "41   21.0   NaN        S  \n",
      "117  21.0   NaN        S  \n",
      "\n",
      "\n",
      "* * * * * * * * * * * * * * * * * * * * \n",
      "\n",
      "\n",
      "SC/Paris 2123\n",
      "                                                  Name   Age  SibSp  Parch  \\\n",
      "43            Laroche, Miss. Simonne Marie Anne Andree   3.0      1      2   \n",
      "608  Laroche, Mrs. Joseph (Juliette Marie Louise La...  22.0      1      2   \n",
      "685             Laroche, Mr. Joseph Philippe Lemercier  25.0      1      2   \n",
      "\n",
      "        Fare Cabin Embarked  \n",
      "43   41.5792   NaN        C  \n",
      "608  41.5792   NaN        C  \n",
      "685  41.5792   NaN        C  \n",
      "\n",
      "\n",
      "* * * * * * * * * * * * * * * * * * * * \n",
      "\n",
      "\n",
      "349237\n",
      "                                              Name   Age  SibSp  Parch  Fare  \\\n",
      "49   Arnold-Franchi, Mrs. Josef (Josefine Franchi)  18.0      1      0  17.8   \n",
      "353                      Arnold-Franchi, Mr. Josef  25.0      1      0  17.8   \n",
      "\n",
      "    Cabin Embarked  \n",
      "49    NaN        S  \n",
      "353   NaN        S  \n",
      "\n",
      "\n",
      "* * * * * * * * * * * * * * * * * * * * \n",
      "\n",
      "\n",
      "3101295\n",
      "                                       Name   Age  SibSp  Parch     Fare  \\\n",
      "50               Panula, Master. Juha Niilo   7.0      4      1  39.6875   \n",
      "164            Panula, Master. Eino Viljami   1.0      4      1  39.6875   \n",
      "266               Panula, Mr. Ernesti Arvid  16.0      4      1  39.6875   \n",
      "638  Panula, Mrs. Juha (Maria Emilia Ojala)  41.0      0      5  39.6875   \n",
      "686                Panula, Mr. Jaako Arnold  14.0      4      1  39.6875   \n",
      "824            Panula, Master. Urho Abraham   2.0      4      1  39.6875   \n",
      "\n",
      "    Cabin Embarked  \n",
      "50    NaN        S  \n",
      "164   NaN        S  \n",
      "266   NaN        S  \n",
      "638   NaN        S  \n",
      "686   NaN        S  \n",
      "824   NaN        S  \n",
      "\n",
      "\n",
      "* * * * * * * * * * * * * * * * * * * * \n",
      "\n",
      "\n",
      "PC 17572\n",
      "                                         Name   Age  SibSp  Parch     Fare  \\\n",
      "52   Harper, Mrs. Henry Sleeper (Myna Haxtun)  49.0      1      0  76.7292   \n",
      "645                 Harper, Mr. Henry Sleeper  48.0      1      0  76.7292   \n",
      "681                        Hassab, Mr. Hammad  27.0      0      0  76.7292   \n",
      "\n",
      "    Cabin Embarked  \n",
      "52    D33        C  \n",
      "645   D33        C  \n",
      "681   D49        C  \n",
      "\n",
      "\n",
      "* * * * * * * * * * * * * * * * * * * * \n",
      "\n",
      "\n",
      "C.A. 34651\n",
      "                                        Name   Age  SibSp  Parch   Fare Cabin  \\\n",
      "58              West, Miss. Constance Mirium   5.0      1      2  27.75   NaN   \n",
      "450                    West, Mr. Edwy Arthur  36.0      1      2  27.75   NaN   \n",
      "472  West, Mrs. Edwy Arthur (Ada Mary Worth)  33.0      1      2  27.75   NaN   \n",
      "\n",
      "    Embarked  \n",
      "58         S  \n",
      "450        S  \n",
      "472        S  \n",
      "\n",
      "\n",
      "* * * * * * * * * * * * * * * * * * * * \n",
      "\n",
      "\n",
      "CA 2144\n",
      "                                        Name   Age  SibSp  Parch  Fare Cabin  \\\n",
      "59        Goodwin, Master. William Frederick  11.0      5      2  46.9   NaN   \n",
      "71                Goodwin, Miss. Lillian Amy  16.0      5      2  46.9   NaN   \n",
      "386          Goodwin, Master. Sidney Leonard   1.0      5      2  46.9   NaN   \n",
      "480           Goodwin, Master. Harold Victor   9.0      5      2  46.9   NaN   \n",
      "678  Goodwin, Mrs. Frederick (Augusta Tyler)  43.0      1      6  46.9   NaN   \n",
      "683              Goodwin, Mr. Charles Edward  14.0      5      2  46.9   NaN   \n",
      "\n",
      "    Embarked  \n",
      "59         S  \n",
      "71         S  \n",
      "386        S  \n",
      "480        S  \n",
      "678        S  \n",
      "683        S  \n",
      "\n",
      "\n",
      "* * * * * * * * * * * * * * * * * * * * \n",
      "\n",
      "\n",
      "113572\n",
      "                                          Name   Age  SibSp  Parch  Fare  \\\n",
      "61                         Icard, Miss. Amelie  38.0      0      0  80.0   \n",
      "829  Stone, Mrs. George Nelson (Martha Evelyn)  62.0      0      0  80.0   \n",
      "\n",
      "    Cabin Embarked  \n",
      "61    B28      NaN  \n",
      "829   B28      NaN  \n",
      "\n",
      "\n",
      "* * * * * * * * * * * * * * * * * * * * \n",
      "\n",
      "\n",
      "36973\n",
      "                                             Name   Age  SibSp  Parch    Fare  \\\n",
      "62                    Harris, Mr. Henry Birkhardt  45.0      1      0  83.475   \n",
      "230  Harris, Mrs. Henry Birkhardt (Irene Wallach)  35.0      1      0  83.475   \n",
      "\n",
      "    Cabin Embarked  \n",
      "62    C83        S  \n",
      "230   C83        S  \n",
      "\n",
      "\n",
      "* * * * * * * * * * * * * * * * * * * * \n",
      "\n",
      "\n",
      "347088\n",
      "                                                Name   Age  SibSp  Parch  \\\n",
      "63                             Skoog, Master. Harald   4.0      3      2   \n",
      "167  Skoog, Mrs. William (Anna Bernhardina Karlsson)  45.0      1      4   \n",
      "360                               Skoog, Mr. Wilhelm  40.0      1      4   \n",
      "634                               Skoog, Miss. Mabel   9.0      3      2   \n",
      "642                    Skoog, Miss. Margit Elizabeth   2.0      3      2   \n",
      "819                     Skoog, Master. Karl Thorsten  10.0      3      2   \n",
      "\n",
      "     Fare Cabin Embarked  \n",
      "63   27.9   NaN        S  \n",
      "167  27.9   NaN        S  \n",
      "360  27.9   NaN        S  \n",
      "634  27.9   NaN        S  \n",
      "642  27.9   NaN        S  \n",
      "819  27.9   NaN        S  \n",
      "\n",
      "\n",
      "* * * * * * * * * * * * * * * * * * * * \n",
      "\n",
      "\n",
      "2661\n",
      "                                                  Name  Age  SibSp  Parch  \\\n",
      "65                            Moubarek, Master. Gerios  NaN      1      1   \n",
      "709  Moubarek, Master. Halim Gonios (\"William George\")  NaN      1      1   \n",
      "\n",
      "        Fare Cabin Embarked  \n",
      "65   15.2458   NaN        C  \n",
      "709  15.2458   NaN        C  \n",
      "\n",
      "\n",
      "* * * * * * * * * * * * * * * * * * * * \n",
      "\n",
      "\n",
      "S.O.C. 14879\n",
      "                            Name   Age  SibSp  Parch  Fare Cabin Embarked\n",
      "72          Hood, Mr. Ambrose Jr  21.0      0      0  73.5   NaN        S\n",
      "120  Hickman, Mr. Stanley George  21.0      2      0  73.5   NaN        S\n",
      "385    Davies, Mr. Charles Henry  18.0      0      0  73.5   NaN        S\n",
      "655    Hickman, Mr. Leonard Mark  24.0      2      0  73.5   NaN        S\n",
      "665           Hickman, Mr. Lewis  32.0      2      0  73.5   NaN        S\n",
      "\n",
      "\n",
      "* * * * * * * * * * * * * * * * * * * * \n",
      "\n",
      "\n",
      "1601\n",
      "                Name   Age  SibSp  Parch     Fare Cabin Embarked\n",
      "74     Bing, Mr. Lee  32.0      0      0  56.4958   NaN        S\n",
      "169    Ling, Mr. Lee  28.0      0      0  56.4958   NaN        S\n",
      "509   Lang, Mr. Fang  26.0      0      0  56.4958   NaN        S\n",
      "643  Foo, Mr. Choong   NaN      0      0  56.4958   NaN        S\n",
      "692     Lam, Mr. Ali   NaN      0      0  56.4958   NaN        S\n",
      "826     Lam, Mr. Len   NaN      0      0  56.4958   NaN        S\n",
      "838  Chip, Mr. Chang  32.0      0      0  56.4958   NaN        S\n",
      "\n",
      "\n",
      "* * * * * * * * * * * * * * * * * * * * \n",
      "\n",
      "\n",
      "248738\n",
      "                                                  Name    Age  SibSp  Parch  \\\n",
      "78                       Caldwell, Master. Alden Gates   0.83      0      2   \n",
      "323  Caldwell, Mrs. Albert Francis (Sylvia Mae Harb...  22.00      1      1   \n",
      "\n",
      "     Fare Cabin Embarked  \n",
      "78   29.0   NaN        S  \n",
      "323  29.0   NaN        S  \n",
      "\n",
      "\n",
      "* * * * * * * * * * * * * * * * * * * * \n",
      "\n",
      "\n",
      "364516\n",
      "                              Name   Age  SibSp  Parch    Fare Cabin Embarked\n",
      "79        Dowdell, Miss. Elizabeth  30.0      0      0  12.475   NaN        S\n",
      "777  Emanuel, Miss. Virginia Ethel   5.0      0      0  12.475   NaN        S\n",
      "\n",
      "\n",
      "* * * * * * * * * * * * * * * * * * * * \n",
      "\n",
      "\n",
      "3101278\n",
      "                                                  Name   Age  SibSp  Parch  \\\n",
      "85   Backstrom, Mrs. Karl Alfred (Maria Mathilda Gu...  33.0      3      0   \n",
      "206                         Backstrom, Mr. Karl Alfred  32.0      1      0   \n",
      "\n",
      "      Fare Cabin Embarked  \n",
      "85   15.85   NaN        S  \n",
      "206  15.85   NaN        S  \n",
      "\n",
      "\n",
      "* * * * * * * * * * * * * * * * * * * * \n",
      "\n",
      "\n",
      "W./C. 6608\n",
      "                                        Name   Age  SibSp  Parch    Fare  \\\n",
      "86                    Ford, Mr. William Neal  16.0      1      3  34.375   \n",
      "147         Ford, Miss. Robina Maggie \"Ruby\"   9.0      2      2  34.375   \n",
      "436     Ford, Miss. Doolina Margaret \"Daisy\"  21.0      2      2  34.375   \n",
      "736  Ford, Mrs. Edward (Margaret Ann Watson)  48.0      1      3  34.375   \n",
      "\n",
      "    Cabin Embarked  \n",
      "86    NaN        S  \n",
      "147   NaN        S  \n",
      "436   NaN        S  \n",
      "736   NaN        S  \n",
      "\n",
      "\n",
      "* * * * * * * * * * * * * * * * * * * * \n",
      "\n",
      "\n",
      "C.A. 2315\n",
      "                           Name   Age  SibSp  Parch    Fare Cabin Embarked\n",
      "93      Dean, Mr. Bertram Frank  26.0      1      2  20.575   NaN        S\n",
      "788  Dean, Master. Bertram Vere   1.0      1      2  20.575   NaN        S\n",
      "\n",
      "\n",
      "* * * * * * * * * * * * * * * * * * * * \n",
      "\n",
      "\n",
      "231919\n",
      "                                     Name   Age  SibSp  Parch  Fare Cabin  \\\n",
      "98   Doling, Mrs. John T (Ada Julia Bone)  34.0      0      1  23.0   NaN   \n",
      "651                   Doling, Miss. Elsie  18.0      0      1  23.0   NaN   \n",
      "\n",
      "    Embarked  \n",
      "98         S  \n",
      "651        S  \n",
      "\n",
      "\n",
      "* * * * * * * * * * * * * * * * * * * * \n",
      "\n",
      "\n",
      "244367\n",
      "                                    Name   Age  SibSp  Parch  Fare Cabin  \\\n",
      "99                     Kantor, Mr. Sinai  34.0      1      0  26.0   NaN   \n",
      "316  Kantor, Mrs. Sinai (Miriam Sternin)  24.0      1      0  26.0   NaN   \n",
      "\n",
      "    Embarked  \n",
      "99         S  \n",
      "316        S  \n",
      "\n",
      "\n",
      "* * * * * * * * * * * * * * * * * * * * \n",
      "\n",
      "\n",
      "35281\n",
      "                            Name   Age  SibSp  Parch     Fare Cabin Embarked\n",
      "102    White, Mr. Richard Frasar  21.0      0      1  77.2875   D26        S\n",
      "124  White, Mr. Percival Wayland  54.0      0      1  77.2875   D26        S\n",
      "\n",
      "\n",
      "* * * * * * * * * * * * * * * * * * * * \n",
      "\n",
      "\n",
      "371110\n",
      "                    Name  Age  SibSp  Parch   Fare Cabin Embarked\n",
      "109  Moran, Miss. Bertha  NaN      1      0  24.15   NaN        Q\n",
      "517    Ryan, Mr. Patrick  NaN      0      0  24.15   NaN        Q\n",
      "768  Moran, Mr. Daniel J  NaN      1      0  24.15   NaN        Q\n",
      "\n",
      "\n",
      "* * * * * * * * * * * * * * * * * * * * \n",
      "\n",
      "\n",
      "110465\n",
      "                               Name   Age  SibSp  Parch  Fare Cabin Embarked\n",
      "110  Porter, Mr. Walter Chamberlain  47.0      0      0  52.0  C110        S\n",
      "475     Clifford, Mr. George Quincy   NaN      0      0  52.0   A14        S\n",
      "\n",
      "\n",
      "* * * * * * * * * * * * * * * * * * * * \n",
      "\n",
      "\n",
      "2665\n",
      "                      Name   Age  SibSp  Parch     Fare Cabin Embarked\n",
      "111   Zabour, Miss. Hileni  14.5      1      0  14.4542   NaN        C\n",
      "240  Zabour, Miss. Thamine   NaN      1      0  14.4542   NaN        C\n",
      "\n",
      "\n",
      "* * * * * * * * * * * * * * * * * * * * \n",
      "\n",
      "\n",
      "2627\n",
      "                      Name   Age  SibSp  Parch     Fare Cabin Embarked\n",
      "114  Attalah, Miss. Malake  17.0      0      0  14.4583   NaN        C\n",
      "495  Yousseff, Mr. Gerious   NaN      0      0  14.4583   NaN        C\n",
      "\n",
      "\n",
      "* * * * * * * * * * * * * * * * * * * * \n",
      "\n",
      "\n",
      "PC 17558\n",
      "                                                Name   Age  SibSp  Parch  \\\n",
      "118                         Baxter, Mr. Quigg Edmond  24.0      0      1   \n",
      "299  Baxter, Mrs. James (Helene DeLaudeniere Chaput)  50.0      0      1   \n",
      "\n",
      "         Fare    Cabin Embarked  \n",
      "118  247.5208  B58 B60        C  \n",
      "299  247.5208  B58 B60        C  \n",
      "\n",
      "\n",
      "* * * * * * * * * * * * * * * * * * * * \n",
      "\n",
      "\n",
      "2668\n",
      "                                       Name  Age  SibSp  Parch     Fare  \\\n",
      "128                       Peter, Miss. Anna  NaN      1      1  22.3583   \n",
      "533  Peter, Mrs. Catherine (Catherine Rizk)  NaN      0      2  22.3583   \n",
      "\n",
      "     Cabin Embarked  \n",
      "128  F E69        C  \n",
      "533    NaN        C  \n",
      "\n",
      "\n",
      "* * * * * * * * * * * * * * * * * * * * \n",
      "\n",
      "\n",
      "7534\n",
      "                              Name   Age  SibSp  Parch    Fare Cabin Embarked\n",
      "138            Osen, Mr. Olaf Elon  16.0      0      0  9.2167   NaN        S\n",
      "876  Gustafsson, Mr. Alfred Ossian  20.0      0      0  9.8458   NaN        S\n",
      "\n",
      "\n",
      "* * * * * * * * * * * * * * * * * * * * \n",
      "\n",
      "\n",
      "PC 17593\n",
      "                         Name   Age  SibSp  Parch  Fare    Cabin Embarked\n",
      "139        Giglio, Mr. Victor  24.0      0      0  79.2      B86        C\n",
      "789  Guggenheim, Mr. Benjamin  46.0      0      0  79.2  B82 B84        C\n",
      "\n",
      "\n",
      "* * * * * * * * * * * * * * * * * * * * \n",
      "\n",
      "\n",
      "2678\n",
      "                              Name  Age  SibSp  Parch     Fare Cabin Embarked\n",
      "140  Boulos, Mrs. Joseph (Sultana)  NaN      0      2  15.2458   NaN        C\n",
      "852        Boulos, Miss. Nourelain  9.0      1      1  15.2458   NaN        C\n",
      "\n",
      "\n",
      "* * * * * * * * * * * * * * * * * * * * \n",
      "\n",
      "\n",
      "STON/O2. 3101279\n",
      "                                                  Name   Age  SibSp  Parch  \\\n",
      "142  Hakkarainen, Mrs. Pekka Pietari (Elin Matilda ...  24.0      1      0   \n",
      "403                     Hakkarainen, Mr. Pekka Pietari  28.0      1      0   \n",
      "\n",
      "      Fare Cabin Embarked  \n",
      "142  15.85   NaN        S  \n",
      "403  15.85   NaN        S  \n",
      "\n",
      "\n",
      "* * * * * * * * * * * * * * * * * * * * \n",
      "\n",
      "\n",
      "C.A. 33112\n",
      "                               Name   Age  SibSp  Parch   Fare Cabin Embarked\n",
      "145    Nicholls, Mr. Joseph Charles  19.0      1      1  36.75   NaN        S\n",
      "549  Davies, Master. John Morgan Jr   8.0      1      1  36.75   NaN        S\n",
      "\n",
      "\n",
      "* * * * * * * * * * * * * * * * * * * * \n",
      "\n",
      "\n",
      "230080\n",
      "                                         Name   Age  SibSp  Parch  Fare Cabin  \\\n",
      "148  Navratil, Mr. Michel (\"Louis M Hoffman\")  36.5      0      2  26.0    F2   \n",
      "193                Navratil, Master. Michel M   3.0      1      1  26.0    F2   \n",
      "340            Navratil, Master. Edmond Roger   2.0      1      1  26.0    F2   \n",
      "\n",
      "    Embarked  \n",
      "148        S  \n",
      "193        S  \n",
      "340        S  \n",
      "\n",
      "\n",
      "* * * * * * * * * * * * * * * * * * * * \n",
      "\n",
      "\n",
      "113776\n",
      "                                  Name   Age  SibSp  Parch  Fare Cabin  \\\n",
      "151  Pears, Mrs. Thomas (Edith Wearne)  22.0      1      0  66.6    C2   \n",
      "336          Pears, Mr. Thomas Clinton  29.0      1      0  66.6    C2   \n",
      "\n",
      "    Embarked  \n",
      "151        S  \n",
      "336        S  \n",
      "\n",
      "\n",
      "* * * * * * * * * * * * * * * * * * * * \n",
      "\n",
      "\n",
      "CA. 2343\n",
      "                                  Name  Age  SibSp  Parch   Fare Cabin  \\\n",
      "159         Sage, Master. Thomas Henry  NaN      8      2  69.55   NaN   \n",
      "180       Sage, Miss. Constance Gladys  NaN      8      2  69.55   NaN   \n",
      "201                Sage, Mr. Frederick  NaN      8      2  69.55   NaN   \n",
      "324           Sage, Mr. George John Jr  NaN      8      2  69.55   NaN   \n",
      "792            Sage, Miss. Stella Anna  NaN      8      2  69.55   NaN   \n",
      "846           Sage, Mr. Douglas Bullen  NaN      8      2  69.55   NaN   \n",
      "863  Sage, Miss. Dorothy Edith \"Dolly\"  NaN      8      2  69.55   NaN   \n",
      "\n",
      "    Embarked  \n",
      "159        S  \n",
      "180        S  \n",
      "201        S  \n",
      "324        S  \n",
      "792        S  \n",
      "846        S  \n",
      "863        S  \n",
      "\n",
      "\n",
      "* * * * * * * * * * * * * * * * * * * * \n",
      "\n",
      "\n",
      "363291\n",
      "                                                Name   Age  SibSp  Parch  \\\n",
      "165  Goldsmith, Master. Frank John William \"Frankie\"   9.0      0      2   \n",
      "328   Goldsmith, Mrs. Frank John (Emily Alice Brown)  31.0      1      1   \n",
      "548                        Goldsmith, Mr. Frank John  33.0      1      1   \n",
      "\n",
      "       Fare Cabin Embarked  \n",
      "165  20.525   NaN        S  \n",
      "328  20.525   NaN        S  \n",
      "548  20.525   NaN        S  \n",
      "\n",
      "\n",
      "* * * * * * * * * * * * * * * * * * * * \n",
      "\n",
      "\n",
      "113505\n",
      "                                       Name   Age  SibSp  Parch  Fare Cabin  \\\n",
      "166  Chibnall, Mrs. (Edith Martha Bowerman)   NaN      0      1  55.0   E33   \n",
      "356             Bowerman, Miss. Elsie Edith  22.0      0      1  55.0   E33   \n",
      "\n",
      "    Embarked  \n",
      "166        S  \n",
      "356        S  \n",
      "\n",
      "\n",
      "* * * * * * * * * * * * * * * * * * * * \n",
      "\n",
      "\n",
      "4133\n",
      "                              Name  Age  SibSp  Parch     Fare Cabin Embarked\n",
      "176  Lefebre, Master. Henry Forbes  NaN      3      1  25.4667   NaN        S\n",
      "229        Lefebre, Miss. Mathilde  NaN      3      1  25.4667   NaN        S\n",
      "409             Lefebre, Miss. Ida  NaN      3      1  25.4667   NaN        S\n",
      "485         Lefebre, Miss. Jeannie  NaN      3      1  25.4667   NaN        S\n",
      "\n",
      "\n",
      "* * * * * * * * * * * * * * * * * * * * \n",
      "\n",
      "\n",
      "LINE\n",
      "                                Name   Age  SibSp  Parch  Fare Cabin Embarked\n",
      "179              Leonard, Mr. Lionel  36.0      0      0   0.0   NaN        S\n",
      "271     Tornquist, Mr. William Henry  25.0      0      0   0.0   NaN        S\n",
      "302  Johnson, Mr. William Cahoone Jr  19.0      0      0   0.0   NaN        S\n",
      "597              Johnson, Mr. Alfred  49.0      0      0   0.0   NaN        S\n",
      "\n",
      "\n",
      "* * * * * * * * * * * * * * * * * * * * \n",
      "\n",
      "\n",
      "230136\n",
      "                            Name  Age  SibSp  Parch  Fare Cabin Embarked\n",
      "183    Becker, Master. Richard F  1.0      2      1  39.0    F4        S\n",
      "618  Becker, Miss. Marion Louise  4.0      2      1  39.0    F4        S\n",
      "\n",
      "\n",
      "* * * * * * * * * * * * * * * * * * * * \n",
      "\n",
      "\n",
      "370365\n",
      "                                                Name  Age  SibSp  Parch  Fare  \\\n",
      "186  O'Brien, Mrs. Thomas (Johanna \"Hannah\" Godfrey)  NaN      1      0  15.5   \n",
      "364                              O'Brien, Mr. Thomas  NaN      1      0  15.5   \n",
      "\n",
      "    Cabin Embarked  \n",
      "186   NaN        Q  \n",
      "364   NaN        Q  \n",
      "\n",
      "\n",
      "* * * * * * * * * * * * * * * * * * * * \n",
      "\n",
      "\n",
      "364849\n",
      "                              Name   Age  SibSp  Parch  Fare Cabin Embarked\n",
      "188               Bourke, Mr. John  40.0      1      1  15.5   NaN        Q\n",
      "657  Bourke, Mrs. John (Catherine)  32.0      1      1  15.5   NaN        Q\n",
      "\n",
      "\n",
      "* * * * * * * * * * * * * * * * * * * * \n",
      "\n",
      "\n",
      "347054\n",
      "                                           Name   Age  SibSp  Parch     Fare  \\\n",
      "205                  Strom, Miss. Telma Matilda   2.0      0      1  10.4625   \n",
      "251  Strom, Mrs. Wilhelm (Elna Matilda Persson)  29.0      1      1  10.4625   \n",
      "\n",
      "    Cabin Embarked  \n",
      "205    G6        S  \n",
      "251    G6        S  \n",
      "\n",
      "\n",
      "* * * * * * * * * * * * * * * * * * * * \n",
      "\n",
      "\n",
      "2699\n",
      "                            Name   Age  SibSp  Parch     Fare Cabin Embarked\n",
      "207  Albimona, Mr. Nassef Cassem  26.0      0      0  18.7875   NaN        C\n",
      "731     Hassan, Mr. Houssein G N  11.0      0      0  18.7875   NaN        C\n",
      "\n",
      "\n",
      "* * * * * * * * * * * * * * * * * * * * \n",
      "\n",
      "\n",
      "35273\n",
      "                           Name   Age  SibSp  Parch     Fare Cabin Embarked\n",
      "215     Newell, Miss. Madeleine  31.0      1      0  113.275   D36        C\n",
      "393      Newell, Miss. Marjorie  23.0      1      0  113.275   D36        C\n",
      "659  Newell, Mr. Arthur Webster  58.0      0      2  113.275   D48        C\n",
      "\n",
      "\n",
      "* * * * * * * * * * * * * * * * * * * * \n",
      "\n",
      "\n",
      "243847\n",
      "                                                  Name   Age  SibSp  Parch  \\\n",
      "217                       Jacobsohn, Mr. Sidney Samuel  42.0      1      0   \n",
      "600  Jacobsohn, Mrs. Sidney Samuel (Amy Frances Chr...  24.0      2      1   \n",
      "\n",
      "     Fare Cabin Embarked  \n",
      "217  27.0   NaN        S  \n",
      "600  27.0   NaN        S  \n",
      "\n",
      "\n",
      "* * * * * * * * * * * * * * * * * * * * \n",
      "\n",
      "\n",
      "19943\n",
      "                                                Name   Age  SibSp  Parch  \\\n",
      "224                     Hoyt, Mr. Frederick Maxfield  38.0      1      0   \n",
      "486  Hoyt, Mrs. Frederick Maxfield (Jane Anne Forby)  35.0      1      0   \n",
      "\n",
      "     Fare Cabin Embarked  \n",
      "224  90.0   C93        S  \n",
      "486  90.0   C93        S  \n",
      "\n",
      "\n",
      "* * * * * * * * * * * * * * * * * * * * \n",
      "\n",
      "\n",
      "C.A. 31921\n",
      "                                            Name   Age  SibSp  Parch   Fare  \\\n",
      "237             Collyer, Miss. Marjorie \"Lottie\"   8.0      0      2  26.25   \n",
      "637                          Collyer, Mr. Harvey  31.0      1      1  26.25   \n",
      "801  Collyer, Mrs. Harvey (Charlotte Annie Tate)  31.0      1      1  26.25   \n",
      "\n",
      "    Cabin Embarked  \n",
      "237   NaN        S  \n",
      "637   NaN        S  \n",
      "801   NaN        S  \n",
      "\n",
      "\n",
      "* * * * * * * * * * * * * * * * * * * * \n",
      "\n",
      "\n",
      "367230\n",
      "                               Name  Age  SibSp  Parch  Fare Cabin Embarked\n",
      "241  Murphy, Miss. Katherine \"Kate\"  NaN      1      0  15.5   NaN        Q\n",
      "612     Murphy, Miss. Margaret Jane  NaN      1      0  15.5   NaN        Q\n",
      "\n",
      "\n",
      "* * * * * * * * * * * * * * * * * * * * \n",
      "\n",
      "\n",
      "19928\n",
      "                            Name   Age  SibSp  Parch  Fare Cabin Embarked\n",
      "245  Minahan, Dr. William Edward  44.0      2      0  90.0   C78        Q\n",
      "412       Minahan, Miss. Daisy E  33.0      1      0  90.0   C78        Q\n",
      "\n",
      "\n",
      "* * * * * * * * * * * * * * * * * * * * \n",
      "\n",
      "\n",
      "250649\n",
      "                                Name    Age  SibSp  Parch  Fare Cabin Embarked\n",
      "247  Hamalainen, Mrs. William (Anna)  24.00      0      2  14.5   NaN        S\n",
      "755        Hamalainen, Master. Viljo   0.67      1      1  14.5   NaN        S\n",
      "\n",
      "\n",
      "* * * * * * * * * * * * * * * * * * * * \n",
      "\n",
      "\n",
      "11751\n",
      "                                                 Name   Age  SibSp  Parch  \\\n",
      "248                     Beckwith, Mr. Richard Leonard  37.0      1      1   \n",
      "871  Beckwith, Mrs. Richard Leonard (Sallie Monypeny)  47.0      1      1   \n",
      "\n",
      "        Fare Cabin Embarked  \n",
      "248  52.5542   D35        S  \n",
      "871  52.5542   D35        S  \n",
      "\n",
      "\n",
      "* * * * * * * * * * * * * * * * * * * * \n",
      "\n",
      "\n",
      "244252\n",
      "                                              Name   Age  SibSp  Parch  Fare  \\\n",
      "249                  Carter, Rev. Ernest Courtenay  54.0      1      0  26.0   \n",
      "854  Carter, Mrs. Ernest Courtenay (Lilian Hughes)  44.0      1      0  26.0   \n",
      "\n",
      "    Cabin Embarked  \n",
      "249   NaN        S  \n",
      "854   NaN        S  \n",
      "\n",
      "\n",
      "* * * * * * * * * * * * * * * * * * * * \n",
      "\n",
      "\n",
      "A/5. 3336\n",
      "                                                Name   Age  SibSp  Parch  \\\n",
      "253                         Lobb, Mr. William Arthur  30.0      1      0   \n",
      "617  Lobb, Mrs. William Arthur (Cordelia K Stanlick)  26.0      1      0   \n",
      "\n",
      "     Fare Cabin Embarked  \n",
      "253  16.1   NaN        S  \n",
      "617  16.1   NaN        S  \n",
      "\n",
      "\n",
      "* * * * * * * * * * * * * * * * * * * * \n",
      "\n",
      "\n",
      "370129\n",
      "                                         Name   Age  SibSp  Parch     Fare  \\\n",
      "254  Rosblom, Mrs. Viktor (Helena Wilhelmina)  41.0      0      2  20.2125   \n",
      "424               Rosblom, Mr. Viktor Richard  18.0      1      1  20.2125   \n",
      "\n",
      "    Cabin Embarked  \n",
      "254   NaN        S  \n",
      "424   NaN        S  \n",
      "\n",
      "\n",
      "* * * * * * * * * * * * * * * * * * * * \n",
      "\n",
      "\n",
      "110152\n",
      "                                                  Name   Age  SibSp  Parch  \\\n",
      "257                               Cherry, Miss. Gladys  30.0      0      0   \n",
      "504                              Maioni, Miss. Roberta  16.0      0      0   \n",
      "759  Rothes, the Countess. of (Lucy Noel Martha Dye...  33.0      0      0   \n",
      "\n",
      "     Fare Cabin Embarked  \n",
      "257  86.5   B77        S  \n",
      "504  86.5   B79        S  \n",
      "759  86.5   B77        S  \n",
      "\n",
      "\n",
      "* * * * * * * * * * * * * * * * * * * * \n",
      "\n",
      "\n",
      "PC 17755\n",
      "                                   Name   Age  SibSp  Parch      Fare  \\\n",
      "258                    Ward, Miss. Anna  35.0      0      0  512.3292   \n",
      "679  Cardeza, Mr. Thomas Drake Martinez  36.0      0      1  512.3292   \n",
      "737              Lesurer, Mr. Gustave J  35.0      0      0  512.3292   \n",
      "\n",
      "           Cabin Embarked  \n",
      "258          NaN        C  \n",
      "679  B51 B53 B55        C  \n",
      "737         B101        C  \n",
      "\n",
      "\n",
      "* * * * * * * * * * * * * * * * * * * * \n",
      "\n",
      "\n",
      "230433\n",
      "                                             Name   Age  SibSp  Parch  Fare  \\\n",
      "259                   Parrish, Mrs. (Lutie Davis)  50.0      0      1  26.0   \n",
      "880  Shelley, Mrs. William (Imanita Parrish Hall)  25.0      0      1  26.0   \n",
      "\n",
      "    Cabin Embarked  \n",
      "259   NaN        S  \n",
      "880   NaN        S  \n",
      "\n",
      "\n",
      "* * * * * * * * * * * * * * * * * * * * \n",
      "\n",
      "\n",
      "110413\n",
      "                                       Name   Age  SibSp  Parch   Fare Cabin  \\\n",
      "262                       Taussig, Mr. Emil  52.0      1      1  79.65   E67   \n",
      "558  Taussig, Mrs. Emil (Tillie Mandelbaum)  39.0      1      1  79.65   E67   \n",
      "585                     Taussig, Miss. Ruth  18.0      0      2  79.65   E68   \n",
      "\n",
      "    Embarked  \n",
      "262        S  \n",
      "558        S  \n",
      "585        S  \n",
      "\n",
      "\n",
      "* * * * * * * * * * * * * * * * * * * * \n",
      "\n",
      "\n",
      "PC 17582\n",
      "                                              Name   Age  SibSp  Parch  \\\n",
      "268  Graham, Mrs. William Thompson (Edith Junkins)  58.0      0      1   \n",
      "332                      Graham, Mr. George Edward  38.0      0      1   \n",
      "609                      Shutes, Miss. Elizabeth W  40.0      0      0   \n",
      "\n",
      "         Fare Cabin Embarked  \n",
      "268  153.4625  C125        S  \n",
      "332  153.4625   C91        S  \n",
      "609  153.4625  C125        S  \n",
      "\n",
      "\n",
      "* * * * * * * * * * * * * * * * * * * * \n",
      "\n",
      "\n",
      "PC 17760\n",
      "                         Name   Age  SibSp  Parch      Fare Cabin Embarked\n",
      "269    Bissette, Miss. Amelia  35.0      0      0  135.6333   C99        S\n",
      "325  Young, Miss. Marie Grice  36.0      0      0  135.6333   C32        C\n",
      "373       Ringhini, Mr. Sante  22.0      0      0  135.6333   NaN        C\n",
      "\n",
      "\n",
      "* * * * * * * * * * * * * * * * * * * * \n",
      "\n",
      "\n",
      "113798\n",
      "                        Name   Age  SibSp  Parch  Fare Cabin Embarked\n",
      "270    Cairns, Mr. Alexander   NaN      0      0  31.0   NaN        S\n",
      "842  Serepeca, Miss. Augusta  30.0      0      0  31.0   NaN        C\n",
      "\n",
      "\n",
      "* * * * * * * * * * * * * * * * * * * * \n",
      "\n",
      "\n",
      "250644\n",
      "                                          Name   Age  SibSp  Parch  Fare  \\\n",
      "272  Mellinger, Mrs. (Elizabeth Anne Maidment)  41.0      0      1  19.5   \n",
      "446          Mellinger, Miss. Madeleine Violet  13.0      0      1  19.5   \n",
      "\n",
      "    Cabin Embarked  \n",
      "272   NaN        S  \n",
      "446   NaN        S  \n",
      "\n",
      "\n",
      "* * * * * * * * * * * * * * * * * * * * \n",
      "\n",
      "\n",
      "13502\n",
      "                                     Name   Age  SibSp  Parch     Fare Cabin  \\\n",
      "275     Andrews, Miss. Kornelia Theodosia  63.0      1      0  77.9583    D7   \n",
      "627         Longley, Miss. Gretchen Fiske  21.0      0      0  77.9583    D9   \n",
      "765  Hogeboom, Mrs. John C (Anna Andrews)  51.0      1      0  77.9583   D11   \n",
      "\n",
      "    Embarked  \n",
      "275        S  \n",
      "627        S  \n",
      "765        S  \n",
      "\n",
      "\n",
      "* * * * * * * * * * * * * * * * * * * * \n",
      "\n",
      "\n",
      "239853\n",
      "                               Name  Age  SibSp  Parch  Fare Cabin Embarked\n",
      "277     Parkes, Mr. Francis \"Frank\"  NaN      0      0   0.0   NaN        S\n",
      "413  Cunningham, Mr. Alfred Fleming  NaN      0      0   0.0   NaN        S\n",
      "466           Campbell, Mr. William  NaN      0      0   0.0   NaN        S\n",
      "\n",
      "\n",
      "* * * * * * * * * * * * * * * * * * * * \n",
      "\n",
      "\n",
      "C.A. 2673\n",
      "                                 Name   Age  SibSp  Parch   Fare Cabin  \\\n",
      "279  Abbott, Mrs. Stanton (Rosa Hunt)  35.0      1      1  20.25   NaN   \n",
      "746       Abbott, Mr. Rossmore Edward  16.0      1      1  20.25   NaN   \n",
      "\n",
      "    Embarked  \n",
      "279        S  \n",
      "746        S  \n",
      "\n",
      "\n",
      "* * * * * * * * * * * * * * * * * * * * \n",
      "\n",
      "\n",
      "19877\n",
      "                              Name   Age  SibSp  Parch   Fare Cabin Embarked\n",
      "290   Barber, Miss. Ellen \"Nellie\"  26.0      0      0  78.85   NaN        S\n",
      "741  Cavendish, Mr. Tyrell William  36.0      1      0  78.85   C46        S\n",
      "\n",
      "\n",
      "* * * * * * * * * * * * * * * * * * * * \n",
      "\n",
      "\n",
      "11967\n",
      "                                        Name   Age  SibSp  Parch     Fare  \\\n",
      "291  Bishop, Mrs. Dickinson H (Helen Walton)  19.0      1      0  91.0792   \n",
      "484                  Bishop, Mr. Dickinson H  25.0      1      0  91.0792   \n",
      "\n",
      "    Cabin Embarked  \n",
      "291   B49        C  \n",
      "484   B49        C  \n",
      "\n",
      "\n",
      "* * * * * * * * * * * * * * * * * * * * \n",
      "\n",
      "\n",
      "113781\n",
      "                                                Name    Age  SibSp  Parch  \\\n",
      "297                     Allison, Miss. Helen Loraine   2.00      1      2   \n",
      "305                   Allison, Master. Hudson Trevor   0.92      1      2   \n",
      "498  Allison, Mrs. Hudson J C (Bessie Waldo Daniels)  25.00      1      2   \n",
      "708                             Cleaver, Miss. Alice  22.00      0      0   \n",
      "\n",
      "       Fare    Cabin Embarked  \n",
      "297  151.55  C22 C26        S  \n",
      "305  151.55  C22 C26        S  \n",
      "498  151.55  C22 C26        S  \n",
      "708  151.55      NaN        S  \n",
      "\n",
      "\n",
      "* * * * * * * * * * * * * * * * * * * * \n",
      "\n",
      "\n",
      "367226\n",
      "                   Name  Age  SibSp  Parch   Fare Cabin Embarked\n",
      "301  McCoy, Mr. Bernard  NaN      2      0  23.25   NaN        Q\n",
      "330  McCoy, Miss. Agnes  NaN      2      0  23.25   NaN        Q\n",
      "\n",
      "\n",
      "* * * * * * * * * * * * * * * * * * * * \n",
      "\n",
      "\n",
      "17421\n",
      "                                                  Name   Age  SibSp  Parch  \\\n",
      "306                            Fleming, Miss. Margaret   NaN      0      0   \n",
      "550                        Thayer, Mr. John Borland Jr  17.0      0      2   \n",
      "581  Thayer, Mrs. John Borland (Marian Longstreth M...  39.0      1      1   \n",
      "698                           Thayer, Mr. John Borland  49.0      1      1   \n",
      "\n",
      "         Fare Cabin Embarked  \n",
      "306  110.8833   NaN        C  \n",
      "550  110.8833   C70        C  \n",
      "581  110.8833   C68        C  \n",
      "698  110.8833   C68        C  \n",
      "\n",
      "\n",
      "* * * * * * * * * * * * * * * * * * * * \n",
      "\n",
      "\n",
      "PC 17758\n",
      "                                                  Name   Age  SibSp  Parch  \\\n",
      "307  Penasco y Castellana, Mrs. Victor de Satode (M...  17.0      1      0   \n",
      "505         Penasco y Castellana, Mr. Victor de Satode  18.0      1      0   \n",
      "\n",
      "      Fare Cabin Embarked  \n",
      "307  108.9   C65        C  \n",
      "505  108.9   C65        C  \n",
      "\n",
      "\n",
      "* * * * * * * * * * * * * * * * * * * * \n",
      "\n",
      "\n",
      "P/PP 3381\n",
      "                                      Name   Age  SibSp  Parch  Fare Cabin  \\\n",
      "308                    Abelson, Mr. Samuel  30.0      1      0  24.0   NaN   \n",
      "874  Abelson, Mrs. Samuel (Hannah Wizosky)  28.0      1      0  24.0   NaN   \n",
      "\n",
      "    Embarked  \n",
      "308        C  \n",
      "874        C  \n",
      "\n",
      "\n",
      "* * * * * * * * * * * * * * * * * * * * \n",
      "\n",
      "\n",
      "PC 17485\n",
      "                                             Name   Age  SibSp  Parch  \\\n",
      "309                Francatelli, Miss. Laura Mabel  30.0      0      0   \n",
      "599  Duff Gordon, Sir. Cosmo Edmund (\"Mr Morgan\")  49.0      1      0   \n",
      "\n",
      "        Fare Cabin Embarked  \n",
      "309  56.9292   E36        C  \n",
      "599  56.9292   A20        C  \n",
      "\n",
      "\n",
      "* * * * * * * * * * * * * * * * * * * * \n",
      "\n",
      "\n",
      "11767\n",
      "                                              Name   Age  SibSp  Parch  \\\n",
      "310                 Hays, Miss. Margaret Bechstein  24.0      0      0   \n",
      "879  Potter, Mrs. Thomas Jr (Lily Alexenia Wilson)  56.0      0      1   \n",
      "\n",
      "        Fare Cabin Embarked  \n",
      "310  83.1583   C54        C  \n",
      "879  83.1583   C50        C  \n",
      "\n",
      "\n",
      "* * * * * * * * * * * * * * * * * * * * \n",
      "\n",
      "\n",
      "PC 17608\n",
      "                                      Name   Age  SibSp  Parch     Fare  \\\n",
      "311             Ryerson, Miss. Emily Borie  18.0      2      2  262.375   \n",
      "742  Ryerson, Miss. Susan Parker \"Suzette\"  21.0      2      2  262.375   \n",
      "\n",
      "               Cabin Embarked  \n",
      "311  B57 B59 B63 B66        C  \n",
      "742  B57 B59 B63 B66        C  \n",
      "\n",
      "\n",
      "* * * * * * * * * * * * * * * * * * * * \n",
      "\n",
      "\n",
      "F.C.C. 13529\n",
      "                                            Name   Age  SibSp  Parch   Fare  \\\n",
      "314                           Hart, Mr. Benjamin  43.0      1      1  26.25   \n",
      "440  Hart, Mrs. Benjamin (Esther Ada Bloomfield)  45.0      1      1  26.25   \n",
      "535                       Hart, Miss. Eva Miriam   7.0      0      2  26.25   \n",
      "\n",
      "    Cabin Embarked  \n",
      "314   NaN        S  \n",
      "440   NaN        S  \n",
      "535   NaN        S  \n",
      "\n",
      "\n",
      "* * * * * * * * * * * * * * * * * * * * \n",
      "\n",
      "\n",
      "36928\n",
      "                                           Name   Age  SibSp  Parch      Fare  \\\n",
      "318                    Wick, Miss. Mary Natalie  31.0      0      2  164.8667   \n",
      "856  Wick, Mrs. George Dennick (Mary Hitchcock)  45.0      1      1  164.8667   \n",
      "\n",
      "    Cabin Embarked  \n",
      "318    C7        S  \n",
      "856   NaN        S  \n",
      "\n",
      "\n",
      "* * * * * * * * * * * * * * * * * * * * \n",
      "\n",
      "\n",
      "16966\n",
      "                                                  Name   Age  SibSp  Parch  \\\n",
      "319  Spedden, Mrs. Frederic Oakley (Margaretta Corn...  40.0      1      1   \n",
      "337                    Burns, Miss. Elizabeth Margaret  41.0      0      0   \n",
      "\n",
      "      Fare Cabin Embarked  \n",
      "319  134.5   E34        C  \n",
      "337  134.5   E40        C  \n",
      "\n",
      "\n",
      "* * * * * * * * * * * * * * * * * * * * \n",
      "\n",
      "\n",
      "111361\n",
      "                                                Name   Age  SibSp  Parch  \\\n",
      "329                     Hippach, Miss. Jean Gertrude  16.0      0      1   \n",
      "523  Hippach, Mrs. Louis Albert (Ida Sophia Fischer)  44.0      0      1   \n",
      "\n",
      "        Fare Cabin Embarked  \n",
      "329  57.9792   B18        C  \n",
      "523  57.9792   B18        C  \n",
      "\n",
      "\n",
      "* * * * * * * * * * * * * * * * * * * * \n",
      "\n",
      "\n",
      "PC 17611\n",
      "                                                  Name   Age  SibSp  Parch  \\\n",
      "334  Frauenthal, Mrs. Henry William (Clara Heinshei...   NaN      1      0   \n",
      "660                      Frauenthal, Dr. Henry William  50.0      2      0   \n",
      "\n",
      "       Fare Cabin Embarked  \n",
      "334  133.65   NaN        S  \n",
      "660  133.65   NaN        S  \n",
      "\n",
      "\n",
      "* * * * * * * * * * * * * * * * * * * * \n",
      "\n",
      "\n",
      "C.A. 37671\n",
      "                                       Name  Age  SibSp  Parch  Fare Cabin  \\\n",
      "348  Coutts, Master. William Loch \"William\"  3.0      1      1  15.9   NaN   \n",
      "489   Coutts, Master. Eden Leslie \"Neville\"  9.0      1      1  15.9   NaN   \n",
      "\n",
      "    Embarked  \n",
      "348        S  \n",
      "489        S  \n",
      "\n",
      "\n",
      "* * * * * * * * * * * * * * * * * * * * \n",
      "\n",
      "\n",
      "2691\n",
      "                                Name   Age  SibSp  Parch     Fare Cabin  \\\n",
      "362  Barbara, Mrs. (Catherine David)  45.0      0      1  14.4542   NaN   \n",
      "702            Barbara, Miss. Saiide  18.0      0      1  14.4542   NaN   \n",
      "\n",
      "    Embarked  \n",
      "362        C  \n",
      "702        C  \n",
      "\n",
      "\n",
      "* * * * * * * * * * * * * * * * * * * * \n",
      "\n",
      "\n",
      "PC 17477\n",
      "                              Name   Age  SibSp  Parch  Fare Cabin Embarked\n",
      "369  Aubart, Mme. Leontine Pauline  24.0      0      0  69.3   B35        C\n",
      "641           Sagesser, Mlle. Emma  24.0      0      0  69.3   B35        C\n",
      "\n",
      "\n",
      "* * * * * * * * * * * * * * * * * * * * \n",
      "\n",
      "\n",
      "PC 17757\n",
      "                                                  Name   Age  SibSp  Parch  \\\n",
      "380                              Bidois, Miss. Rosalie  42.0      0      0   \n",
      "557                                Robbins, Mr. Victor   NaN      0      0   \n",
      "700  Astor, Mrs. John Jacob (Madeleine Talmadge Force)  18.0      1      0   \n",
      "716                      Endres, Miss. Caroline Louise  38.0      0      0   \n",
      "\n",
      "        Fare    Cabin Embarked  \n",
      "380  227.525      NaN        C  \n",
      "557  227.525      NaN        C  \n",
      "700  227.525  C62 C64        C  \n",
      "716  227.525      C45        C  \n",
      "\n",
      "\n",
      "* * * * * * * * * * * * * * * * * * * * \n",
      "\n",
      "\n",
      "2653\n",
      "                            Name   Age  SibSp  Parch     Fare Cabin Embarked\n",
      "381  Nakid, Miss. Maria (\"Mary\")   1.0      0      2  15.7417   NaN        C\n",
      "622             Nakid, Mr. Sahid  20.0      1      1  15.7417   NaN        C\n",
      "\n",
      "\n",
      "* * * * * * * * * * * * * * * * * * * * \n",
      "\n",
      "\n",
      "113760\n",
      "                                          Name   Age  SibSp  Parch   Fare  \\\n",
      "390                 Carter, Mr. William Ernest  36.0      1      2  120.0   \n",
      "435                  Carter, Miss. Lucile Polk  14.0      1      2  120.0   \n",
      "763  Carter, Mrs. William Ernest (Lucile Polk)  36.0      1      2  120.0   \n",
      "802        Carter, Master. William Thornton II  11.0      1      2  120.0   \n",
      "\n",
      "       Cabin Embarked  \n",
      "390  B96 B98        S  \n",
      "435  B96 B98        S  \n",
      "763  B96 B98        S  \n",
      "802  B96 B98        S  \n",
      "\n",
      "\n",
      "* * * * * * * * * * * * * * * * * * * * \n",
      "\n",
      "\n",
      "28403\n",
      "                           Name   Age  SibSp  Parch  Fare Cabin Embarked\n",
      "397     McKane, Mr. Peter David  46.0      0      0  26.0   NaN        S\n",
      "582  Downton, Mr. William James  54.0      0      0  26.0   NaN        S\n",
      "\n",
      "\n",
      "* * * * * * * * * * * * * * * * * * * * \n",
      "\n",
      "\n",
      "29106\n",
      "                                      Name    Age  SibSp  Parch   Fare Cabin  \\\n",
      "407         Richards, Master. William Rowe   3.00      1      1  18.75   NaN   \n",
      "437  Richards, Mrs. Sidney (Emily Hocking)  24.00      2      3  18.75   NaN   \n",
      "831        Richards, Master. George Sibley   0.83      1      1  18.75   NaN   \n",
      "\n",
      "    Embarked  \n",
      "407        S  \n",
      "437        S  \n",
      "831        S  \n",
      "\n",
      "\n",
      "* * * * * * * * * * * * * * * * * * * * \n",
      "\n",
      "\n",
      "345773\n",
      "                                                  Name   Age  SibSp  Parch  \\\n",
      "419                          Van Impe, Miss. Catharina  10.0      0      2   \n",
      "595                        Van Impe, Mr. Jean Baptiste  36.0      1      1   \n",
      "799  Van Impe, Mrs. Jean Baptiste (Rosalie Paula Go...  30.0      1      1   \n",
      "\n",
      "      Fare Cabin Embarked  \n",
      "419  24.15   NaN        S  \n",
      "595  24.15   NaN        S  \n",
      "799  24.15   NaN        S  \n",
      "\n",
      "\n",
      "* * * * * * * * * * * * * * * * * * * * \n",
      "\n",
      "\n",
      "347080\n",
      "                                                  Name   Age  SibSp  Parch  \\\n",
      "423  Danbom, Mrs. Ernst Gilbert (Anna Sigrid Maria ...  28.0      1      1   \n",
      "616                          Danbom, Mr. Ernst Gilbert  34.0      1      1   \n",
      "\n",
      "     Fare Cabin Embarked  \n",
      "423  14.4   NaN        S  \n",
      "616  14.4   NaN        S  \n",
      "\n",
      "\n",
      "* * * * * * * * * * * * * * * * * * * * \n",
      "\n",
      "\n",
      "250655\n",
      "                                                  Name   Age  SibSp  Parch  \\\n",
      "427  Phillips, Miss. Kate Florence (\"Mrs Kate Louis...  19.0      0      0   \n",
      "705     Morley, Mr. Henry Samuel (\"Mr Henry Marshall\")  39.0      0      0   \n",
      "\n",
      "     Fare Cabin Embarked  \n",
      "427  26.0   NaN        S  \n",
      "705  26.0   NaN        S  \n",
      "\n",
      "\n",
      "* * * * * * * * * * * * * * * * * * * * \n",
      "\n",
      "\n",
      "376564\n",
      "                                                  Name  Age  SibSp  Parch  \\\n",
      "431  Thorneycroft, Mrs. Percival (Florence Kate White)  NaN      1      0   \n",
      "639                         Thorneycroft, Mr. Percival  NaN      1      0   \n",
      "\n",
      "     Fare Cabin Embarked  \n",
      "431  16.1   NaN        S  \n",
      "639  16.1   NaN        S  \n",
      "\n",
      "\n",
      "* * * * * * * * * * * * * * * * * * * * \n",
      "\n",
      "\n",
      "13507\n",
      "                                          Name   Age  SibSp  Parch  Fare  \\\n",
      "434                  Silvey, Mr. William Baird  50.0      1      0  55.9   \n",
      "577  Silvey, Mrs. William Baird (Alice Munger)  39.0      1      0  55.9   \n",
      "\n",
      "    Cabin Embarked  \n",
      "434   E44        S  \n",
      "577   E44        S  \n",
      "\n",
      "\n",
      "* * * * * * * * * * * * * * * * * * * * \n",
      "\n",
      "\n",
      "2666\n",
      "                                      Name    Age  SibSp  Parch     Fare  \\\n",
      "448         Baclini, Miss. Marie Catherine   5.00      2      1  19.2583   \n",
      "469          Baclini, Miss. Helene Barbara   0.75      2      1  19.2583   \n",
      "644                 Baclini, Miss. Eugenie   0.75      2      1  19.2583   \n",
      "858  Baclini, Mrs. Solomon (Latifa Qurban)  24.00      0      3  19.2583   \n",
      "\n",
      "    Cabin Embarked  \n",
      "448   NaN        C  \n",
      "469   NaN        C  \n",
      "644   NaN        C  \n",
      "858   NaN        C  \n",
      "\n",
      "\n",
      "* * * * * * * * * * * * * * * * * * * * \n",
      "\n",
      "\n",
      "17453\n",
      "                                             Name   Age  SibSp  Parch  \\\n",
      "453                      Goldenberg, Mr. Samuel L  49.0      1      0   \n",
      "849  Goldenberg, Mrs. Samuel L (Edwiga Grabowska)   NaN      1      0   \n",
      "\n",
      "        Fare Cabin Embarked  \n",
      "453  89.1042   C92        C  \n",
      "849  89.1042   C92        C  \n",
      "\n",
      "\n",
      "* * * * * * * * * * * * * * * * * * * * \n",
      "\n",
      "\n",
      "31027\n",
      "                                            Name   Age  SibSp  Parch  Fare  \\\n",
      "476                      Renouf, Mr. Peter Henry  34.0      1      0  21.0   \n",
      "726  Renouf, Mrs. Peter Henry (Lillian Jefferys)  30.0      3      0  21.0   \n",
      "\n",
      "    Cabin Embarked  \n",
      "476   NaN        S  \n",
      "726   NaN        S  \n",
      "\n",
      "\n",
      "* * * * * * * * * * * * * * * * * * * * \n",
      "\n",
      "\n",
      "36947\n",
      "                                                Name   Age  SibSp  Parch  \\\n",
      "496                   Eustis, Miss. Elizabeth Mussey  54.0      1      0   \n",
      "591  Stephenson, Mrs. Walter Bertram (Martha Eustis)  52.0      1      0   \n",
      "\n",
      "        Fare Cabin Embarked  \n",
      "496  78.2667   D20        C  \n",
      "591  78.2667   D20        C  \n",
      "\n",
      "\n",
      "* * * * * * * * * * * * * * * * * * * * \n",
      "\n",
      "\n",
      "26360\n",
      "                                              Name   Age  SibSp  Parch  Fare  \\\n",
      "506  Quick, Mrs. Frederick Charles (Jane Richards)  33.0      0      2  26.0   \n",
      "530                       Quick, Miss. Phyllis May   2.0      1      1  26.0   \n",
      "\n",
      "    Cabin Embarked  \n",
      "506   NaN        S  \n",
      "530   NaN        S  \n",
      "\n",
      "\n",
      "* * * * * * * * * * * * * * * * * * * * \n",
      "\n",
      "\n",
      "12749\n",
      "                                                  Name   Age  SibSp  Parch  \\\n",
      "520                              Perreault, Miss. Anne  30.0      0      0   \n",
      "820  Hays, Mrs. Charles Melville (Clara Jennings Gr...  52.0      1      1   \n",
      "\n",
      "     Fare Cabin Embarked  \n",
      "520  93.5   B73        S  \n",
      "820  93.5   B69        S  \n",
      "\n",
      "\n",
      "* * * * * * * * * * * * * * * * * * * * \n",
      "\n",
      "\n",
      "PC 17761\n",
      "                           Name   Age  SibSp  Parch     Fare Cabin Embarked\n",
      "537         LeRoy, Miss. Bertha  30.0      0      0  106.425   NaN        C\n",
      "544  Douglas, Mr. Walter Donald  50.0      1      0  106.425   C86        C\n",
      "\n",
      "\n",
      "* * * * * * * * * * * * * * * * * * * * \n",
      "\n",
      "\n",
      "WE/P 5735\n",
      "                             Name   Age  SibSp  Parch  Fare Cabin Embarked\n",
      "540       Crosby, Miss. Harriet R  36.0      0      2  71.0   B22        S\n",
      "745  Crosby, Capt. Edward Gifford  70.0      1      1  71.0   B22        S\n",
      "\n",
      "\n",
      "* * * * * * * * * * * * * * * * * * * * \n",
      "\n",
      "\n",
      "2908\n",
      "                                  Name   Age  SibSp  Parch  Fare Cabin  \\\n",
      "543                  Beane, Mr. Edward  32.0      1      0  26.0   NaN   \n",
      "546  Beane, Mrs. Edward (Ethel Clarke)  19.0      1      0  26.0   NaN   \n",
      "\n",
      "    Embarked  \n",
      "543        S  \n",
      "546        S  \n",
      "\n",
      "\n",
      "* * * * * * * * * * * * * * * * * * * * \n",
      "\n",
      "\n",
      "A/4 48871\n",
      "                     Name   Age  SibSp  Parch   Fare Cabin Embarked\n",
      "565  Davies, Mr. Alfred J  24.0      2      0  24.15   NaN        S\n",
      "811     Lester, Mr. James  39.0      0      0  24.15   NaN        S\n",
      "\n",
      "\n",
      "* * * * * * * * * * * * * * * * * * * * \n",
      "\n",
      "\n",
      "358585\n",
      "                     Name   Age  SibSp  Parch  Fare Cabin Embarked\n",
      "575  Patchett, Mr. George  19.0      0      0  14.5   NaN        S\n",
      "760    Garfirth, Mr. John   NaN      0      0  14.5   NaN        S\n",
      "\n",
      "\n",
      "* * * * * * * * * * * * * * * * * * * * \n",
      "\n",
      "\n",
      "248727\n",
      "                                  Name   Age  SibSp  Parch  Fare Cabin  \\\n",
      "596         Leitch, Miss. Jessie Wills   NaN      0      0  33.0   NaN   \n",
      "720  Harper, Miss. Annie Jessie \"Nina\"   6.0      0      1  33.0   NaN   \n",
      "848                  Harper, Rev. John  28.0      0      1  33.0   NaN   \n",
      "\n",
      "    Embarked  \n",
      "596        S  \n",
      "720        S  \n",
      "848        S  \n",
      "\n",
      "\n",
      "* * * * * * * * * * * * * * * * * * * * \n",
      "\n",
      "\n",
      "220845\n",
      "                                 Name   Age  SibSp  Parch  Fare Cabin Embarked\n",
      "615               Herman, Miss. Alice  24.0      1      2  65.0   NaN        S\n",
      "754  Herman, Mrs. Samuel (Jane Laver)  48.0      1      2  65.0   NaN        S\n",
      "\n",
      "\n",
      "* * * * * * * * * * * * * * * * * * * * \n",
      "\n",
      "\n",
      "2659\n",
      "                                        Name   Age  SibSp  Parch     Fare  \\\n",
      "620                      Yasbeck, Mr. Antoni  27.0      1      0  14.4542   \n",
      "830  Yasbeck, Mrs. Antoni (Selini Alexander)  15.0      1      0  14.4542   \n",
      "\n",
      "    Cabin Embarked  \n",
      "620   NaN        C  \n",
      "830   NaN        C  \n",
      "\n",
      "\n",
      "* * * * * * * * * * * * * * * * * * * * \n",
      "\n",
      "\n",
      "54636\n",
      "                            Name   Age  SibSp  Parch  Fare Cabin Embarked\n",
      "624  Bowen, Mr. David John \"Dai\"  21.0      0      0  16.1   NaN        S\n",
      "735         Williams, Mr. Leslie  28.5      0      0  16.1   NaN        S\n",
      "\n",
      "\n",
      "* * * * * * * * * * * * * * * * * * * * \n",
      "\n",
      "\n",
      "19996\n",
      "                                                  Name   Age  SibSp  Parch  \\\n",
      "669  Taylor, Mrs. Elmer Zebley (Juliet Cummins Wright)   NaN      1      0   \n",
      "712                           Taylor, Mr. Elmer Zebley  48.0      1      0   \n",
      "\n",
      "     Fare Cabin Embarked  \n",
      "669  52.0  C126        S  \n",
      "712  52.0  C126        S  \n",
      "\n",
      "\n",
      "* * * * * * * * * * * * * * * * * * * * \n",
      "\n",
      "\n",
      "29750\n",
      "                                                  Name   Age  SibSp  Parch  \\\n",
      "670  Brown, Mrs. Thomas William Solomon (Elizabeth ...  40.0      1      1   \n",
      "684                  Brown, Mr. Thomas William Solomon  60.0      1      1   \n",
      "\n",
      "     Fare Cabin Embarked  \n",
      "670  39.0   NaN        S  \n",
      "684  39.0   NaN        S  \n",
      "\n",
      "\n",
      "* * * * * * * * * * * * * * * * * * * * \n",
      "\n",
      "\n",
      "24160\n",
      "                                                  Name   Age  SibSp  Parch  \\\n",
      "689                  Madill, Miss. Georgette Alexandra  15.0      0      1   \n",
      "730                      Allen, Miss. Elisabeth Walton  29.0      0      0   \n",
      "779  Robert, Mrs. Edward Scott (Elisabeth Walton Mc...  43.0      0      1   \n",
      "\n",
      "         Fare Cabin Embarked  \n",
      "689  211.3375    B5        S  \n",
      "730  211.3375    B5        S  \n",
      "779  211.3375    B3        S  \n",
      "\n",
      "\n",
      "* * * * * * * * * * * * * * * * * * * * \n",
      "\n",
      "\n",
      "17474\n",
      "                                          Name   Age  SibSp  Parch  Fare  \\\n",
      "690                    Dick, Mr. Albert Adrian  31.0      1      0  57.0   \n",
      "781  Dick, Mrs. Albert Adrian (Vera Gillespie)  17.0      1      0  57.0   \n",
      "\n",
      "    Cabin Embarked  \n",
      "690   B20        S  \n",
      "781   B20        S  \n",
      "\n",
      "\n",
      "* * * * * * * * * * * * * * * * * * * * \n",
      "\n",
      "\n",
      "250647\n",
      "                      Name   Age  SibSp  Parch  Fare Cabin Embarked\n",
      "714  Greenberg, Mr. Samuel  52.0      0      0  13.0   NaN        S\n",
      "800   Ponesell, Mr. Martin  34.0      0      0  13.0   NaN        S\n",
      "\n",
      "\n",
      "* * * * * * * * * * * * * * * * * * * * \n",
      "\n",
      "\n",
      "113806\n",
      "                                               Name   Age  SibSp  Parch  Fare  \\\n",
      "724                   Chambers, Mr. Norman Campbell  27.0      1      0  53.1   \n",
      "809  Chambers, Mrs. Norman Campbell (Bertha Griggs)  33.0      1      0  53.1   \n",
      "\n",
      "    Cabin Embarked  \n",
      "724    E8        S  \n",
      "809    E8        S  \n",
      "\n",
      "\n",
      "* * * * * * * * * * * * * * * * * * * * \n",
      "\n",
      "\n",
      "392096\n",
      "                    Name   Age  SibSp  Parch    Fare Cabin Embarked\n",
      "751  Moor, Master. Meier   6.0      0      1  12.475  E121        S\n",
      "823   Moor, Mrs. (Beila)  27.0      0      1  12.475  E121        S\n",
      "\n",
      "\n",
      "* * * * * * * * * * * * * * * * * * * * \n",
      "\n",
      "\n",
      "S.O./P.P. 3\n",
      "                         Name   Age  SibSp  Parch  Fare Cabin Embarked\n",
      "772         Mack, Mrs. (Mary)  57.0      0      0  10.5   E77        S\n",
      "841  Mudd, Mr. Thomas Charles  16.0      0      0  10.5   NaN        S\n",
      "\n",
      "\n",
      "* * * * * * * * * * * * * * * * * * * * \n",
      "\n",
      "\n",
      "W./C. 6607\n",
      "                                         Name  Age  SibSp  Parch   Fare Cabin  \\\n",
      "783                    Johnston, Mr. Andrew G  NaN      1      2  23.45   NaN   \n",
      "888  Johnston, Miss. Catherine Helen \"Carrie\"  NaN      1      2  23.45   NaN   \n",
      "\n",
      "    Embarked  \n",
      "783        S  \n",
      "888        S  \n",
      "\n",
      "\n",
      "* * * * * * * * * * * * * * * * * * * * \n",
      "\n",
      "\n",
      "S.C./PARIS 2079\n",
      "                      Name   Age  SibSp  Parch     Fare Cabin Embarked\n",
      "817     Mallet, Mr. Albert  31.0      1      1  37.0042   NaN        C\n",
      "827  Mallet, Master. Andre   1.0      0      2  37.0042   NaN        C\n",
      "\n",
      "\n",
      "* * * * * * * * * * * * * * * * * * * * \n",
      "\n",
      "\n"
     ]
    }
   ],
   "source": [
    "#Printing Details of people who share a ticket.\n",
    "\n",
    "printedTic = {}\n",
    "\n",
    "for number in frequentTicket:\n",
    "    if number not in printedTic:\n",
    "        printedTic[number] = 1\n",
    "        print(number)\n",
    "        print(training[training['Ticket'] == number][['Name','Age','SibSp', 'Parch','Fare','Cabin', 'Embarked']])\n",
    "        lineOfStars()\n",
    "    \n"
   ]
  },
  {
   "cell_type": "markdown",
   "id": "f2082401",
   "metadata": {
    "papermill": {
     "duration": 0.040499,
     "end_time": "2023-01-10T12:14:20.426217",
     "exception": false,
     "start_time": "2023-01-10T12:14:20.385718",
     "status": "completed"
    },
    "tags": []
   },
   "source": [
    "Is appears that the majority of shared tickets are a result of the ticket belonging to a single family. For example, Ticket 347082 is held by people with the last name Andersson. The Sibsp and Parch seem to indicate that these are all members of the same family.\n",
    "\n",
    "However, Ticket 1601 is from people who do not seem to be travelling with familiy members. These could possibly be a group of friends travelling together.\n",
    "\n",
    "This fact could potentially be incorporated later on."
   ]
  },
  {
   "cell_type": "code",
   "execution_count": 36,
   "id": "ff73d7fa",
   "metadata": {
    "execution": {
     "iopub.execute_input": "2023-01-10T12:14:20.507768Z",
     "iopub.status.busy": "2023-01-10T12:14:20.506950Z",
     "iopub.status.idle": "2023-01-10T12:14:20.514655Z",
     "shell.execute_reply": "2023-01-10T12:14:20.514167Z"
    },
    "papermill": {
     "duration": 0.051787,
     "end_time": "2023-01-10T12:14:20.517921",
     "exception": false,
     "start_time": "2023-01-10T12:14:20.466134",
     "status": "completed"
    },
    "tags": []
   },
   "outputs": [
    {
     "name": "stdout",
     "output_type": "stream",
     "text": [
      "['A/5 21171' 'PC 17599' 'STON/O2. 3101282' '113803' '373450' '330877'\n",
      " '17463' '349909' '347742' '237736' 'PP 9549' '113783' 'A/5. 2151'\n",
      " '347082' '350406' '248706' '382652' '244373' '345763' '2649' '239865'\n",
      " '248698' '330923' '113788' '347077' '2631' '19950' '330959' '349216'\n",
      " 'PC 17601' 'PC 17569' '335677' 'C.A. 24579' 'PC 17604' '113789' '2677'\n",
      " 'A./5. 2152' '345764' '2651' '7546' '11668' '349253' 'SC/Paris 2123'\n",
      " '330958' 'S.C./A.4. 23567' '370371' '14311' '2662' '349237' '3101295'\n",
      " 'A/4. 39886' 'PC 17572' '2926' '113509' '19947' 'C.A. 31026' '2697'\n",
      " 'C.A. 34651' 'CA 2144' '2669' '113572' '36973' '347088' 'PC 17605' '2661'\n",
      " 'C.A. 29395' 'S.P. 3464' '3101281' '315151' 'C.A. 33111' 'S.O.C. 14879'\n",
      " '2680' '1601' '348123' '349208' '374746' '248738' '364516' '345767'\n",
      " '345779' '330932' '113059' 'SO/C 14885' '3101278' 'W./C. 6608'\n",
      " 'SOTON/OQ 392086' '343275' '343276' '347466' 'W.E.P. 5734' 'C.A. 2315'\n",
      " '364500' '374910' 'PC 17754' 'PC 17759' '231919' '244367' '349245'\n",
      " '349215' '35281' '7540' '3101276' '349207' '343120' '312991' '349249'\n",
      " '371110' '110465' '2665' '324669' '4136' '2627' 'STON/O 2. 3101294'\n",
      " '370369' 'PC 17558' 'A4. 54510' '27267' '370372' 'C 17369' '2668'\n",
      " '347061' '349241' 'SOTON/O.Q. 3101307' 'A/5. 3337' '228414' 'C.A. 29178'\n",
      " 'SC/PARIS 2133' '11752' '7534' 'PC 17593' '2678' '347081'\n",
      " 'STON/O2. 3101279' '365222' '231945' 'C.A. 33112' '350043' '230080'\n",
      " '244310' 'S.O.P. 1166' '113776' 'A.5. 11206' 'A/5. 851' 'Fa 265302'\n",
      " 'PC 17597' '35851' 'SOTON/OQ 392090' '315037' 'CA. 2343' '371362'\n",
      " 'C.A. 33595' '347068' '315093' '363291' '113505' 'PC 17318' '111240'\n",
      " 'STON/O 2. 3101280' '17764' '350404' '4133' 'PC 17595' '250653' 'LINE'\n",
      " 'SC/PARIS 2131' '230136' '315153' '113767' '370365' '111428' '364849'\n",
      " '349247' '234604' '28424' '350046' 'PC 17610' '368703' '4579' '370370'\n",
      " '248747' '345770' '3101264' '2628' 'A/5 3540' '347054' '2699' '367231'\n",
      " '112277' 'SOTON/O.Q. 3101311' 'F.C.C. 13528' 'A/5 21174' '250646'\n",
      " '367229' '35273' 'STON/O2. 3101283' '243847' '11813' 'W/C 14208'\n",
      " 'SOTON/OQ 392089' '220367' '21440' '349234' '19943' 'PP 4348' 'SW/PP 751'\n",
      " 'A/5 21173' '236171' '347067' '237442' 'C.A. 29566' 'W./C. 6609' '26707'\n",
      " 'C.A. 31921' '28665' 'SCO/W 1585' '367230' 'W./C. 14263'\n",
      " 'STON/O 2. 3101275' '2694' '19928' '347071' '250649' '11751' '244252'\n",
      " '362316' '113514' 'A/5. 3336' '370129' '2650' 'PC 17585' '110152'\n",
      " 'PC 17755' '230433' '384461' '110413' '112059' '382649' 'C.A. 17248'\n",
      " '347083' 'PC 17582' 'PC 17760' '113798' '250644' 'PC 17596' '370375'\n",
      " '13502' '347073' '239853' 'C.A. 2673' '336439' '347464' '345778'\n",
      " 'A/5. 10482' '113056' '349239' '345774' '349206' '237798' '370373'\n",
      " '19877' '11967' 'SC/Paris 2163' '349236' '349233' 'PC 17612' '2693'\n",
      " '113781' '19988' '9234' '367226' '226593' 'A/5 2466' '17421' 'PC 17758'\n",
      " 'P/PP 3381' 'PC 17485' '11767' 'PC 17608' '250651' '349243'\n",
      " 'F.C.C. 13529' '347470' '29011' '36928' '16966' 'A/5 21172' '349219'\n",
      " '234818' '345364' '28551' '111361' '113043' 'PC 17611' '349225' '7598'\n",
      " '113784' '248740' '244361' '229236' '248733' '31418' '386525'\n",
      " 'C.A. 37671' '315088' '7267' '113510' '2695' '2647' '345783' '237671'\n",
      " '330931' '330980' 'SC/PARIS 2167' '2691' 'SOTON/O.Q. 3101310' 'C 7076'\n",
      " '110813' '2626' '14313' 'PC 17477' '11765' '3101267' '323951' 'C 7077'\n",
      " '113503' '2648' '347069' 'PC 17757' '2653' 'STON/O 2. 3101293' '349227'\n",
      " '27849' '367655' 'SC 1748' '113760' '350034' '3101277' '350052' '350407'\n",
      " '28403' '244278' '240929' 'STON/O 2. 3101289' '341826' '4137' '315096'\n",
      " '28664' '347064' '29106' '312992' '349222' '394140' 'STON/O 2. 3101269'\n",
      " '343095' '28220' '250652' '28228' '345773' '349254' 'A/5. 13032' '315082'\n",
      " '347080' 'A/4. 34244' '2003' '250655' '364851' 'SOTON/O.Q. 392078'\n",
      " '110564' '376564' 'SC/AH 3085' 'STON/O 2. 3101274' '13507' 'C.A. 18723'\n",
      " '345769' '347076' '230434' '65306' '33638' '113794' '2666' '113786'\n",
      " '65303' '113051' '17453' 'A/5 2817' '349240' '13509' '17464'\n",
      " 'F.C.C. 13531' '371060' '19952' '364506' '111320' '234360' 'A/S 2816'\n",
      " 'SOTON/O.Q. 3101306' '113792' '36209' '323592' '315089' 'SC/AH Basle 541'\n",
      " '7553' '31027' '3460' '350060' '3101298' '239854' 'A/5 3594' '4134'\n",
      " '11771' 'A.5. 18509' '65304' 'SOTON/OQ 3101317' '113787' 'PC 17609'\n",
      " 'A/4 45380' '36947' 'C.A. 6212' '350035' '315086' '364846' '330909'\n",
      " '4135' '26360' '111427' 'C 4001' '382651' 'SOTON/OQ 3101316' 'PC 17473'\n",
      " 'PC 17603' '349209' '36967' 'C.A. 34260' '226875' '349242' '12749'\n",
      " '349252' '2624' '2700' '367232' 'W./C. 14258' 'PC 17483' '3101296'\n",
      " '29104' '2641' '2690' '315084' '113050' 'PC 17761' '364498' '13568'\n",
      " 'WE/P 5735' '2908' '693' 'SC/PARIS 2146' '244358' '330979' '2620'\n",
      " '347085' '113807' '11755' '345572' '372622' '349251' '218629'\n",
      " 'SOTON/OQ 392082' 'SOTON/O.Q. 392087' 'A/4 48871' '349205' '2686'\n",
      " '350417' 'S.W./PP 752' '11769' 'PC 17474' '14312' 'A/4. 20589' '358585'\n",
      " '243880' '2689' 'STON/O 2. 3101286' '237789' '13049' '3411' '237565'\n",
      " '13567' '14973' 'A./5. 3235' 'STON/O 2. 3101273' 'A/5 3902' '364848'\n",
      " 'SC/AH 29037' '248727' '2664' '349214' '113796' '364511' '111426'\n",
      " '349910' '349246' '113804' 'SOTON/O.Q. 3101305' '370377' '364512'\n",
      " '220845' '31028' '2659' '11753' '350029' '54636' '36963' '219533'\n",
      " '349224' '334912' '27042' '347743' '13214' '112052' '237668'\n",
      " 'STON/O 2. 3101292' '350050' '349231' '13213' 'S.O./P.P. 751' 'CA. 2314'\n",
      " '349221' '8475' '330919' '365226' '349223' '29751' '2623' '5727' '349210'\n",
      " 'STON/O 2. 3101285' '234686' '312993' 'A/5 3536' '19996' '29750'\n",
      " 'F.C. 12750' 'C.A. 24580' '244270' '239856' '349912' '342826' '4138'\n",
      " '330935' '6563' '349228' '350036' '24160' '17474' '349256' '2672'\n",
      " '113800' '248731' '363592' '35852' '348121' 'PC 17475' '36864' '350025'\n",
      " '223596' 'PC 17476' 'PC 17482' '113028' '7545' '250647' '348124' '34218'\n",
      " '36568' '347062' '350048' '12233' '250643' '113806' '315094' '36866'\n",
      " '236853' 'STON/O2. 3101271' '239855' '28425' '233639' '349201' '349218'\n",
      " '16988' '376566' 'STON/O 2. 3101288' '250648' '113773' '335097' '29103'\n",
      " '392096' '345780' '349204' '350042' '29108' '363294' 'SOTON/O2 3101272'\n",
      " '2663' '347074' '112379' '364850' '8471' '345781' '350047' 'S.O./P.P. 3'\n",
      " '2674' '29105' '347078' '383121' '36865' '2687' '113501' 'W./C. 6607'\n",
      " 'SOTON/O.Q. 3101312' '374887' '3101265' '12460' 'PC 17600' '349203'\n",
      " '28213' '17465' '349244' '2685' '2625' '347089' '347063' '112050'\n",
      " '347087' '248723' '3474' '28206' '364499' '112058' 'STON/O2. 3101290'\n",
      " 'S.C./PARIS 2079' 'C 7075' '315098' '19972' '368323' '367228' '2671'\n",
      " '347468' '2223' 'PC 17756' '315097' '392092' '11774' 'SOTON/O2 3101287'\n",
      " '2683' '315090' 'C.A. 5547' '349213' '347060' 'PC 17592' '392091'\n",
      " '113055' '2629' '350026' '28134' '17466' '233866' '236852'\n",
      " 'SC/PARIS 2149' 'PC 17590' '345777' '349248' '695' '345765' '2667'\n",
      " '349212' '349217' '349257' '7552' 'C.A./SOTON 34068' 'SOTON/OQ 392076'\n",
      " '211536' '112053' '111369' '370376']\n"
     ]
    },
    {
     "data": {
      "text/plain": [
       "681"
      ]
     },
     "execution_count": 36,
     "metadata": {},
     "output_type": "execute_result"
    }
   ],
   "source": [
    "#Printing the unique ticket numbers\n",
    "print(training['Ticket'].unique())\n",
    "len(training['Ticket'].unique())"
   ]
  },
  {
   "cell_type": "markdown",
   "id": "829ad623",
   "metadata": {
    "papermill": {
     "duration": 0.041536,
     "end_time": "2023-01-10T12:14:20.603252",
     "exception": false,
     "start_time": "2023-01-10T12:14:20.561716",
     "status": "completed"
    },
    "tags": []
   },
   "source": [
    "How does having a 'shared ticket' impact your chance of survival?"
   ]
  },
  {
   "cell_type": "code",
   "execution_count": 37,
   "id": "51f24011",
   "metadata": {
    "execution": {
     "iopub.execute_input": "2023-01-10T12:14:20.686792Z",
     "iopub.status.busy": "2023-01-10T12:14:20.686386Z",
     "iopub.status.idle": "2023-01-10T12:14:20.696598Z",
     "shell.execute_reply": "2023-01-10T12:14:20.695345Z"
    },
    "papermill": {
     "duration": 0.054412,
     "end_time": "2023-01-10T12:14:20.698665",
     "exception": false,
     "start_time": "2023-01-10T12:14:20.644253",
     "status": "completed"
    },
    "tags": []
   },
   "outputs": [
    {
     "data": {
      "text/plain": [
       "'If you had a shared ticket, you had a 52.03% chance of survival.'"
      ]
     },
     "execution_count": 37,
     "metadata": {},
     "output_type": "execute_result"
    }
   ],
   "source": [
    "#Chance of surviving if you had a shared ticket\n",
    "\n",
    "numHadSharedTicket = len(training[(training['Survived'] == 1) & (training['Ticket'].isin(frequentTicket))])\n",
    "numSurv = len(training[training['Ticket'].isin(frequentTicket)])\n",
    "\n",
    "'If you had a shared ticket, you had a {}% chance of survival.'.format(np.round(numHadSharedTicket/numSurv*100, 2))"
   ]
  },
  {
   "cell_type": "markdown",
   "id": "b9aedaa7",
   "metadata": {
    "papermill": {
     "duration": 0.040317,
     "end_time": "2023-01-10T12:14:20.782121",
     "exception": false,
     "start_time": "2023-01-10T12:14:20.741804",
     "status": "completed"
    },
    "tags": []
   },
   "source": [
    "Examining the tickets, there is not enough known to extract more info from the specific numbers.\n",
    "\n",
    "**Cabins**"
   ]
  },
  {
   "cell_type": "code",
   "execution_count": 38,
   "id": "2c7c225c",
   "metadata": {
    "execution": {
     "iopub.execute_input": "2023-01-10T12:14:20.866613Z",
     "iopub.status.busy": "2023-01-10T12:14:20.865595Z",
     "iopub.status.idle": "2023-01-10T12:14:20.873564Z",
     "shell.execute_reply": "2023-01-10T12:14:20.872308Z"
    },
    "papermill": {
     "duration": 0.053196,
     "end_time": "2023-01-10T12:14:20.875321",
     "exception": false,
     "start_time": "2023-01-10T12:14:20.822125",
     "status": "completed"
    },
    "tags": []
   },
   "outputs": [
    {
     "data": {
      "text/plain": [
       "array(['A10', 'A14', 'A16', 'A19', 'A20', 'A23', 'A24', 'A26', 'A31',\n",
       "       'A32', 'A34', 'A36', 'A5', 'A6', 'A7', 'B101', 'B102', 'B18',\n",
       "       'B19', 'B20', 'B22', 'B28', 'B3', 'B30', 'B35', 'B37', 'B38',\n",
       "       'B39', 'B4', 'B41', 'B42', 'B49', 'B5', 'B50', 'B51 B53 B55',\n",
       "       'B57 B59 B63 B66', 'B58 B60', 'B69', 'B71', 'B73', 'B77', 'B78',\n",
       "       'B79', 'B80', 'B82 B84', 'B86', 'B94', 'B96 B98', 'C101', 'C103',\n",
       "       'C104', 'C106', 'C110', 'C111', 'C118', 'C123', 'C124', 'C125',\n",
       "       'C126', 'C128', 'C148', 'C2', 'C22 C26', 'C23 C25 C27', 'C30',\n",
       "       'C32', 'C45', 'C46', 'C47', 'C49', 'C50', 'C52', 'C54', 'C62 C64',\n",
       "       'C65', 'C68', 'C7', 'C70', 'C78', 'C82', 'C83', 'C85', 'C86',\n",
       "       'C87', 'C90', 'C91', 'C92', 'C93', 'C95', 'C99', 'D', 'D10 D12',\n",
       "       'D11', 'D15', 'D17', 'D19', 'D20', 'D21', 'D26', 'D28', 'D30',\n",
       "       'D33', 'D35', 'D36', 'D37', 'D45', 'D46', 'D47', 'D48', 'D49',\n",
       "       'D50', 'D56', 'D6', 'D7', 'D9', 'E10', 'E101', 'E12', 'E121',\n",
       "       'E17', 'E24', 'E25', 'E31', 'E33', 'E34', 'E36', 'E38', 'E40',\n",
       "       'E44', 'E46', 'E49', 'E50', 'E58', 'E63', 'E67', 'E68', 'E77',\n",
       "       'E8', 'F E69', 'F G63', 'F G73', 'F2', 'F33', 'F38', 'F4', 'G6',\n",
       "       'T', nan], dtype=object)"
      ]
     },
     "execution_count": 38,
     "metadata": {},
     "output_type": "execute_result"
    }
   ],
   "source": [
    "#Examining Training Cabins\n",
    "training['Cabin'].sort_values().unique()"
   ]
  },
  {
   "cell_type": "code",
   "execution_count": 39,
   "id": "efb76306",
   "metadata": {
    "execution": {
     "iopub.execute_input": "2023-01-10T12:14:20.958857Z",
     "iopub.status.busy": "2023-01-10T12:14:20.957788Z",
     "iopub.status.idle": "2023-01-10T12:14:20.965631Z",
     "shell.execute_reply": "2023-01-10T12:14:20.964289Z"
    },
    "papermill": {
     "duration": 0.05251,
     "end_time": "2023-01-10T12:14:20.967769",
     "exception": false,
     "start_time": "2023-01-10T12:14:20.915259",
     "status": "completed"
    },
    "tags": []
   },
   "outputs": [
    {
     "data": {
      "text/plain": [
       "array(['A11', 'A18', 'A21', 'A29', 'A34', 'A9', 'B10', 'B11', 'B24',\n",
       "       'B26', 'B36', 'B41', 'B45', 'B51 B53 B55', 'B52 B54 B56',\n",
       "       'B57 B59 B63 B66', 'B58 B60', 'B61', 'B69', 'B71', 'B78', 'C101',\n",
       "       'C105', 'C106', 'C116', 'C130', 'C132', 'C22 C26', 'C23 C25 C27',\n",
       "       'C28', 'C31', 'C32', 'C39', 'C46', 'C51', 'C53', 'C54', 'C55 C57',\n",
       "       'C6', 'C62 C64', 'C7', 'C78', 'C80', 'C85', 'C86', 'C89', 'C97',\n",
       "       'D', 'D10 D12', 'D15', 'D19', 'D21', 'D22', 'D28', 'D30', 'D34',\n",
       "       'D37', 'D38', 'D40', 'D43', 'E31', 'E34', 'E39 E41', 'E45', 'E46',\n",
       "       'E50', 'E52', 'E60', 'F', 'F E46', 'F E57', 'F G63', 'F2', 'F33',\n",
       "       'F4', 'G6', nan], dtype=object)"
      ]
     },
     "execution_count": 39,
     "metadata": {},
     "output_type": "execute_result"
    }
   ],
   "source": [
    "#Examining Testing Cabins\n",
    "testing['Cabin'].sort_values().unique()"
   ]
  },
  {
   "cell_type": "markdown",
   "id": "4ea65e02",
   "metadata": {
    "papermill": {
     "duration": 0.040704,
     "end_time": "2023-01-10T12:14:21.048925",
     "exception": false,
     "start_time": "2023-01-10T12:14:21.008221",
     "status": "completed"
    },
    "tags": []
   },
   "source": [
    "All tickets appear to have a prefix of the letters A,B,C,D,E,F,G, and T. \n",
    "What is the most common cabin?"
   ]
  },
  {
   "cell_type": "code",
   "execution_count": 40,
   "id": "a25243f7",
   "metadata": {
    "execution": {
     "iopub.execute_input": "2023-01-10T12:14:21.134959Z",
     "iopub.status.busy": "2023-01-10T12:14:21.134374Z",
     "iopub.status.idle": "2023-01-10T12:14:21.139817Z",
     "shell.execute_reply": "2023-01-10T12:14:21.139190Z"
    },
    "papermill": {
     "duration": 0.050807,
     "end_time": "2023-01-10T12:14:21.141774",
     "exception": false,
     "start_time": "2023-01-10T12:14:21.090967",
     "status": "completed"
    },
    "tags": []
   },
   "outputs": [],
   "source": [
    "#Filling Null Values in the Cabin column with 'N'\n",
    "\n",
    "training['Cabin'] = training['Cabin'].fillna('N')\n",
    "testing['Cabin'] = testing['Cabin'].fillna('N')"
   ]
  },
  {
   "cell_type": "code",
   "execution_count": 41,
   "id": "13dd731a",
   "metadata": {
    "execution": {
     "iopub.execute_input": "2023-01-10T12:14:21.226053Z",
     "iopub.status.busy": "2023-01-10T12:14:21.225372Z",
     "iopub.status.idle": "2023-01-10T12:14:21.231434Z",
     "shell.execute_reply": "2023-01-10T12:14:21.230534Z"
    },
    "papermill": {
     "duration": 0.050239,
     "end_time": "2023-01-10T12:14:21.233471",
     "exception": false,
     "start_time": "2023-01-10T12:14:21.183232",
     "status": "completed"
    },
    "tags": []
   },
   "outputs": [],
   "source": [
    "#Replacing Cabin Values with just the first character of the Cabin number\n",
    "training['Cabin'] = training['Cabin'].apply(lambda x : x[:1])\n",
    "testing['Cabin'] = testing['Cabin'].apply(lambda x : x[:1])"
   ]
  },
  {
   "cell_type": "code",
   "execution_count": 42,
   "id": "c5336b54",
   "metadata": {
    "execution": {
     "iopub.execute_input": "2023-01-10T12:14:21.316787Z",
     "iopub.status.busy": "2023-01-10T12:14:21.316406Z",
     "iopub.status.idle": "2023-01-10T12:14:21.324605Z",
     "shell.execute_reply": "2023-01-10T12:14:21.323923Z"
    },
    "papermill": {
     "duration": 0.052706,
     "end_time": "2023-01-10T12:14:21.327325",
     "exception": false,
     "start_time": "2023-01-10T12:14:21.274619",
     "status": "completed"
    },
    "tags": []
   },
   "outputs": [
    {
     "name": "stdout",
     "output_type": "stream",
     "text": [
      "Training\n",
      "N    0.771044\n",
      "C    0.066218\n",
      "B    0.052750\n",
      "D    0.037037\n",
      "E    0.035915\n",
      "A    0.016835\n",
      "F    0.014590\n",
      "G    0.004489\n",
      "T    0.001122\n",
      "Name: Cabin, dtype: float64\n",
      "\n",
      "\n",
      "* * * * * * * * * * * * * * * * * * * * \n",
      "\n",
      "\n",
      "Testing\n",
      "N    0.782297\n",
      "C    0.083732\n",
      "B    0.043062\n",
      "D    0.031100\n",
      "E    0.021531\n",
      "F    0.019139\n",
      "A    0.016746\n",
      "G    0.002392\n",
      "Name: Cabin, dtype: float64\n"
     ]
    }
   ],
   "source": [
    "#Value Counts in the Cabin column.\n",
    "\n",
    "print('Training')\n",
    "\n",
    "print(training['Cabin'].value_counts(normalize = True, dropna = False))\n",
    "\n",
    "lineOfStars()\n",
    "\n",
    "print('Testing')\n",
    "\n",
    "print(testing['Cabin'].value_counts(normalize = True))"
   ]
  },
  {
   "cell_type": "code",
   "execution_count": 43,
   "id": "7ea4c080",
   "metadata": {
    "execution": {
     "iopub.execute_input": "2023-01-10T12:14:21.410024Z",
     "iopub.status.busy": "2023-01-10T12:14:21.409372Z",
     "iopub.status.idle": "2023-01-10T12:14:21.417148Z",
     "shell.execute_reply": "2023-01-10T12:14:21.416010Z"
    },
    "papermill": {
     "duration": 0.051836,
     "end_time": "2023-01-10T12:14:21.419732",
     "exception": false,
     "start_time": "2023-01-10T12:14:21.367896",
     "status": "completed"
    },
    "tags": []
   },
   "outputs": [
    {
     "name": "stdout",
     "output_type": "stream",
     "text": [
      "Training\n",
      "N    687\n",
      "C     59\n",
      "B     47\n",
      "D     33\n",
      "E     32\n",
      "A     15\n",
      "F     13\n",
      "G      4\n",
      "T      1\n",
      "Name: Cabin, dtype: int64\n",
      "\n",
      "\n",
      "* * * * * * * * * * * * * * * * * * * * \n",
      "\n",
      "\n",
      "Testing\n",
      "N    327\n",
      "C     35\n",
      "B     18\n",
      "D     13\n",
      "E      9\n",
      "F      8\n",
      "A      7\n",
      "G      1\n",
      "Name: Cabin, dtype: int64\n"
     ]
    }
   ],
   "source": [
    "#Value Counts in the Cabin column.\n",
    "\n",
    "print('Training')\n",
    "\n",
    "print(training['Cabin'].value_counts( dropna = False))\n",
    "\n",
    "lineOfStars()\n",
    "\n",
    "print('Testing')\n",
    "\n",
    "print(testing['Cabin'].value_counts())"
   ]
  },
  {
   "cell_type": "code",
   "execution_count": 44,
   "id": "3377dc58",
   "metadata": {
    "execution": {
     "iopub.execute_input": "2023-01-10T12:14:21.501945Z",
     "iopub.status.busy": "2023-01-10T12:14:21.501548Z",
     "iopub.status.idle": "2023-01-10T12:14:21.774113Z",
     "shell.execute_reply": "2023-01-10T12:14:21.773156Z"
    },
    "papermill": {
     "duration": 0.315862,
     "end_time": "2023-01-10T12:14:21.776339",
     "exception": false,
     "start_time": "2023-01-10T12:14:21.460477",
     "status": "completed"
    },
    "tags": []
   },
   "outputs": [
    {
     "data": {
      "image/png": "[encoded data removed]",
      "text/plain": [
       "<Figure size 432x288 with 2 Axes>"
      ]
     },
     "metadata": {
      "needs_background": "light"
     },
     "output_type": "display_data"
    }
   ],
   "source": [
    "fig, ax = plt.subplots(1,2)\n",
    "\n",
    "sns.countplot(data = training, x = 'Cabin', ax = ax[0], order = training['Cabin'].value_counts().index)\n",
    "ax[0].set_title('All Passengers')\n",
    "\n",
    "sns.countplot(data = training[training['Cabin'] != 'N'], x = 'Cabin', ax = ax[1], order = training[training['Cabin'] != 'N']['Cabin'].value_counts().index)\n",
    "ax[1].set_title('Had a Cabin')\n",
    "\n",
    "fig.suptitle('# of Passengers')\n",
    "plt.tight_layout()\n",
    "\n",
    "plt.show()"
   ]
  },
  {
   "cell_type": "markdown",
   "id": "bc52511d",
   "metadata": {
    "papermill": {
     "duration": 0.039045,
     "end_time": "2023-01-10T12:14:21.854899",
     "exception": false,
     "start_time": "2023-01-10T12:14:21.815854",
     "status": "completed"
    },
    "tags": []
   },
   "source": [
    "We see that the majority of passengers did not have an assigned Cabin. Of the cabins that were assigned, the most common at 6% had prefix 'C'. The least common was prefix 'T' which was assigned to only one passenger.\n",
    "\n",
    "Does Cabin prefix give an indication of survival chances?"
   ]
  },
  {
   "cell_type": "code",
   "execution_count": 45,
   "id": "2bbc2abd",
   "metadata": {
    "execution": {
     "iopub.execute_input": "2023-01-10T12:14:21.938498Z",
     "iopub.status.busy": "2023-01-10T12:14:21.937713Z",
     "iopub.status.idle": "2023-01-10T12:14:22.392536Z",
     "shell.execute_reply": "2023-01-10T12:14:22.391787Z"
    },
    "papermill": {
     "duration": 0.499802,
     "end_time": "2023-01-10T12:14:22.394382",
     "exception": false,
     "start_time": "2023-01-10T12:14:21.894580",
     "status": "completed"
    },
    "tags": []
   },
   "outputs": [
    {
     "data": {
      "image/png": "[encoded data removed]",
      "text/plain": [
       "<Figure size 432x288 with 2 Axes>"
      ]
     },
     "metadata": {
      "needs_background": "light"
     },
     "output_type": "display_data"
    }
   ],
   "source": [
    "fig, ax = plt.subplots(1,2)\n",
    "\n",
    "sns.barplot(data = training, x = 'Cabin', y = 'Survived', ci=None, ax = ax[0], order = training['Cabin'].value_counts().index)\n",
    "ax[0].set_ylabel('Probability of Survival')\n",
    "ax[0].set_title('Prob of Survival by Cabin')\n",
    "\n",
    "\n",
    "sns.countplot(data = training, x = 'Cabin', hue = 'Survived', ax = ax[1], order = training['Cabin'].value_counts().index)\n",
    "ax[1].set_ylabel('# of Passengers')\n",
    "ax[1].set_title('# of Survivors by Cabin')\n",
    "\n",
    "\n",
    "fig.suptitle('Survival And Cabin')\n",
    "plt.tight_layout()\n",
    "plt.show()"
   ]
  },
  {
   "cell_type": "code",
   "execution_count": 46,
   "id": "e9150bd0",
   "metadata": {
    "execution": {
     "iopub.execute_input": "2023-01-10T12:14:22.478235Z",
     "iopub.status.busy": "2023-01-10T12:14:22.477054Z",
     "iopub.status.idle": "2023-01-10T12:14:22.489661Z",
     "shell.execute_reply": "2023-01-10T12:14:22.488305Z"
    },
    "papermill": {
     "duration": 0.05678,
     "end_time": "2023-01-10T12:14:22.491755",
     "exception": false,
     "start_time": "2023-01-10T12:14:22.434975",
     "status": "completed"
    },
    "tags": []
   },
   "outputs": [
    {
     "data": {
      "text/html": [
       "<div>\n",
       "<style scoped>\n",
       "    .dataframe tbody tr th:only-of-type {\n",
       "        vertical-align: middle;\n",
       "    }\n",
       "\n",
       "    .dataframe tbody tr th {\n",
       "        vertical-align: top;\n",
       "    }\n",
       "\n",
       "    .dataframe thead th {\n",
       "        text-align: right;\n",
       "    }\n",
       "</style>\n",
       "<table border=\"1\" class=\"dataframe\">\n",
       "  <thead>\n",
       "    <tr style=\"text-align: right;\">\n",
       "      <th></th>\n",
       "      <th>Survived</th>\n",
       "    </tr>\n",
       "    <tr>\n",
       "      <th>Cabin</th>\n",
       "      <th></th>\n",
       "    </tr>\n",
       "  </thead>\n",
       "  <tbody>\n",
       "    <tr>\n",
       "      <th>T</th>\n",
       "      <td>0.000000</td>\n",
       "    </tr>\n",
       "    <tr>\n",
       "      <th>N</th>\n",
       "      <td>0.299854</td>\n",
       "    </tr>\n",
       "    <tr>\n",
       "      <th>A</th>\n",
       "      <td>0.466667</td>\n",
       "    </tr>\n",
       "    <tr>\n",
       "      <th>G</th>\n",
       "      <td>0.500000</td>\n",
       "    </tr>\n",
       "    <tr>\n",
       "      <th>C</th>\n",
       "      <td>0.593220</td>\n",
       "    </tr>\n",
       "    <tr>\n",
       "      <th>F</th>\n",
       "      <td>0.615385</td>\n",
       "    </tr>\n",
       "    <tr>\n",
       "      <th>B</th>\n",
       "      <td>0.744681</td>\n",
       "    </tr>\n",
       "    <tr>\n",
       "      <th>E</th>\n",
       "      <td>0.750000</td>\n",
       "    </tr>\n",
       "    <tr>\n",
       "      <th>D</th>\n",
       "      <td>0.757576</td>\n",
       "    </tr>\n",
       "  </tbody>\n",
       "</table>\n",
       "</div>"
      ],
      "text/plain": [
       "       Survived\n",
       "Cabin          \n",
       "T      0.000000\n",
       "N      0.299854\n",
       "A      0.466667\n",
       "G      0.500000\n",
       "C      0.593220\n",
       "F      0.615385\n",
       "B      0.744681\n",
       "E      0.750000\n",
       "D      0.757576"
      ]
     },
     "execution_count": 46,
     "metadata": {},
     "output_type": "execute_result"
    }
   ],
   "source": [
    "#Probability of survival per Cabin\n",
    "training[['Cabin','Survived']].groupby(['Cabin']).mean().sort_values(by = 'Survived')"
   ]
  },
  {
   "cell_type": "markdown",
   "id": "23ce0f42",
   "metadata": {
    "papermill": {
     "duration": 0.041495,
     "end_time": "2023-01-10T12:14:22.574809",
     "exception": false,
     "start_time": "2023-01-10T12:14:22.533314",
     "status": "completed"
    },
    "tags": []
   },
   "source": [
    "We see that if you were in Cabins D, E, B, F, C, and G you had at least a 50% chance of survival. Passengers in cabins D and E had at least a 75% chance or survival. Those without a cabin had a 30% chance of survival. The single passenger on Cabin T did not survive. \n",
    "\n",
    "What is the probability if you had a Cabin that you survived?"
   ]
  },
  {
   "cell_type": "code",
   "execution_count": 47,
   "id": "73e7a326",
   "metadata": {
    "execution": {
     "iopub.execute_input": "2023-01-10T12:14:22.657212Z",
     "iopub.status.busy": "2023-01-10T12:14:22.656614Z",
     "iopub.status.idle": "2023-01-10T12:14:22.664469Z",
     "shell.execute_reply": "2023-01-10T12:14:22.663911Z"
    },
    "papermill": {
     "duration": 0.051303,
     "end_time": "2023-01-10T12:14:22.666232",
     "exception": false,
     "start_time": "2023-01-10T12:14:22.614929",
     "status": "completed"
    },
    "tags": []
   },
   "outputs": [
    {
     "data": {
      "text/plain": [
       "'If you had a cabin, you had a 66.67% chance of survival.'"
      ]
     },
     "execution_count": 47,
     "metadata": {},
     "output_type": "execute_result"
    }
   ],
   "source": [
    "#Chance of surviving if you had a cabin\n",
    "\n",
    "numHadCabAndSurv = len(training[(training['Survived'] == 1) & (training['Cabin'] != 'N')])\n",
    "numSurv = len(training[training['Cabin'] != 'N'])\n",
    "\n",
    "numHadCabAndSurv/numSurv\n",
    "\n",
    "'If you had a cabin, you had a {}% chance of survival.'.format(np.round(numHadCabAndSurv/numSurv*100, 2))"
   ]
  },
  {
   "cell_type": "markdown",
   "id": "bf4c9837",
   "metadata": {
    "papermill": {
     "duration": 0.040339,
     "end_time": "2023-01-10T12:14:22.746847",
     "exception": false,
     "start_time": "2023-01-10T12:14:22.706508",
     "status": "completed"
    },
    "tags": []
   },
   "source": [
    "# Numerical Data\n",
    "\n",
    "It's time to move onto Numerical data.\n",
    "\n",
    "Our numeric data features are Fare, Age, Sibsp, and Parch."
   ]
  },
  {
   "cell_type": "markdown",
   "id": "1434e616",
   "metadata": {
    "papermill": {
     "duration": 0.039469,
     "end_time": "2023-01-10T12:14:22.826249",
     "exception": false,
     "start_time": "2023-01-10T12:14:22.786780",
     "status": "completed"
    },
    "tags": []
   },
   "source": [
    "**Age**\n",
    "First let us examine age."
   ]
  },
  {
   "cell_type": "code",
   "execution_count": 48,
   "id": "022ce225",
   "metadata": {
    "execution": {
     "iopub.execute_input": "2023-01-10T12:14:22.908269Z",
     "iopub.status.busy": "2023-01-10T12:14:22.907168Z",
     "iopub.status.idle": "2023-01-10T12:14:22.917093Z",
     "shell.execute_reply": "2023-01-10T12:14:22.915823Z"
    },
    "papermill": {
     "duration": 0.052899,
     "end_time": "2023-01-10T12:14:22.918988",
     "exception": false,
     "start_time": "2023-01-10T12:14:22.866089",
     "status": "completed"
    },
    "tags": []
   },
   "outputs": [
    {
     "name": "stdout",
     "output_type": "stream",
     "text": [
      "median   28.0\n",
      "count    714.000000\n",
      "mean      29.699118\n",
      "std       14.526497\n",
      "min        0.420000\n",
      "25%       20.125000\n",
      "50%       28.000000\n",
      "75%       38.000000\n",
      "max       80.000000\n",
      "Name: Age, dtype: float64\n"
     ]
    }
   ],
   "source": [
    "print('median   {}'.format(training['Age'].median()))\n",
    "\n",
    "print(training['Age'].describe())"
   ]
  },
  {
   "cell_type": "code",
   "execution_count": 49,
   "id": "25768aad",
   "metadata": {
    "execution": {
     "iopub.execute_input": "2023-01-10T12:14:23.000008Z",
     "iopub.status.busy": "2023-01-10T12:14:22.999536Z",
     "iopub.status.idle": "2023-01-10T12:14:23.188331Z",
     "shell.execute_reply": "2023-01-10T12:14:23.186952Z"
    },
    "papermill": {
     "duration": 0.232146,
     "end_time": "2023-01-10T12:14:23.190628",
     "exception": false,
     "start_time": "2023-01-10T12:14:22.958482",
     "status": "completed"
    },
    "tags": []
   },
   "outputs": [
    {
     "data": {
      "image/png": "[encoded data removed]",
      "text/plain": [
       "<Figure size 432x288 with 1 Axes>"
      ]
     },
     "metadata": {
      "needs_background": "light"
     },
     "output_type": "display_data"
    }
   ],
   "source": [
    "sns.histplot(data = training, x = 'Age', binrange = [0,80], binwidth = 5, kde = True)\n",
    "plt.title('Histogram of Age. Bin Width = 5 years')\n",
    "plt.show()"
   ]
  },
  {
   "cell_type": "markdown",
   "id": "83db8e74",
   "metadata": {
    "papermill": {
     "duration": 0.040421,
     "end_time": "2023-01-10T12:14:23.271431",
     "exception": false,
     "start_time": "2023-01-10T12:14:23.231010",
     "status": "completed"
    },
    "tags": []
   },
   "source": [
    "We see the Age feature follows a somewhat normal distribution. The mean age is 29.6yrs, while the median is 28. The oldest passenger was 80yrs old."
   ]
  },
  {
   "cell_type": "code",
   "execution_count": 50,
   "id": "1daf71e6",
   "metadata": {
    "execution": {
     "iopub.execute_input": "2023-01-10T12:14:23.355799Z",
     "iopub.status.busy": "2023-01-10T12:14:23.355222Z",
     "iopub.status.idle": "2023-01-10T12:14:23.551751Z",
     "shell.execute_reply": "2023-01-10T12:14:23.550887Z"
    },
    "papermill": {
     "duration": 0.241226,
     "end_time": "2023-01-10T12:14:23.553694",
     "exception": false,
     "start_time": "2023-01-10T12:14:23.312468",
     "status": "completed"
    },
    "tags": []
   },
   "outputs": [
    {
     "data": {
      "image/png": "[encoded data removed]",
      "text/plain": [
       "<Figure size 432x288 with 1 Axes>"
      ]
     },
     "metadata": {
      "needs_background": "light"
     },
     "output_type": "display_data"
    }
   ],
   "source": [
    "sns.kdeplot(training['Age'][training['Survived']==1], label = 'Survived')\n",
    "sns.kdeplot(training['Age'][training['Survived']==0], label = 'Did Not Survive')\n",
    "plt.title('Age distribution by Survival')\n",
    "plt.xticks(np.arange(0, 81, step=10))\n",
    "plt.axvline(0, c = 'red', linestyle = '--', linewidth = 1)\n",
    "plt.axvline(80, c = 'red', linestyle = '--', linewidth = 1)\n",
    "plt.legend()\n",
    "plt.show()"
   ]
  },
  {
   "cell_type": "markdown",
   "id": "64b63884",
   "metadata": {
    "papermill": {
     "duration": 0.041397,
     "end_time": "2023-01-10T12:14:23.636405",
     "exception": false,
     "start_time": "2023-01-10T12:14:23.595008",
     "status": "completed"
    },
    "tags": []
   },
   "source": [
    "The left handside of the above plot seems to indicate that being a child greatly incresed your chance of surviving.\n",
    "\n",
    "What proportion of children (people 10 or less) survived?"
   ]
  },
  {
   "cell_type": "code",
   "execution_count": 51,
   "id": "7a1f1b28",
   "metadata": {
    "execution": {
     "iopub.execute_input": "2023-01-10T12:14:23.722794Z",
     "iopub.status.busy": "2023-01-10T12:14:23.722454Z",
     "iopub.status.idle": "2023-01-10T12:14:23.731674Z",
     "shell.execute_reply": "2023-01-10T12:14:23.730597Z"
    },
    "papermill": {
     "duration": 0.055783,
     "end_time": "2023-01-10T12:14:23.733978",
     "exception": false,
     "start_time": "2023-01-10T12:14:23.678195",
     "status": "completed"
    },
    "tags": []
   },
   "outputs": [
    {
     "data": {
      "text/plain": [
       "'59.38% of children survived'"
      ]
     },
     "execution_count": 51,
     "metadata": {},
     "output_type": "execute_result"
    }
   ],
   "source": [
    "numChildren = len(training[training['Age']<= 10])\n",
    "\n",
    "'{}% of children survived'.format(np.round(len(training[(training['Survived'] == 1) & (training['Age']<= 10)])/numChildren*100,2))"
   ]
  },
  {
   "cell_type": "markdown",
   "id": "9e476042",
   "metadata": {
    "papermill": {
     "duration": 0.041523,
     "end_time": "2023-01-10T12:14:23.818210",
     "exception": false,
     "start_time": "2023-01-10T12:14:23.776687",
     "status": "completed"
    },
    "tags": []
   },
   "source": [
    "Missing Ages need to be filled in. "
   ]
  },
  {
   "cell_type": "markdown",
   "id": "afde9ce1",
   "metadata": {
    "papermill": {
     "duration": 0.040615,
     "end_time": "2023-01-10T12:14:23.899992",
     "exception": false,
     "start_time": "2023-01-10T12:14:23.859377",
     "status": "completed"
    },
    "tags": []
   },
   "source": [
    "**Fares**\n",
    "\n",
    "Let's look at fares."
   ]
  },
  {
   "cell_type": "code",
   "execution_count": 52,
   "id": "853c45ad",
   "metadata": {
    "execution": {
     "iopub.execute_input": "2023-01-10T12:14:23.984287Z",
     "iopub.status.busy": "2023-01-10T12:14:23.983481Z",
     "iopub.status.idle": "2023-01-10T12:14:23.992123Z",
     "shell.execute_reply": "2023-01-10T12:14:23.990673Z"
    },
    "papermill": {
     "duration": 0.053302,
     "end_time": "2023-01-10T12:14:23.994472",
     "exception": false,
     "start_time": "2023-01-10T12:14:23.941170",
     "status": "completed"
    },
    "tags": []
   },
   "outputs": [
    {
     "name": "stdout",
     "output_type": "stream",
     "text": [
      "median   14.4542\n",
      "count    891.000000\n",
      "mean      32.204208\n",
      "std       49.693429\n",
      "min        0.000000\n",
      "25%        7.910400\n",
      "50%       14.454200\n",
      "75%       31.000000\n",
      "max      512.329200\n",
      "Name: Fare, dtype: float64\n"
     ]
    }
   ],
   "source": [
    "print('median   {}'.format(training['Fare'].median()))\n",
    "\n",
    "print(training['Fare'].describe())"
   ]
  },
  {
   "cell_type": "markdown",
   "id": "f49898b6",
   "metadata": {
    "papermill": {
     "duration": 0.040246,
     "end_time": "2023-01-10T12:14:24.075794",
     "exception": false,
     "start_time": "2023-01-10T12:14:24.035548",
     "status": "completed"
    },
    "tags": []
   },
   "source": [
    "Notice that the minimum fare is 0. This indicates that some people travelled for free."
   ]
  },
  {
   "cell_type": "code",
   "execution_count": 53,
   "id": "e6ddd8f4",
   "metadata": {
    "execution": {
     "iopub.execute_input": "2023-01-10T12:14:24.158187Z",
     "iopub.status.busy": "2023-01-10T12:14:24.157811Z",
     "iopub.status.idle": "2023-01-10T12:14:24.164940Z",
     "shell.execute_reply": "2023-01-10T12:14:24.164302Z"
    },
    "papermill": {
     "duration": 0.051117,
     "end_time": "2023-01-10T12:14:24.167335",
     "exception": false,
     "start_time": "2023-01-10T12:14:24.116218",
     "status": "completed"
    },
    "tags": []
   },
   "outputs": [
    {
     "data": {
      "text/plain": [
       "179                 Leonard, Mr. Lionel\n",
       "263               Harrison, Mr. William\n",
       "271        Tornquist, Mr. William Henry\n",
       "277         Parkes, Mr. Francis \"Frank\"\n",
       "302     Johnson, Mr. William Cahoone Jr\n",
       "413      Cunningham, Mr. Alfred Fleming\n",
       "466               Campbell, Mr. William\n",
       "481    Frost, Mr. Anthony Wood \"Archie\"\n",
       "597                 Johnson, Mr. Alfred\n",
       "633       Parr, Mr. William Henry Marsh\n",
       "674          Watson, Mr. Ennis Hastings\n",
       "732                Knight, Mr. Robert J\n",
       "806              Andrews, Mr. Thomas Jr\n",
       "815                    Fry, Mr. Richard\n",
       "822     Reuchlin, Jonkheer. John George\n",
       "Name: Name, dtype: object"
      ]
     },
     "execution_count": 53,
     "metadata": {},
     "output_type": "execute_result"
    }
   ],
   "source": [
    "#People who travelled for free.\n",
    "training[training['Fare']==0]['Name']"
   ]
  },
  {
   "cell_type": "markdown",
   "id": "964a7a6a",
   "metadata": {
    "papermill": {
     "duration": 0.04159,
     "end_time": "2023-01-10T12:14:24.250308",
     "exception": false,
     "start_time": "2023-01-10T12:14:24.208718",
     "status": "completed"
    },
    "tags": []
   },
   "source": [
    "Instead of having a shared ticket price per passenger, we should check if any people on the same ticket have paid a different fare."
   ]
  },
  {
   "cell_type": "code",
   "execution_count": 54,
   "id": "bd75463b",
   "metadata": {
    "execution": {
     "iopub.execute_input": "2023-01-10T12:14:24.336770Z",
     "iopub.status.busy": "2023-01-10T12:14:24.336239Z",
     "iopub.status.idle": "2023-01-10T12:14:24.398280Z",
     "shell.execute_reply": "2023-01-10T12:14:24.396664Z"
    },
    "papermill": {
     "duration": 0.108853,
     "end_time": "2023-01-10T12:14:24.400938",
     "exception": false,
     "start_time": "2023-01-10T12:14:24.292085",
     "status": "completed"
    },
    "tags": []
   },
   "outputs": [
    {
     "name": "stdout",
     "output_type": "stream",
     "text": [
      "Ticket 7534 had fares [9.2167, 9.8458].\n",
      "\n",
      " The passengers on this ticket were:\n",
      "                              Name    Fare\n",
      "138            Osen, Mr. Olaf Elon  9.2167\n",
      "876  Gustafsson, Mr. Alfred Ossian  9.8458\n"
     ]
    }
   ],
   "source": [
    "ticks = {}\n",
    "ticksCount = {}\n",
    "\n",
    "for index, row in training.iterrows():\n",
    "    if row['Ticket'] not in ticks:\n",
    "        ticks[row['Ticket']] = [row['Fare']]\n",
    "        ticksCount[row['Ticket']] = 1\n",
    "    else:\n",
    "        if row['Fare'] in ticks[row['Ticket']]:\n",
    "            pass\n",
    "        else:\n",
    "            ticks[row['Ticket']].append(row['Fare'])\n",
    "        ticksCount[row['Ticket']] += 1\n",
    "\n",
    "\n",
    "for key in ticks:\n",
    "    if len(ticks[key]) > 1:\n",
    "        print('Ticket {} had fares {}.'.format(key, ticks[key]))\n",
    "        print('\\n The passengers on this ticket were:')\n",
    "        \n",
    "        print(training[training['Ticket'] == key][['Name','Fare']])"
   ]
  },
  {
   "cell_type": "markdown",
   "id": "25dcdb15",
   "metadata": {
    "papermill": {
     "duration": 0.041492,
     "end_time": "2023-01-10T12:14:24.485829",
     "exception": false,
     "start_time": "2023-01-10T12:14:24.444337",
     "status": "completed"
    },
    "tags": []
   },
   "source": [
    "As part of feature engineering, maybe we should do fares per passenger rather than per ticket?"
   ]
  },
  {
   "cell_type": "code",
   "execution_count": 55,
   "id": "a4cc000b",
   "metadata": {
    "execution": {
     "iopub.execute_input": "2023-01-10T12:14:24.572249Z",
     "iopub.status.busy": "2023-01-10T12:14:24.571927Z",
     "iopub.status.idle": "2023-01-10T12:14:24.581690Z",
     "shell.execute_reply": "2023-01-10T12:14:24.580637Z"
    },
    "papermill": {
     "duration": 0.055236,
     "end_time": "2023-01-10T12:14:24.583921",
     "exception": false,
     "start_time": "2023-01-10T12:14:24.528685",
     "status": "completed"
    },
    "tags": []
   },
   "outputs": [
    {
     "data": {
      "text/plain": [
       "Counts\n",
       "1         547\n",
       "2          94\n",
       "3          21\n",
       "4          11\n",
       "6           3\n",
       "7           3\n",
       "5           2\n",
       "dtype: int64"
      ]
     },
     "execution_count": 55,
     "metadata": {},
     "output_type": "execute_result"
    }
   ],
   "source": [
    "pd.DataFrame({'Counts': ticksCount.values()}).value_counts()\n"
   ]
  },
  {
   "cell_type": "markdown",
   "id": "df5897c7",
   "metadata": {
    "papermill": {
     "duration": 0.041449,
     "end_time": "2023-01-10T12:14:24.666904",
     "exception": false,
     "start_time": "2023-01-10T12:14:24.625455",
     "status": "completed"
    },
    "tags": []
   },
   "source": [
    "**SibSp and Parch**\n"
   ]
  },
  {
   "cell_type": "markdown",
   "id": "6ca8a03e",
   "metadata": {
    "papermill": {
     "duration": 0.040932,
     "end_time": "2023-01-10T12:14:24.749366",
     "exception": false,
     "start_time": "2023-01-10T12:14:24.708434",
     "status": "completed"
    },
    "tags": []
   },
   "source": [
    "Let us look at SibSp first."
   ]
  },
  {
   "cell_type": "code",
   "execution_count": 56,
   "id": "cce56283",
   "metadata": {
    "execution": {
     "iopub.execute_input": "2023-01-10T12:14:24.833986Z",
     "iopub.status.busy": "2023-01-10T12:14:24.833293Z",
     "iopub.status.idle": "2023-01-10T12:14:24.842033Z",
     "shell.execute_reply": "2023-01-10T12:14:24.840620Z"
    },
    "papermill": {
     "duration": 0.053838,
     "end_time": "2023-01-10T12:14:24.844538",
     "exception": false,
     "start_time": "2023-01-10T12:14:24.790700",
     "status": "completed"
    },
    "tags": []
   },
   "outputs": [
    {
     "name": "stdout",
     "output_type": "stream",
     "text": [
      "Training\n",
      "0    0.682379\n",
      "1    0.234568\n",
      "2    0.031425\n",
      "4    0.020202\n",
      "3    0.017957\n",
      "8    0.007856\n",
      "5    0.005612\n",
      "Name: SibSp, dtype: float64\n",
      "\n",
      "\n",
      "* * * * * * * * * * * * * * * * * * * * \n",
      "\n",
      "\n",
      "Testing\n",
      "0    0.677033\n",
      "1    0.263158\n",
      "2    0.033493\n",
      "3    0.009569\n",
      "4    0.009569\n",
      "8    0.004785\n",
      "5    0.002392\n",
      "Name: SibSp, dtype: float64\n"
     ]
    }
   ],
   "source": [
    "#Value Counts in the SibSp column.\n",
    "\n",
    "print('Training')\n",
    "\n",
    "print(training['SibSp'].value_counts(normalize = True, dropna = False))\n",
    "\n",
    "lineOfStars()\n",
    "\n",
    "print('Testing')\n",
    "\n",
    "print(testing['SibSp'].value_counts(normalize = True))"
   ]
  },
  {
   "cell_type": "code",
   "execution_count": 57,
   "id": "32e54b43",
   "metadata": {
    "execution": {
     "iopub.execute_input": "2023-01-10T12:14:24.930472Z",
     "iopub.status.busy": "2023-01-10T12:14:24.929898Z",
     "iopub.status.idle": "2023-01-10T12:14:25.055386Z",
     "shell.execute_reply": "2023-01-10T12:14:25.054677Z"
    },
    "papermill": {
     "duration": 0.170645,
     "end_time": "2023-01-10T12:14:25.057420",
     "exception": false,
     "start_time": "2023-01-10T12:14:24.886775",
     "status": "completed"
    },
    "tags": []
   },
   "outputs": [
    {
     "data": {
      "image/png": "[encoded data removed]",
      "text/plain": [
       "<Figure size 432x288 with 1 Axes>"
      ]
     },
     "metadata": {
      "needs_background": "light"
     },
     "output_type": "display_data"
    }
   ],
   "source": [
    "ax = sns.countplot(data = training, x = 'SibSp')\n",
    "ax.set_title('# of Passengers per SibSp')\n",
    "plt.show()"
   ]
  },
  {
   "cell_type": "markdown",
   "id": "db859e55",
   "metadata": {
    "papermill": {
     "duration": 0.041754,
     "end_time": "2023-01-10T12:14:25.145794",
     "exception": false,
     "start_time": "2023-01-10T12:14:25.104040",
     "status": "completed"
    },
    "tags": []
   },
   "source": [
    "We se that the majority of passengers (68%) travelled without a sibling or a spouse."
   ]
  },
  {
   "cell_type": "code",
   "execution_count": 58,
   "id": "690a14de",
   "metadata": {
    "execution": {
     "iopub.execute_input": "2023-01-10T12:14:25.230914Z",
     "iopub.status.busy": "2023-01-10T12:14:25.230361Z",
     "iopub.status.idle": "2023-01-10T12:14:25.530221Z",
     "shell.execute_reply": "2023-01-10T12:14:25.528644Z"
    },
    "papermill": {
     "duration": 0.345058,
     "end_time": "2023-01-10T12:14:25.532324",
     "exception": false,
     "start_time": "2023-01-10T12:14:25.187266",
     "status": "completed"
    },
    "tags": []
   },
   "outputs": [
    {
     "data": {
      "image/png": "[encoded data removed]",
      "text/plain": [
       "<Figure size 432x288 with 2 Axes>"
      ]
     },
     "metadata": {
      "needs_background": "light"
     },
     "output_type": "display_data"
    }
   ],
   "source": [
    "fig, ax = plt.subplots(1,2)\n",
    "\n",
    "sns.barplot(data = training, x = 'SibSp', y = 'Survived', ci=None, ax = ax[0])\n",
    "ax[0].set_ylabel('Probability of Survival')\n",
    "ax[0].set_title('Prob of Survival by SibSp')\n",
    "\n",
    "\n",
    "sns.countplot(data = training, x = 'SibSp', hue = 'Survived', ax = ax[1])\n",
    "ax[1].set_ylabel('# of Passengers')\n",
    "ax[1].set_title('# of Survivors by SibSp')\n",
    "\n",
    "\n",
    "fig.suptitle('Survival And SibSp')\n",
    "plt.tight_layout()\n",
    "plt.show()"
   ]
  },
  {
   "cell_type": "markdown",
   "id": "4f37bd27",
   "metadata": {
    "papermill": {
     "duration": 0.042272,
     "end_time": "2023-01-10T12:14:25.617268",
     "exception": false,
     "start_time": "2023-01-10T12:14:25.574996",
     "status": "completed"
    },
    "tags": []
   },
   "source": [
    "The above shows that if you travelled with one sibling or spouse, you had over a 50% chance of survival."
   ]
  },
  {
   "cell_type": "code",
   "execution_count": 59,
   "id": "f54d50f4",
   "metadata": {
    "execution": {
     "iopub.execute_input": "2023-01-10T12:14:25.703402Z",
     "iopub.status.busy": "2023-01-10T12:14:25.702959Z",
     "iopub.status.idle": "2023-01-10T12:14:25.712629Z",
     "shell.execute_reply": "2023-01-10T12:14:25.711181Z"
    },
    "papermill": {
     "duration": 0.055457,
     "end_time": "2023-01-10T12:14:25.714732",
     "exception": false,
     "start_time": "2023-01-10T12:14:25.659275",
     "status": "completed"
    },
    "tags": []
   },
   "outputs": [
    {
     "name": "stdout",
     "output_type": "stream",
     "text": [
      "Training\n",
      "0    0.760943\n",
      "1    0.132435\n",
      "2    0.089787\n",
      "5    0.005612\n",
      "3    0.005612\n",
      "4    0.004489\n",
      "6    0.001122\n",
      "Name: Parch, dtype: float64\n",
      "\n",
      "\n",
      "* * * * * * * * * * * * * * * * * * * * \n",
      "\n",
      "\n",
      "Testing\n",
      "0    0.775120\n",
      "1    0.124402\n",
      "2    0.078947\n",
      "3    0.007177\n",
      "4    0.004785\n",
      "9    0.004785\n",
      "6    0.002392\n",
      "5    0.002392\n",
      "Name: Parch, dtype: float64\n"
     ]
    }
   ],
   "source": [
    "#Value Counts in the parch column.\n",
    "\n",
    "print('Training')\n",
    "\n",
    "print(training['Parch'].value_counts(normalize = True, dropna = False))\n",
    "\n",
    "lineOfStars()\n",
    "\n",
    "print('Testing')\n",
    "\n",
    "print(testing['Parch'].value_counts(normalize = True))"
   ]
  },
  {
   "cell_type": "code",
   "execution_count": 60,
   "id": "24659927",
   "metadata": {
    "execution": {
     "iopub.execute_input": "2023-01-10T12:14:25.802910Z",
     "iopub.status.busy": "2023-01-10T12:14:25.802282Z",
     "iopub.status.idle": "2023-01-10T12:14:25.938009Z",
     "shell.execute_reply": "2023-01-10T12:14:25.936916Z"
    },
    "papermill": {
     "duration": 0.182303,
     "end_time": "2023-01-10T12:14:25.940378",
     "exception": false,
     "start_time": "2023-01-10T12:14:25.758075",
     "status": "completed"
    },
    "tags": []
   },
   "outputs": [
    {
     "data": {
      "image/png": "[encoded data removed]",
      "text/plain": [
       "<Figure size 432x288 with 1 Axes>"
      ]
     },
     "metadata": {
      "needs_background": "light"
     },
     "output_type": "display_data"
    }
   ],
   "source": [
    "ax = sns.countplot(data = training, x = 'Parch')\n",
    "ax.set_title('# of Passengers per Parch')\n",
    "plt.show()"
   ]
  },
  {
   "cell_type": "markdown",
   "id": "09e72648",
   "metadata": {
    "papermill": {
     "duration": 0.042538,
     "end_time": "2023-01-10T12:14:26.028844",
     "exception": false,
     "start_time": "2023-01-10T12:14:25.986306",
     "status": "completed"
    },
    "tags": []
   },
   "source": [
    "We see that the majority of passengers (76%) travelled without a parent or child."
   ]
  },
  {
   "cell_type": "code",
   "execution_count": 61,
   "id": "6f02fcf6",
   "metadata": {
    "execution": {
     "iopub.execute_input": "2023-01-10T12:14:26.116597Z",
     "iopub.status.busy": "2023-01-10T12:14:26.115955Z",
     "iopub.status.idle": "2023-01-10T12:14:26.408311Z",
     "shell.execute_reply": "2023-01-10T12:14:26.407200Z"
    },
    "papermill": {
     "duration": 0.339808,
     "end_time": "2023-01-10T12:14:26.411204",
     "exception": false,
     "start_time": "2023-01-10T12:14:26.071396",
     "status": "completed"
    },
    "tags": []
   },
   "outputs": [
    {
     "data": {
      "image/png": "[encoded data removed]",
      "text/plain": [
       "<Figure size 432x288 with 2 Axes>"
      ]
     },
     "metadata": {
      "needs_background": "light"
     },
     "output_type": "display_data"
    }
   ],
   "source": [
    "fig, ax = plt.subplots(1,2)\n",
    "\n",
    "sns.barplot(data = training, x = 'Parch', y = 'Survived', ci=None, ax = ax[0])\n",
    "ax[0].set_ylabel('Probability of Survival')\n",
    "ax[0].set_title('Prob of Survival by Parch')\n",
    "\n",
    "\n",
    "sns.countplot(data = training, x = 'Parch', hue = 'Survived', ax = ax[1])\n",
    "ax[1].set_ylabel('# of Passengers')\n",
    "ax[1].set_title('# of Survivors by Parch')\n",
    "\n",
    "\n",
    "fig.suptitle('Survival And Parch')\n",
    "plt.tight_layout()\n",
    "plt.show()"
   ]
  },
  {
   "cell_type": "markdown",
   "id": "260188e8",
   "metadata": {
    "papermill": {
     "duration": 0.048141,
     "end_time": "2023-01-10T12:14:26.517756",
     "exception": false,
     "start_time": "2023-01-10T12:14:26.469615",
     "status": "completed"
    },
    "tags": []
   },
   "source": [
    "The above shows that if you travelled with 1 or 3 parents or children, you had over 50% of surviving. This backs up our earlier observation that children had a high probability of being saved."
   ]
  },
  {
   "cell_type": "markdown",
   "id": "e84b262c",
   "metadata": {
    "papermill": {
     "duration": 0.042814,
     "end_time": "2023-01-10T12:14:26.603749",
     "exception": false,
     "start_time": "2023-01-10T12:14:26.560935",
     "status": "completed"
    },
    "tags": []
   },
   "source": [
    "# Data Preprocessing\n",
    "\n",
    "It is time to clean our data."
   ]
  },
  {
   "cell_type": "code",
   "execution_count": 62,
   "id": "e497c651",
   "metadata": {
    "execution": {
     "iopub.execute_input": "2023-01-10T12:14:26.691757Z",
     "iopub.status.busy": "2023-01-10T12:14:26.691395Z",
     "iopub.status.idle": "2023-01-10T12:14:26.700863Z",
     "shell.execute_reply": "2023-01-10T12:14:26.699860Z"
    },
    "papermill": {
     "duration": 0.056377,
     "end_time": "2023-01-10T12:14:26.702836",
     "exception": false,
     "start_time": "2023-01-10T12:14:26.646459",
     "status": "completed"
    },
    "tags": []
   },
   "outputs": [
    {
     "data": {
      "text/plain": [
       "Survived      0\n",
       "Pclass        0\n",
       "Name          0\n",
       "Sex           0\n",
       "Age         177\n",
       "SibSp         0\n",
       "Parch         0\n",
       "Ticket        0\n",
       "Fare          0\n",
       "Cabin         0\n",
       "Embarked      2\n",
       "dtype: int64"
      ]
     },
     "execution_count": 62,
     "metadata": {},
     "output_type": "execute_result"
    }
   ],
   "source": [
    "#What is na in training\n",
    "training.isna().sum()"
   ]
  },
  {
   "cell_type": "code",
   "execution_count": 63,
   "id": "a911355a",
   "metadata": {
    "execution": {
     "iopub.execute_input": "2023-01-10T12:14:26.790973Z",
     "iopub.status.busy": "2023-01-10T12:14:26.790605Z",
     "iopub.status.idle": "2023-01-10T12:14:26.798533Z",
     "shell.execute_reply": "2023-01-10T12:14:26.797917Z"
    },
    "papermill": {
     "duration": 0.054763,
     "end_time": "2023-01-10T12:14:26.800479",
     "exception": false,
     "start_time": "2023-01-10T12:14:26.745716",
     "status": "completed"
    },
    "tags": []
   },
   "outputs": [
    {
     "data": {
      "text/plain": [
       "Pclass       0\n",
       "Name         0\n",
       "Sex          0\n",
       "Age         86\n",
       "SibSp        0\n",
       "Parch        0\n",
       "Ticket       0\n",
       "Fare         1\n",
       "Cabin        0\n",
       "Embarked     0\n",
       "dtype: int64"
      ]
     },
     "execution_count": 63,
     "metadata": {},
     "output_type": "execute_result"
    }
   ],
   "source": [
    "#What is na in testing\n",
    "testing.isna().sum()"
   ]
  },
  {
   "cell_type": "markdown",
   "id": "de71ec08",
   "metadata": {
    "papermill": {
     "duration": 0.043476,
     "end_time": "2023-01-10T12:14:26.887452",
     "exception": false,
     "start_time": "2023-01-10T12:14:26.843976",
     "status": "completed"
    },
    "tags": []
   },
   "source": [
    "Firstly we will change the Name feature. Instead we will extract everyone's title. "
   ]
  },
  {
   "cell_type": "code",
   "execution_count": 64,
   "id": "08e3b0a0",
   "metadata": {
    "execution": {
     "iopub.execute_input": "2023-01-10T12:14:26.976693Z",
     "iopub.status.busy": "2023-01-10T12:14:26.975858Z",
     "iopub.status.idle": "2023-01-10T12:14:26.983906Z",
     "shell.execute_reply": "2023-01-10T12:14:26.982921Z"
    },
    "papermill": {
     "duration": 0.054294,
     "end_time": "2023-01-10T12:14:26.985997",
     "exception": false,
     "start_time": "2023-01-10T12:14:26.931703",
     "status": "completed"
    },
    "tags": []
   },
   "outputs": [],
   "source": [
    "#grabbing titles\n",
    "training['Title'] = training['Name'].apply(lambda x : x.split(',')[1].split('.')[0].strip())\n",
    "testing['Title'] = testing['Name'].apply(lambda x : x.split(',')[1].split('.')[0].strip())"
   ]
  },
  {
   "cell_type": "code",
   "execution_count": 65,
   "id": "8b8b3fde",
   "metadata": {
    "execution": {
     "iopub.execute_input": "2023-01-10T12:14:27.074410Z",
     "iopub.status.busy": "2023-01-10T12:14:27.073822Z",
     "iopub.status.idle": "2023-01-10T12:14:27.083903Z",
     "shell.execute_reply": "2023-01-10T12:14:27.082763Z"
    },
    "papermill": {
     "duration": 0.056242,
     "end_time": "2023-01-10T12:14:27.085762",
     "exception": false,
     "start_time": "2023-01-10T12:14:27.029520",
     "status": "completed"
    },
    "tags": []
   },
   "outputs": [
    {
     "name": "stdout",
     "output_type": "stream",
     "text": [
      "Mr              517\n",
      "Miss            182\n",
      "Mrs             125\n",
      "Master           40\n",
      "Dr                7\n",
      "Rev               6\n",
      "Mlle              2\n",
      "Major             2\n",
      "Col               2\n",
      "the Countess      1\n",
      "Capt              1\n",
      "Ms                1\n",
      "Sir               1\n",
      "Lady              1\n",
      "Mme               1\n",
      "Don               1\n",
      "Jonkheer          1\n",
      "Name: Title, dtype: int64\n",
      "\n",
      "\n",
      "* * * * * * * * * * * * * * * * * * * * \n",
      "\n",
      "\n"
     ]
    },
    {
     "data": {
      "text/plain": [
       "Mr        240\n",
       "Miss       78\n",
       "Mrs        72\n",
       "Master     21\n",
       "Col         2\n",
       "Rev         2\n",
       "Ms          1\n",
       "Dr          1\n",
       "Dona        1\n",
       "Name: Title, dtype: int64"
      ]
     },
     "execution_count": 65,
     "metadata": {},
     "output_type": "execute_result"
    }
   ],
   "source": [
    "#Counts of titles\n",
    "print(training['Title'].value_counts())\n",
    "lineOfStars()\n",
    "testing['Title'].value_counts()"
   ]
  },
  {
   "cell_type": "markdown",
   "id": "808df92a",
   "metadata": {
    "papermill": {
     "duration": 0.042995,
     "end_time": "2023-01-10T12:14:27.172594",
     "exception": false,
     "start_time": "2023-01-10T12:14:27.129599",
     "status": "completed"
    },
    "tags": []
   },
   "source": [
    "We will combine some titles such as Miss, Mlle, and Ms."
   ]
  },
  {
   "cell_type": "code",
   "execution_count": 66,
   "id": "21c654a1",
   "metadata": {
    "execution": {
     "iopub.execute_input": "2023-01-10T12:14:27.260528Z",
     "iopub.status.busy": "2023-01-10T12:14:27.260211Z",
     "iopub.status.idle": "2023-01-10T12:14:27.275317Z",
     "shell.execute_reply": "2023-01-10T12:14:27.274412Z"
    },
    "papermill": {
     "duration": 0.061085,
     "end_time": "2023-01-10T12:14:27.277492",
     "exception": false,
     "start_time": "2023-01-10T12:14:27.216407",
     "status": "completed"
    },
    "tags": []
   },
   "outputs": [
    {
     "data": {
      "text/plain": [
       "Mr        517\n",
       "Miss      185\n",
       "Mrs       126\n",
       "Master     40\n",
       "Other      10\n",
       "Dr          7\n",
       "Rev         6\n",
       "Name: Title, dtype: int64"
      ]
     },
     "execution_count": 66,
     "metadata": {},
     "output_type": "execute_result"
    }
   ],
   "source": [
    "#Group some titles\n",
    "for df in [training, testing]:\n",
    "    df['Title'] = df['Title'].replace(['Mlle', 'Ms'], 'Miss')\n",
    "    df['Title'] = df['Title'].replace('Mme', 'Mrs')\n",
    "    df['Title'] = df['Title'].replace(['Major', 'Col', 'the Countess', 'Capt', 'Sir', 'Lady', \n",
    "                                       'Don', 'Jonkheer', 'Dona'], 'Other')\n",
    "\n",
    "training['Title'].value_counts()"
   ]
  },
  {
   "cell_type": "code",
   "execution_count": 67,
   "id": "eac245d4",
   "metadata": {
    "execution": {
     "iopub.execute_input": "2023-01-10T12:14:27.366696Z",
     "iopub.status.busy": "2023-01-10T12:14:27.365229Z",
     "iopub.status.idle": "2023-01-10T12:14:27.530029Z",
     "shell.execute_reply": "2023-01-10T12:14:27.529221Z"
    },
    "papermill": {
     "duration": 0.211288,
     "end_time": "2023-01-10T12:14:27.531864",
     "exception": false,
     "start_time": "2023-01-10T12:14:27.320576",
     "status": "completed"
    },
    "tags": []
   },
   "outputs": [
    {
     "data": {
      "image/png": "[encoded data removed]",
      "text/plain": [
       "<Figure size 432x288 with 1 Axes>"
      ]
     },
     "metadata": {
      "needs_background": "light"
     },
     "output_type": "display_data"
    }
   ],
   "source": [
    "#Survival by title\n",
    "sns.barplot(data = training, x = 'Title', y = 'Survived', ci=None)\n",
    "plt.axhline(y = 0.5, linestyle = '--', label = '50%', c = 'black')\n",
    "plt.ylabel('Probability of Survival')\n",
    "plt.title('Prob of Survival by Title')\n",
    "plt.legend()\n",
    "plt.show()"
   ]
  },
  {
   "cell_type": "markdown",
   "id": "afd7b175",
   "metadata": {
    "papermill": {
     "duration": 0.042061,
     "end_time": "2023-01-10T12:14:27.617179",
     "exception": false,
     "start_time": "2023-01-10T12:14:27.575118",
     "status": "completed"
    },
    "tags": []
   },
   "source": [
    "The above shows that those with the title Mrs, Miss and Master had over a 50% chance of survival. This reflects the observation that women and children had high chance of survival."
   ]
  },
  {
   "cell_type": "code",
   "execution_count": 68,
   "id": "fa525bf3",
   "metadata": {
    "execution": {
     "iopub.execute_input": "2023-01-10T12:14:27.703439Z",
     "iopub.status.busy": "2023-01-10T12:14:27.702425Z",
     "iopub.status.idle": "2023-01-10T12:14:27.710077Z",
     "shell.execute_reply": "2023-01-10T12:14:27.709259Z"
    },
    "papermill": {
     "duration": 0.052724,
     "end_time": "2023-01-10T12:14:27.711748",
     "exception": false,
     "start_time": "2023-01-10T12:14:27.659024",
     "status": "completed"
    },
    "tags": []
   },
   "outputs": [],
   "source": [
    "#Dropping Name\n",
    "for df in [training, testing]:\n",
    "    df.drop('Name', axis = 1, inplace = True)"
   ]
  },
  {
   "cell_type": "markdown",
   "id": "d7ae5d47",
   "metadata": {
    "papermill": {
     "duration": 0.042307,
     "end_time": "2023-01-10T12:14:27.796743",
     "exception": false,
     "start_time": "2023-01-10T12:14:27.754436",
     "status": "completed"
    },
    "tags": []
   },
   "source": [
    "**Embarked**\n",
    "\n",
    "For the null Embarked values, we will replace these will the most common entry : Southamptom."
   ]
  },
  {
   "cell_type": "code",
   "execution_count": 69,
   "id": "d74db2eb",
   "metadata": {
    "execution": {
     "iopub.execute_input": "2023-01-10T12:14:27.886628Z",
     "iopub.status.busy": "2023-01-10T12:14:27.885645Z",
     "iopub.status.idle": "2023-01-10T12:14:27.893182Z",
     "shell.execute_reply": "2023-01-10T12:14:27.892257Z"
    },
    "papermill": {
     "duration": 0.055842,
     "end_time": "2023-01-10T12:14:27.895202",
     "exception": false,
     "start_time": "2023-01-10T12:14:27.839360",
     "status": "completed"
    },
    "tags": []
   },
   "outputs": [],
   "source": [
    "#Getting most common embarking destingation adnnd using it to fill missing values.\n",
    "\n",
    "modeEmbarked = training['Embarked'].dropna().mode()[0]\n",
    "\n",
    "for df in [training, testing]:\n",
    "    df['Embarked'].fillna(modeEmbarked, inplace = True)\n"
   ]
  },
  {
   "cell_type": "markdown",
   "id": "13acba7e",
   "metadata": {
    "papermill": {
     "duration": 0.043532,
     "end_time": "2023-01-10T12:14:27.981922",
     "exception": false,
     "start_time": "2023-01-10T12:14:27.938390",
     "status": "completed"
    },
    "tags": []
   },
   "source": [
    "**Age**\n",
    "\n",
    "Let us examine who is missing an age."
   ]
  },
  {
   "cell_type": "code",
   "execution_count": 70,
   "id": "e5ed8322",
   "metadata": {
    "execution": {
     "iopub.execute_input": "2023-01-10T12:14:28.070444Z",
     "iopub.status.busy": "2023-01-10T12:14:28.069311Z",
     "iopub.status.idle": "2023-01-10T12:14:28.199087Z",
     "shell.execute_reply": "2023-01-10T12:14:28.198357Z"
    },
    "papermill": {
     "duration": 0.176157,
     "end_time": "2023-01-10T12:14:28.201418",
     "exception": false,
     "start_time": "2023-01-10T12:14:28.025261",
     "status": "completed"
    },
    "tags": []
   },
   "outputs": [
    {
     "data": {
      "image/png": "[encoded data removed]",
      "text/plain": [
       "<Figure size 432x288 with 1 Axes>"
      ]
     },
     "metadata": {
      "needs_background": "light"
     },
     "output_type": "display_data"
    }
   ],
   "source": [
    "sns.countplot(data = training.loc[training['Age'].isna()], x = 'Pclass', hue = 'Sex')\n",
    "plt.title('# of missing ages by class per gender')\n",
    "plt.legend()\n",
    "plt.show()"
   ]
  },
  {
   "cell_type": "code",
   "execution_count": 71,
   "id": "14b64b06",
   "metadata": {
    "execution": {
     "iopub.execute_input": "2023-01-10T12:14:28.302960Z",
     "iopub.status.busy": "2023-01-10T12:14:28.302002Z",
     "iopub.status.idle": "2023-01-10T12:14:28.320665Z",
     "shell.execute_reply": "2023-01-10T12:14:28.319895Z"
    },
    "papermill": {
     "duration": 0.069184,
     "end_time": "2023-01-10T12:14:28.322883",
     "exception": false,
     "start_time": "2023-01-10T12:14:28.253699",
     "status": "completed"
    },
    "tags": []
   },
   "outputs": [],
   "source": [
    "#Creating a dictionary of the median by class and gender\n",
    "medianAges = {}\n",
    "\n",
    "for sex in ['male','female']:\n",
    "    for pclass in [1,2,3]:\n",
    "        medianAges[sex + str(pclass)] = training.loc[(training['Sex'] == sex) & (training['Pclass'] == pclass)]['Age'].dropna().median()"
   ]
  },
  {
   "cell_type": "code",
   "execution_count": 72,
   "id": "739b0ea5",
   "metadata": {
    "execution": {
     "iopub.execute_input": "2023-01-10T12:14:28.414112Z",
     "iopub.status.busy": "2023-01-10T12:14:28.413391Z",
     "iopub.status.idle": "2023-01-10T12:14:28.549379Z",
     "shell.execute_reply": "2023-01-10T12:14:28.548116Z"
    },
    "papermill": {
     "duration": 0.185298,
     "end_time": "2023-01-10T12:14:28.551694",
     "exception": false,
     "start_time": "2023-01-10T12:14:28.366396",
     "status": "completed"
    },
    "tags": []
   },
   "outputs": [],
   "source": [
    "#Using the median ages from the training class to fill in nan values.\n",
    "for df in [training, testing]:\n",
    "    for index, row in df.iterrows():\n",
    "        if pd.isna(row['Age']):\n",
    "            key = row['Sex'] + str(row['Pclass'])\n",
    "            df.loc[index, 'Age'] = medianAges[key]"
   ]
  },
  {
   "cell_type": "markdown",
   "id": "eb6c9b89",
   "metadata": {
    "papermill": {
     "duration": 0.044241,
     "end_time": "2023-01-10T12:14:28.643449",
     "exception": false,
     "start_time": "2023-01-10T12:14:28.599208",
     "status": "completed"
    },
    "tags": []
   },
   "source": [
    "**Sex**\n",
    "\n",
    "Sex must be converted to integers."
   ]
  },
  {
   "cell_type": "code",
   "execution_count": 73,
   "id": "7be98b99",
   "metadata": {
    "execution": {
     "iopub.execute_input": "2023-01-10T12:14:28.732985Z",
     "iopub.status.busy": "2023-01-10T12:14:28.732279Z",
     "iopub.status.idle": "2023-01-10T12:14:28.739417Z",
     "shell.execute_reply": "2023-01-10T12:14:28.738710Z"
    },
    "papermill": {
     "duration": 0.054557,
     "end_time": "2023-01-10T12:14:28.741529",
     "exception": false,
     "start_time": "2023-01-10T12:14:28.686972",
     "status": "completed"
    },
    "tags": []
   },
   "outputs": [],
   "source": [
    "#Setting male to 1 and female to 0\n",
    "for df in [training, testing]:\n",
    "    df['Sex'].replace({'male': 1, 'female' : 0}, inplace = True)"
   ]
  },
  {
   "cell_type": "markdown",
   "id": "188512bd",
   "metadata": {
    "papermill": {
     "duration": 0.045718,
     "end_time": "2023-01-10T12:14:28.833790",
     "exception": false,
     "start_time": "2023-01-10T12:14:28.788072",
     "status": "completed"
    },
    "tags": []
   },
   "source": [
    "**Age**\n",
    "\n",
    "We will replace individual ages with Age bins. We will use bins of size 10 years. So there will be 8 bins.\n",
    "0 -> (0, 10], 1 -> (10, 20], ....., 7 -> (70, 80]"
   ]
  },
  {
   "cell_type": "code",
   "execution_count": 74,
   "id": "a00b6787",
   "metadata": {
    "execution": {
     "iopub.execute_input": "2023-01-10T12:14:28.924328Z",
     "iopub.status.busy": "2023-01-10T12:14:28.923737Z",
     "iopub.status.idle": "2023-01-10T12:14:28.935200Z",
     "shell.execute_reply": "2023-01-10T12:14:28.934205Z"
    },
    "papermill": {
     "duration": 0.05911,
     "end_time": "2023-01-10T12:14:28.937194",
     "exception": false,
     "start_time": "2023-01-10T12:14:28.878084",
     "status": "completed"
    },
    "tags": []
   },
   "outputs": [],
   "source": [
    "#Creating the bin age \n",
    "for df in [training, testing]:\n",
    "    df['Agebin'] = pd.cut(df['Age'], bins = [-1, 0,10,20,30,40,50,60,70,80], right = True, labels = np.arange(-1,8,1))\n",
    "    df.drop('Age', axis = 1, inplace = True)\n",
    "    df['Agebin'] = df['Agebin'].astype('int')\n"
   ]
  },
  {
   "cell_type": "code",
   "execution_count": 75,
   "id": "f1562740",
   "metadata": {
    "execution": {
     "iopub.execute_input": "2023-01-10T12:14:29.025367Z",
     "iopub.status.busy": "2023-01-10T12:14:29.024971Z",
     "iopub.status.idle": "2023-01-10T12:14:29.034454Z",
     "shell.execute_reply": "2023-01-10T12:14:29.033507Z"
    },
    "papermill": {
     "duration": 0.055372,
     "end_time": "2023-01-10T12:14:29.036301",
     "exception": false,
     "start_time": "2023-01-10T12:14:28.980929",
     "status": "completed"
    },
    "tags": []
   },
   "outputs": [
    {
     "data": {
      "text/plain": [
       "count    891.000000\n",
       "mean       2.373737\n",
       "std        1.319919\n",
       "min        0.000000\n",
       "25%        2.000000\n",
       "50%        2.000000\n",
       "75%        3.000000\n",
       "max        7.000000\n",
       "Name: Agebin, dtype: float64"
      ]
     },
     "execution_count": 75,
     "metadata": {},
     "output_type": "execute_result"
    }
   ],
   "source": [
    "training['Agebin'].describe()"
   ]
  },
  {
   "cell_type": "markdown",
   "id": "852b0d75",
   "metadata": {
    "papermill": {
     "duration": 0.04288,
     "end_time": "2023-01-10T12:14:29.123189",
     "exception": false,
     "start_time": "2023-01-10T12:14:29.080309",
     "status": "completed"
    },
    "tags": []
   },
   "source": [
    "**Fare**\n",
    "\n",
    "There are now no na entires in the training set.\n",
    "\n",
    "Before filling the testing data, we examine group sizes to create a 'Fare per passneger' instead of the current 'Fare' price which is per ticket."
   ]
  },
  {
   "cell_type": "code",
   "execution_count": 76,
   "id": "ceb3dbe3",
   "metadata": {
    "execution": {
     "iopub.execute_input": "2023-01-10T12:14:29.210912Z",
     "iopub.status.busy": "2023-01-10T12:14:29.210103Z",
     "iopub.status.idle": "2023-01-10T12:14:29.223646Z",
     "shell.execute_reply": "2023-01-10T12:14:29.222373Z"
    },
    "papermill": {
     "duration": 0.060272,
     "end_time": "2023-01-10T12:14:29.226301",
     "exception": false,
     "start_time": "2023-01-10T12:14:29.166029",
     "status": "completed"
    },
    "tags": []
   },
   "outputs": [
    {
     "name": "stdout",
     "output_type": "stream",
     "text": [
      "<class 'pandas.core.frame.DataFrame'>\n",
      "RangeIndex: 891 entries, 0 to 890\n",
      "Data columns (total 11 columns):\n",
      " #   Column    Non-Null Count  Dtype   \n",
      "---  ------    --------------  -----   \n",
      " 0   Survived  891 non-null    int64   \n",
      " 1   Pclass    891 non-null    category\n",
      " 2   Sex       891 non-null    int64   \n",
      " 3   SibSp     891 non-null    int64   \n",
      " 4   Parch     891 non-null    int64   \n",
      " 5   Ticket    891 non-null    object  \n",
      " 6   Fare      891 non-null    float64 \n",
      " 7   Cabin     891 non-null    object  \n",
      " 8   Embarked  891 non-null    object  \n",
      " 9   Title     891 non-null    object  \n",
      " 10  Agebin    891 non-null    int64   \n",
      "dtypes: category(1), float64(1), int64(5), object(4)\n",
      "memory usage: 70.7+ KB\n"
     ]
    }
   ],
   "source": [
    "training.info()"
   ]
  },
  {
   "cell_type": "markdown",
   "id": "0ae2e0ba",
   "metadata": {
    "papermill": {
     "duration": 0.043688,
     "end_time": "2023-01-10T12:14:29.315334",
     "exception": false,
     "start_time": "2023-01-10T12:14:29.271646",
     "status": "completed"
    },
    "tags": []
   },
   "source": [
    "We use TicksCount to create an 'alone' feature. We assume if you are sharing a ticket, you are travelling in a group."
   ]
  },
  {
   "cell_type": "code",
   "execution_count": 77,
   "id": "22d56e76",
   "metadata": {
    "execution": {
     "iopub.execute_input": "2023-01-10T12:14:29.405549Z",
     "iopub.status.busy": "2023-01-10T12:14:29.404782Z",
     "iopub.status.idle": "2023-01-10T12:14:29.429269Z",
     "shell.execute_reply": "2023-01-10T12:14:29.427999Z"
    },
    "papermill": {
     "duration": 0.07149,
     "end_time": "2023-01-10T12:14:29.431173",
     "exception": false,
     "start_time": "2023-01-10T12:14:29.359683",
     "status": "completed"
    },
    "tags": []
   },
   "outputs": [
    {
     "data": {
      "text/plain": [
       "{'A/5 21171': 1,\n",
       " 'PC 17599': 1,\n",
       " 'STON/O2. 3101282': 1,\n",
       " '113803': 2,\n",
       " '373450': 1,\n",
       " '330877': 1,\n",
       " '17463': 1,\n",
       " '349909': 4,\n",
       " '347742': 3,\n",
       " '237736': 2,\n",
       " 'PP 9549': 2,\n",
       " '113783': 1,\n",
       " 'A/5. 2151': 1,\n",
       " '347082': 7,\n",
       " '350406': 1,\n",
       " '248706': 1,\n",
       " '382652': 5,\n",
       " '244373': 1,\n",
       " '345763': 1,\n",
       " '2649': 1,\n",
       " '239865': 2,\n",
       " '248698': 1,\n",
       " '330923': 1,\n",
       " '113788': 1,\n",
       " '347077': 4,\n",
       " '2631': 1,\n",
       " '19950': 4,\n",
       " '330959': 1,\n",
       " '349216': 1,\n",
       " 'PC 17601': 1,\n",
       " 'PC 17569': 2,\n",
       " '335677': 1,\n",
       " 'C.A. 24579': 1,\n",
       " 'PC 17604': 2,\n",
       " '113789': 2,\n",
       " '2677': 1,\n",
       " 'A./5. 2152': 1,\n",
       " '345764': 2,\n",
       " '2651': 2,\n",
       " '7546': 1,\n",
       " '11668': 2,\n",
       " '349253': 1,\n",
       " 'SC/Paris 2123': 3,\n",
       " '330958': 1,\n",
       " 'S.C./A.4. 23567': 1,\n",
       " '370371': 1,\n",
       " '14311': 1,\n",
       " '2662': 1,\n",
       " '349237': 2,\n",
       " '3101295': 6,\n",
       " 'A/4. 39886': 1,\n",
       " 'PC 17572': 3,\n",
       " '2926': 1,\n",
       " '113509': 1,\n",
       " '19947': 1,\n",
       " 'C.A. 31026': 1,\n",
       " '2697': 1,\n",
       " 'C.A. 34651': 3,\n",
       " 'CA 2144': 6,\n",
       " '2669': 1,\n",
       " '113572': 2,\n",
       " '36973': 2,\n",
       " '347088': 6,\n",
       " 'PC 17605': 1,\n",
       " '2661': 2,\n",
       " 'C.A. 29395': 1,\n",
       " 'S.P. 3464': 1,\n",
       " '3101281': 1,\n",
       " '315151': 1,\n",
       " 'C.A. 33111': 1,\n",
       " 'S.O.C. 14879': 5,\n",
       " '2680': 1,\n",
       " '1601': 7,\n",
       " '348123': 1,\n",
       " '349208': 1,\n",
       " '374746': 1,\n",
       " '248738': 2,\n",
       " '364516': 2,\n",
       " '345767': 1,\n",
       " '345779': 1,\n",
       " '330932': 1,\n",
       " '113059': 1,\n",
       " 'SO/C 14885': 1,\n",
       " '3101278': 2,\n",
       " 'W./C. 6608': 4,\n",
       " 'SOTON/OQ 392086': 1,\n",
       " '343275': 1,\n",
       " '343276': 1,\n",
       " '347466': 1,\n",
       " 'W.E.P. 5734': 1,\n",
       " 'C.A. 2315': 2,\n",
       " '364500': 1,\n",
       " '374910': 1,\n",
       " 'PC 17754': 1,\n",
       " 'PC 17759': 1,\n",
       " '231919': 2,\n",
       " '244367': 2,\n",
       " '349245': 1,\n",
       " '349215': 1,\n",
       " '35281': 2,\n",
       " '7540': 1,\n",
       " '3101276': 1,\n",
       " '349207': 1,\n",
       " '343120': 1,\n",
       " '312991': 1,\n",
       " '349249': 1,\n",
       " '371110': 3,\n",
       " '110465': 2,\n",
       " '2665': 2,\n",
       " '324669': 1,\n",
       " '4136': 1,\n",
       " '2627': 2,\n",
       " 'STON/O 2. 3101294': 1,\n",
       " '370369': 1,\n",
       " 'PC 17558': 2,\n",
       " 'A4. 54510': 1,\n",
       " '27267': 1,\n",
       " '370372': 1,\n",
       " 'C 17369': 1,\n",
       " '2668': 2,\n",
       " '347061': 1,\n",
       " '349241': 1,\n",
       " 'SOTON/O.Q. 3101307': 1,\n",
       " 'A/5. 3337': 1,\n",
       " '228414': 1,\n",
       " 'C.A. 29178': 1,\n",
       " 'SC/PARIS 2133': 1,\n",
       " '11752': 1,\n",
       " '7534': 2,\n",
       " 'PC 17593': 2,\n",
       " '2678': 2,\n",
       " '347081': 1,\n",
       " 'STON/O2. 3101279': 2,\n",
       " '365222': 1,\n",
       " '231945': 1,\n",
       " 'C.A. 33112': 2,\n",
       " '350043': 1,\n",
       " '230080': 3,\n",
       " '244310': 1,\n",
       " 'S.O.P. 1166': 1,\n",
       " '113776': 2,\n",
       " 'A.5. 11206': 1,\n",
       " 'A/5. 851': 1,\n",
       " 'Fa 265302': 1,\n",
       " 'PC 17597': 1,\n",
       " '35851': 1,\n",
       " 'SOTON/OQ 392090': 1,\n",
       " '315037': 1,\n",
       " 'CA. 2343': 7,\n",
       " '371362': 1,\n",
       " 'C.A. 33595': 1,\n",
       " '347068': 1,\n",
       " '315093': 1,\n",
       " '363291': 3,\n",
       " '113505': 2,\n",
       " 'PC 17318': 1,\n",
       " '111240': 1,\n",
       " 'STON/O 2. 3101280': 1,\n",
       " '17764': 1,\n",
       " '350404': 1,\n",
       " '4133': 4,\n",
       " 'PC 17595': 1,\n",
       " '250653': 1,\n",
       " 'LINE': 4,\n",
       " 'SC/PARIS 2131': 1,\n",
       " '230136': 2,\n",
       " '315153': 1,\n",
       " '113767': 1,\n",
       " '370365': 2,\n",
       " '111428': 1,\n",
       " '364849': 2,\n",
       " '349247': 1,\n",
       " '234604': 1,\n",
       " '28424': 1,\n",
       " '350046': 1,\n",
       " 'PC 17610': 1,\n",
       " '368703': 1,\n",
       " '4579': 1,\n",
       " '370370': 1,\n",
       " '248747': 1,\n",
       " '345770': 1,\n",
       " '3101264': 1,\n",
       " '2628': 1,\n",
       " 'A/5 3540': 1,\n",
       " '347054': 2,\n",
       " '2699': 2,\n",
       " '367231': 1,\n",
       " '112277': 1,\n",
       " 'SOTON/O.Q. 3101311': 1,\n",
       " 'F.C.C. 13528': 1,\n",
       " 'A/5 21174': 1,\n",
       " '250646': 1,\n",
       " '367229': 1,\n",
       " '35273': 3,\n",
       " 'STON/O2. 3101283': 1,\n",
       " '243847': 2,\n",
       " '11813': 1,\n",
       " 'W/C 14208': 1,\n",
       " 'SOTON/OQ 392089': 1,\n",
       " '220367': 1,\n",
       " '21440': 1,\n",
       " '349234': 1,\n",
       " '19943': 2,\n",
       " 'PP 4348': 1,\n",
       " 'SW/PP 751': 1,\n",
       " 'A/5 21173': 1,\n",
       " '236171': 1,\n",
       " '347067': 1,\n",
       " '237442': 1,\n",
       " 'C.A. 29566': 1,\n",
       " 'W./C. 6609': 1,\n",
       " '26707': 1,\n",
       " 'C.A. 31921': 3,\n",
       " '28665': 1,\n",
       " 'SCO/W 1585': 1,\n",
       " '367230': 2,\n",
       " 'W./C. 14263': 1,\n",
       " 'STON/O 2. 3101275': 1,\n",
       " '2694': 1,\n",
       " '19928': 2,\n",
       " '347071': 1,\n",
       " '250649': 2,\n",
       " '11751': 2,\n",
       " '244252': 2,\n",
       " '362316': 1,\n",
       " '113514': 1,\n",
       " 'A/5. 3336': 2,\n",
       " '370129': 2,\n",
       " '2650': 1,\n",
       " 'PC 17585': 1,\n",
       " '110152': 3,\n",
       " 'PC 17755': 3,\n",
       " '230433': 2,\n",
       " '384461': 1,\n",
       " '110413': 3,\n",
       " '112059': 1,\n",
       " '382649': 1,\n",
       " 'C.A. 17248': 1,\n",
       " '347083': 1,\n",
       " 'PC 17582': 3,\n",
       " 'PC 17760': 3,\n",
       " '113798': 2,\n",
       " '250644': 2,\n",
       " 'PC 17596': 1,\n",
       " '370375': 1,\n",
       " '13502': 3,\n",
       " '347073': 1,\n",
       " '239853': 3,\n",
       " 'C.A. 2673': 2,\n",
       " '336439': 1,\n",
       " '347464': 1,\n",
       " '345778': 1,\n",
       " 'A/5. 10482': 1,\n",
       " '113056': 1,\n",
       " '349239': 1,\n",
       " '345774': 1,\n",
       " '349206': 1,\n",
       " '237798': 1,\n",
       " '370373': 1,\n",
       " '19877': 2,\n",
       " '11967': 2,\n",
       " 'SC/Paris 2163': 1,\n",
       " '349236': 1,\n",
       " '349233': 1,\n",
       " 'PC 17612': 1,\n",
       " '2693': 1,\n",
       " '113781': 4,\n",
       " '19988': 1,\n",
       " '9234': 1,\n",
       " '367226': 2,\n",
       " '226593': 1,\n",
       " 'A/5 2466': 1,\n",
       " '17421': 4,\n",
       " 'PC 17758': 2,\n",
       " 'P/PP 3381': 2,\n",
       " 'PC 17485': 2,\n",
       " '11767': 2,\n",
       " 'PC 17608': 2,\n",
       " '250651': 1,\n",
       " '349243': 1,\n",
       " 'F.C.C. 13529': 3,\n",
       " '347470': 1,\n",
       " '29011': 1,\n",
       " '36928': 2,\n",
       " '16966': 2,\n",
       " 'A/5 21172': 1,\n",
       " '349219': 1,\n",
       " '234818': 1,\n",
       " '345364': 1,\n",
       " '28551': 1,\n",
       " '111361': 2,\n",
       " '113043': 1,\n",
       " 'PC 17611': 2,\n",
       " '349225': 1,\n",
       " '7598': 1,\n",
       " '113784': 1,\n",
       " '248740': 1,\n",
       " '244361': 1,\n",
       " '229236': 1,\n",
       " '248733': 1,\n",
       " '31418': 1,\n",
       " '386525': 1,\n",
       " 'C.A. 37671': 2,\n",
       " '315088': 1,\n",
       " '7267': 1,\n",
       " '113510': 1,\n",
       " '2695': 1,\n",
       " '2647': 1,\n",
       " '345783': 1,\n",
       " '237671': 1,\n",
       " '330931': 1,\n",
       " '330980': 1,\n",
       " 'SC/PARIS 2167': 1,\n",
       " '2691': 2,\n",
       " 'SOTON/O.Q. 3101310': 1,\n",
       " 'C 7076': 1,\n",
       " '110813': 1,\n",
       " '2626': 1,\n",
       " '14313': 1,\n",
       " 'PC 17477': 2,\n",
       " '11765': 1,\n",
       " '3101267': 1,\n",
       " '323951': 1,\n",
       " 'C 7077': 1,\n",
       " '113503': 1,\n",
       " '2648': 1,\n",
       " '347069': 1,\n",
       " 'PC 17757': 4,\n",
       " '2653': 2,\n",
       " 'STON/O 2. 3101293': 1,\n",
       " '349227': 1,\n",
       " '27849': 1,\n",
       " '367655': 1,\n",
       " 'SC 1748': 1,\n",
       " '113760': 4,\n",
       " '350034': 1,\n",
       " '3101277': 1,\n",
       " '350052': 1,\n",
       " '350407': 1,\n",
       " '28403': 2,\n",
       " '244278': 1,\n",
       " '240929': 1,\n",
       " 'STON/O 2. 3101289': 1,\n",
       " '341826': 1,\n",
       " '4137': 1,\n",
       " '315096': 1,\n",
       " '28664': 1,\n",
       " '347064': 1,\n",
       " '29106': 3,\n",
       " '312992': 1,\n",
       " '349222': 1,\n",
       " '394140': 1,\n",
       " 'STON/O 2. 3101269': 1,\n",
       " '343095': 1,\n",
       " '28220': 1,\n",
       " '250652': 1,\n",
       " '28228': 1,\n",
       " '345773': 3,\n",
       " '349254': 1,\n",
       " 'A/5. 13032': 1,\n",
       " '315082': 1,\n",
       " '347080': 2,\n",
       " 'A/4. 34244': 1,\n",
       " '2003': 1,\n",
       " '250655': 2,\n",
       " '364851': 1,\n",
       " 'SOTON/O.Q. 392078': 1,\n",
       " '110564': 1,\n",
       " '376564': 2,\n",
       " 'SC/AH 3085': 1,\n",
       " 'STON/O 2. 3101274': 1,\n",
       " '13507': 2,\n",
       " 'C.A. 18723': 1,\n",
       " '345769': 1,\n",
       " '347076': 1,\n",
       " '230434': 1,\n",
       " '65306': 1,\n",
       " '33638': 1,\n",
       " '113794': 1,\n",
       " '2666': 4,\n",
       " '113786': 1,\n",
       " '65303': 1,\n",
       " '113051': 1,\n",
       " '17453': 2,\n",
       " 'A/5 2817': 1,\n",
       " '349240': 1,\n",
       " '13509': 1,\n",
       " '17464': 1,\n",
       " 'F.C.C. 13531': 1,\n",
       " '371060': 1,\n",
       " '19952': 1,\n",
       " '364506': 1,\n",
       " '111320': 1,\n",
       " '234360': 1,\n",
       " 'A/S 2816': 1,\n",
       " 'SOTON/O.Q. 3101306': 1,\n",
       " '113792': 1,\n",
       " '36209': 1,\n",
       " '323592': 1,\n",
       " '315089': 1,\n",
       " 'SC/AH Basle 541': 1,\n",
       " '7553': 1,\n",
       " '31027': 2,\n",
       " '3460': 1,\n",
       " '350060': 1,\n",
       " '3101298': 1,\n",
       " '239854': 1,\n",
       " 'A/5 3594': 1,\n",
       " '4134': 1,\n",
       " '11771': 1,\n",
       " 'A.5. 18509': 1,\n",
       " '65304': 1,\n",
       " 'SOTON/OQ 3101317': 1,\n",
       " '113787': 1,\n",
       " 'PC 17609': 1,\n",
       " 'A/4 45380': 1,\n",
       " '36947': 2,\n",
       " 'C.A. 6212': 1,\n",
       " '350035': 1,\n",
       " '315086': 1,\n",
       " '364846': 1,\n",
       " '330909': 1,\n",
       " '4135': 1,\n",
       " '26360': 2,\n",
       " '111427': 1,\n",
       " 'C 4001': 1,\n",
       " '382651': 1,\n",
       " 'SOTON/OQ 3101316': 1,\n",
       " 'PC 17473': 1,\n",
       " 'PC 17603': 1,\n",
       " '349209': 1,\n",
       " '36967': 1,\n",
       " 'C.A. 34260': 1,\n",
       " '226875': 1,\n",
       " '349242': 1,\n",
       " '12749': 2,\n",
       " '349252': 1,\n",
       " '2624': 1,\n",
       " '2700': 1,\n",
       " '367232': 1,\n",
       " 'W./C. 14258': 1,\n",
       " 'PC 17483': 1,\n",
       " '3101296': 1,\n",
       " '29104': 1,\n",
       " '2641': 1,\n",
       " '2690': 1,\n",
       " '315084': 1,\n",
       " '113050': 1,\n",
       " 'PC 17761': 2,\n",
       " '364498': 1,\n",
       " '13568': 1,\n",
       " 'WE/P 5735': 2,\n",
       " '2908': 2,\n",
       " '693': 1,\n",
       " 'SC/PARIS 2146': 1,\n",
       " '244358': 1,\n",
       " '330979': 1,\n",
       " '2620': 1,\n",
       " '347085': 1,\n",
       " '113807': 1,\n",
       " '11755': 1,\n",
       " '345572': 1,\n",
       " '372622': 1,\n",
       " '349251': 1,\n",
       " '218629': 1,\n",
       " 'SOTON/OQ 392082': 1,\n",
       " 'SOTON/O.Q. 392087': 1,\n",
       " 'A/4 48871': 2,\n",
       " '349205': 1,\n",
       " '2686': 1,\n",
       " '350417': 1,\n",
       " 'S.W./PP 752': 1,\n",
       " '11769': 1,\n",
       " 'PC 17474': 1,\n",
       " '14312': 1,\n",
       " 'A/4. 20589': 1,\n",
       " '358585': 2,\n",
       " '243880': 1,\n",
       " '2689': 1,\n",
       " 'STON/O 2. 3101286': 1,\n",
       " '237789': 1,\n",
       " '13049': 1,\n",
       " '3411': 1,\n",
       " '237565': 1,\n",
       " '13567': 1,\n",
       " '14973': 1,\n",
       " 'A./5. 3235': 1,\n",
       " 'STON/O 2. 3101273': 1,\n",
       " 'A/5 3902': 1,\n",
       " '364848': 1,\n",
       " 'SC/AH 29037': 1,\n",
       " '248727': 3,\n",
       " '2664': 1,\n",
       " '349214': 1,\n",
       " '113796': 1,\n",
       " '364511': 1,\n",
       " '111426': 1,\n",
       " '349910': 1,\n",
       " '349246': 1,\n",
       " '113804': 1,\n",
       " 'SOTON/O.Q. 3101305': 1,\n",
       " '370377': 1,\n",
       " '364512': 1,\n",
       " '220845': 2,\n",
       " '31028': 1,\n",
       " '2659': 2,\n",
       " '11753': 1,\n",
       " '350029': 1,\n",
       " '54636': 2,\n",
       " '36963': 1,\n",
       " '219533': 1,\n",
       " '349224': 1,\n",
       " '334912': 1,\n",
       " '27042': 1,\n",
       " '347743': 1,\n",
       " '13214': 1,\n",
       " '112052': 1,\n",
       " '237668': 1,\n",
       " 'STON/O 2. 3101292': 1,\n",
       " '350050': 1,\n",
       " '349231': 1,\n",
       " '13213': 1,\n",
       " 'S.O./P.P. 751': 1,\n",
       " 'CA. 2314': 1,\n",
       " '349221': 1,\n",
       " '8475': 1,\n",
       " '330919': 1,\n",
       " '365226': 1,\n",
       " '349223': 1,\n",
       " '29751': 1,\n",
       " '2623': 1,\n",
       " '5727': 1,\n",
       " '349210': 1,\n",
       " 'STON/O 2. 3101285': 1,\n",
       " '234686': 1,\n",
       " '312993': 1,\n",
       " 'A/5 3536': 1,\n",
       " '19996': 2,\n",
       " '29750': 2,\n",
       " 'F.C. 12750': 1,\n",
       " 'C.A. 24580': 1,\n",
       " '244270': 1,\n",
       " '239856': 1,\n",
       " '349912': 1,\n",
       " '342826': 1,\n",
       " '4138': 1,\n",
       " '330935': 1,\n",
       " '6563': 1,\n",
       " '349228': 1,\n",
       " '350036': 1,\n",
       " '24160': 3,\n",
       " '17474': 2,\n",
       " '349256': 1,\n",
       " '2672': 1,\n",
       " '113800': 1,\n",
       " '248731': 1,\n",
       " '363592': 1,\n",
       " '35852': 1,\n",
       " '348121': 1,\n",
       " 'PC 17475': 1,\n",
       " '36864': 1,\n",
       " '350025': 1,\n",
       " '223596': 1,\n",
       " 'PC 17476': 1,\n",
       " 'PC 17482': 1,\n",
       " '113028': 1,\n",
       " '7545': 1,\n",
       " '250647': 2,\n",
       " '348124': 1,\n",
       " '34218': 1,\n",
       " '36568': 1,\n",
       " '347062': 1,\n",
       " '350048': 1,\n",
       " '12233': 1,\n",
       " '250643': 1,\n",
       " '113806': 2,\n",
       " '315094': 1,\n",
       " '36866': 1,\n",
       " '236853': 1,\n",
       " 'STON/O2. 3101271': 1,\n",
       " '239855': 1,\n",
       " '28425': 1,\n",
       " '233639': 1,\n",
       " '349201': 1,\n",
       " '349218': 1,\n",
       " '16988': 1,\n",
       " '376566': 1,\n",
       " 'STON/O 2. 3101288': 1,\n",
       " '250648': 1,\n",
       " '113773': 1,\n",
       " '335097': 1,\n",
       " '29103': 1,\n",
       " '392096': 2,\n",
       " '345780': 1,\n",
       " '349204': 1,\n",
       " '350042': 1,\n",
       " '29108': 1,\n",
       " '363294': 1,\n",
       " 'SOTON/O2 3101272': 1,\n",
       " '2663': 1,\n",
       " '347074': 1,\n",
       " '112379': 1,\n",
       " '364850': 1,\n",
       " '8471': 1,\n",
       " '345781': 1,\n",
       " '350047': 1,\n",
       " 'S.O./P.P. 3': 2,\n",
       " '2674': 1,\n",
       " '29105': 1,\n",
       " '347078': 1,\n",
       " '383121': 1,\n",
       " '36865': 1,\n",
       " '2687': 1,\n",
       " '113501': 1,\n",
       " 'W./C. 6607': 2,\n",
       " 'SOTON/O.Q. 3101312': 1,\n",
       " '374887': 1,\n",
       " '3101265': 1,\n",
       " '12460': 1,\n",
       " 'PC 17600': 1,\n",
       " '349203': 1,\n",
       " '28213': 1,\n",
       " '17465': 1,\n",
       " '349244': 1,\n",
       " '2685': 1,\n",
       " '2625': 1,\n",
       " '347089': 1,\n",
       " '347063': 1,\n",
       " '112050': 1,\n",
       " '347087': 1,\n",
       " '248723': 1,\n",
       " '3474': 1,\n",
       " '28206': 1,\n",
       " '364499': 1,\n",
       " '112058': 1,\n",
       " 'STON/O2. 3101290': 1,\n",
       " 'S.C./PARIS 2079': 2,\n",
       " 'C 7075': 1,\n",
       " '315098': 1,\n",
       " '19972': 1,\n",
       " '368323': 1,\n",
       " '367228': 1,\n",
       " '2671': 1,\n",
       " '347468': 1,\n",
       " '2223': 1,\n",
       " 'PC 17756': 1,\n",
       " '315097': 1,\n",
       " '392092': 1,\n",
       " '11774': 1,\n",
       " 'SOTON/O2 3101287': 1,\n",
       " '2683': 1,\n",
       " '315090': 1,\n",
       " 'C.A. 5547': 1,\n",
       " '349213': 1,\n",
       " '347060': 1,\n",
       " 'PC 17592': 1,\n",
       " '392091': 1,\n",
       " '113055': 1,\n",
       " '2629': 1,\n",
       " '350026': 1,\n",
       " '28134': 1,\n",
       " '17466': 1,\n",
       " '233866': 1,\n",
       " '236852': 1,\n",
       " 'SC/PARIS 2149': 1,\n",
       " 'PC 17590': 1,\n",
       " '345777': 1,\n",
       " '349248': 1,\n",
       " '695': 1,\n",
       " '345765': 1,\n",
       " '2667': 1,\n",
       " '349212': 1,\n",
       " '349217': 1,\n",
       " '349257': 1,\n",
       " '7552': 1,\n",
       " 'C.A./SOTON 34068': 1,\n",
       " 'SOTON/OQ 392076': 1,\n",
       " '211536': 1,\n",
       " '112053': 1,\n",
       " '111369': 1,\n",
       " '370376': 1}"
      ]
     },
     "execution_count": 77,
     "metadata": {},
     "output_type": "execute_result"
    }
   ],
   "source": [
    "#This was the number of people who shared a ticket number\n",
    "ticksCount"
   ]
  },
  {
   "cell_type": "code",
   "execution_count": 78,
   "id": "f8f04271",
   "metadata": {
    "execution": {
     "iopub.execute_input": "2023-01-10T12:14:29.522751Z",
     "iopub.status.busy": "2023-01-10T12:14:29.522387Z",
     "iopub.status.idle": "2023-01-10T12:14:29.748225Z",
     "shell.execute_reply": "2023-01-10T12:14:29.747283Z"
    },
    "papermill": {
     "duration": 0.274608,
     "end_time": "2023-01-10T12:14:29.750497",
     "exception": false,
     "start_time": "2023-01-10T12:14:29.475889",
     "status": "completed"
    },
    "tags": []
   },
   "outputs": [],
   "source": [
    "training['notAlone'] = -1\n",
    "\n",
    "for index, row in training.iterrows():\n",
    "    if ticksCount[str(row['Ticket'])] > 1 or row['SibSp'] > 0 or row['Parch'] > 0:\n",
    "        training.loc[index, 'notAlone'] = 1\n",
    "    else:\n",
    "        training.loc[index, 'notAlone'] = 0"
   ]
  },
  {
   "cell_type": "markdown",
   "id": "6abe8223",
   "metadata": {
    "papermill": {
     "duration": 0.043286,
     "end_time": "2023-01-10T12:14:29.838414",
     "exception": false,
     "start_time": "2023-01-10T12:14:29.795128",
     "status": "completed"
    },
    "tags": []
   },
   "source": [
    "Now examining Test data:"
   ]
  },
  {
   "cell_type": "code",
   "execution_count": 79,
   "id": "876083fb",
   "metadata": {
    "execution": {
     "iopub.execute_input": "2023-01-10T12:14:29.928002Z",
     "iopub.status.busy": "2023-01-10T12:14:29.927613Z",
     "iopub.status.idle": "2023-01-10T12:14:29.938411Z",
     "shell.execute_reply": "2023-01-10T12:14:29.937725Z"
    },
    "papermill": {
     "duration": 0.058388,
     "end_time": "2023-01-10T12:14:29.940716",
     "exception": false,
     "start_time": "2023-01-10T12:14:29.882328",
     "status": "completed"
    },
    "tags": []
   },
   "outputs": [
    {
     "name": "stdout",
     "output_type": "stream",
     "text": [
      "<class 'pandas.core.frame.DataFrame'>\n",
      "RangeIndex: 418 entries, 0 to 417\n",
      "Data columns (total 10 columns):\n",
      " #   Column    Non-Null Count  Dtype   \n",
      "---  ------    --------------  -----   \n",
      " 0   Pclass    418 non-null    category\n",
      " 1   Sex       418 non-null    int64   \n",
      " 2   SibSp     418 non-null    int64   \n",
      " 3   Parch     418 non-null    int64   \n",
      " 4   Ticket    418 non-null    object  \n",
      " 5   Fare      417 non-null    float64 \n",
      " 6   Cabin     418 non-null    object  \n",
      " 7   Embarked  418 non-null    object  \n",
      " 8   Title     418 non-null    object  \n",
      " 9   Agebin    418 non-null    int64   \n",
      "dtypes: category(1), float64(1), int64(4), object(4)\n",
      "memory usage: 30.1+ KB\n"
     ]
    }
   ],
   "source": [
    "testing.info()"
   ]
  },
  {
   "cell_type": "markdown",
   "id": "d0cdab37",
   "metadata": {
    "papermill": {
     "duration": 0.043086,
     "end_time": "2023-01-10T12:14:30.027398",
     "exception": false,
     "start_time": "2023-01-10T12:14:29.984312",
     "status": "completed"
    },
    "tags": []
   },
   "source": [
    "One Fare is missing. Does anyone share that person's Ticket number?"
   ]
  },
  {
   "cell_type": "code",
   "execution_count": 80,
   "id": "4fcf62f7",
   "metadata": {
    "execution": {
     "iopub.execute_input": "2023-01-10T12:14:30.120001Z",
     "iopub.status.busy": "2023-01-10T12:14:30.119214Z",
     "iopub.status.idle": "2023-01-10T12:14:30.127550Z",
     "shell.execute_reply": "2023-01-10T12:14:30.126939Z"
    },
    "papermill": {
     "duration": 0.055845,
     "end_time": "2023-01-10T12:14:30.129210",
     "exception": false,
     "start_time": "2023-01-10T12:14:30.073365",
     "status": "completed"
    },
    "tags": []
   },
   "outputs": [
    {
     "data": {
      "text/plain": [
       "152    3701\n",
       "Name: Ticket, dtype: object"
      ]
     },
     "execution_count": 80,
     "metadata": {},
     "output_type": "execute_result"
    }
   ],
   "source": [
    "#What is the ticket number that is missing?\n",
    "testing.loc[testing['Fare'].isna()]['Ticket']"
   ]
  },
  {
   "cell_type": "code",
   "execution_count": 81,
   "id": "4c176449",
   "metadata": {
    "execution": {
     "iopub.execute_input": "2023-01-10T12:14:30.269614Z",
     "iopub.status.busy": "2023-01-10T12:14:30.269007Z",
     "iopub.status.idle": "2023-01-10T12:14:30.281727Z",
     "shell.execute_reply": "2023-01-10T12:14:30.281079Z"
    },
    "papermill": {
     "duration": 0.109577,
     "end_time": "2023-01-10T12:14:30.283556",
     "exception": false,
     "start_time": "2023-01-10T12:14:30.173979",
     "status": "completed"
    },
    "tags": []
   },
   "outputs": [
    {
     "data": {
      "text/html": [
       "<div>\n",
       "<style scoped>\n",
       "    .dataframe tbody tr th:only-of-type {\n",
       "        vertical-align: middle;\n",
       "    }\n",
       "\n",
       "    .dataframe tbody tr th {\n",
       "        vertical-align: top;\n",
       "    }\n",
       "\n",
       "    .dataframe thead th {\n",
       "        text-align: right;\n",
       "    }\n",
       "</style>\n",
       "<table border=\"1\" class=\"dataframe\">\n",
       "  <thead>\n",
       "    <tr style=\"text-align: right;\">\n",
       "      <th></th>\n",
       "      <th>Pclass</th>\n",
       "      <th>Sex</th>\n",
       "      <th>SibSp</th>\n",
       "      <th>Parch</th>\n",
       "      <th>Ticket</th>\n",
       "      <th>Fare</th>\n",
       "      <th>Cabin</th>\n",
       "      <th>Embarked</th>\n",
       "      <th>Title</th>\n",
       "      <th>Agebin</th>\n",
       "    </tr>\n",
       "  </thead>\n",
       "  <tbody>\n",
       "    <tr>\n",
       "      <th>152</th>\n",
       "      <td>3</td>\n",
       "      <td>1</td>\n",
       "      <td>0</td>\n",
       "      <td>0</td>\n",
       "      <td>3701</td>\n",
       "      <td>NaN</td>\n",
       "      <td>N</td>\n",
       "      <td>S</td>\n",
       "      <td>Mr</td>\n",
       "      <td>6</td>\n",
       "    </tr>\n",
       "  </tbody>\n",
       "</table>\n",
       "</div>"
      ],
      "text/plain": [
       "    Pclass  Sex  SibSp  Parch Ticket  Fare Cabin Embarked Title  Agebin\n",
       "152      3    1      0      0   3701   NaN     N        S    Mr       6"
      ]
     },
     "execution_count": 81,
     "metadata": {},
     "output_type": "execute_result"
    }
   ],
   "source": [
    "#No one in testing does\n",
    "testing.loc[testing['Ticket'] == '3701']"
   ]
  },
  {
   "cell_type": "code",
   "execution_count": 82,
   "id": "8ba6eb7a",
   "metadata": {
    "execution": {
     "iopub.execute_input": "2023-01-10T12:14:30.376157Z",
     "iopub.status.busy": "2023-01-10T12:14:30.374964Z",
     "iopub.status.idle": "2023-01-10T12:14:30.385930Z",
     "shell.execute_reply": "2023-01-10T12:14:30.385177Z"
    },
    "papermill": {
     "duration": 0.059407,
     "end_time": "2023-01-10T12:14:30.387954",
     "exception": false,
     "start_time": "2023-01-10T12:14:30.328547",
     "status": "completed"
    },
    "tags": []
   },
   "outputs": [
    {
     "data": {
      "text/html": [
       "<div>\n",
       "<style scoped>\n",
       "    .dataframe tbody tr th:only-of-type {\n",
       "        vertical-align: middle;\n",
       "    }\n",
       "\n",
       "    .dataframe tbody tr th {\n",
       "        vertical-align: top;\n",
       "    }\n",
       "\n",
       "    .dataframe thead th {\n",
       "        text-align: right;\n",
       "    }\n",
       "</style>\n",
       "<table border=\"1\" class=\"dataframe\">\n",
       "  <thead>\n",
       "    <tr style=\"text-align: right;\">\n",
       "      <th></th>\n",
       "      <th>Pclass</th>\n",
       "      <th>Sex</th>\n",
       "      <th>SibSp</th>\n",
       "      <th>Parch</th>\n",
       "      <th>Ticket</th>\n",
       "      <th>Fare</th>\n",
       "      <th>Cabin</th>\n",
       "      <th>Embarked</th>\n",
       "      <th>Title</th>\n",
       "      <th>Agebin</th>\n",
       "    </tr>\n",
       "  </thead>\n",
       "  <tbody>\n",
       "  </tbody>\n",
       "</table>\n",
       "</div>"
      ],
      "text/plain": [
       "Empty DataFrame\n",
       "Columns: [Pclass, Sex, SibSp, Parch, Ticket, Fare, Cabin, Embarked, Title, Agebin]\n",
       "Index: []"
      ]
     },
     "execution_count": 82,
     "metadata": {},
     "output_type": "execute_result"
    }
   ],
   "source": [
    "#No one in training does\n",
    "testing.loc[training['Ticket'] == '3701']"
   ]
  },
  {
   "cell_type": "markdown",
   "id": "eca3980d",
   "metadata": {
    "papermill": {
     "duration": 0.045091,
     "end_time": "2023-01-10T12:14:30.477832",
     "exception": false,
     "start_time": "2023-01-10T12:14:30.432741",
     "status": "completed"
    },
    "tags": []
   },
   "source": [
    "We will fill the value as the median for people in 3rd class, with no Cabin, who departed from S"
   ]
  },
  {
   "cell_type": "code",
   "execution_count": 83,
   "id": "17491c43",
   "metadata": {
    "execution": {
     "iopub.execute_input": "2023-01-10T12:14:30.571749Z",
     "iopub.status.busy": "2023-01-10T12:14:30.571244Z",
     "iopub.status.idle": "2023-01-10T12:14:30.585165Z",
     "shell.execute_reply": "2023-01-10T12:14:30.584271Z"
    },
    "papermill": {
     "duration": 0.064293,
     "end_time": "2023-01-10T12:14:30.587315",
     "exception": false,
     "start_time": "2023-01-10T12:14:30.523022",
     "status": "completed"
    },
    "tags": []
   },
   "outputs": [
    {
     "name": "stdout",
     "output_type": "stream",
     "text": [
      "<class 'pandas.core.frame.DataFrame'>\n",
      "RangeIndex: 418 entries, 0 to 417\n",
      "Data columns (total 10 columns):\n",
      " #   Column    Non-Null Count  Dtype   \n",
      "---  ------    --------------  -----   \n",
      " 0   Pclass    418 non-null    category\n",
      " 1   Sex       418 non-null    int64   \n",
      " 2   SibSp     418 non-null    int64   \n",
      " 3   Parch     418 non-null    int64   \n",
      " 4   Ticket    418 non-null    object  \n",
      " 5   Fare      418 non-null    float64 \n",
      " 6   Cabin     418 non-null    object  \n",
      " 7   Embarked  418 non-null    object  \n",
      " 8   Title     418 non-null    object  \n",
      " 9   Agebin    418 non-null    int64   \n",
      "dtypes: category(1), float64(1), int64(4), object(4)\n",
      "memory usage: 30.1+ KB\n"
     ]
    }
   ],
   "source": [
    "med = training.loc[(training['Embarked'] == 'S') & (training['Cabin'] == 'N') & (training['Pclass'] == 3)]['Fare'].median()\n",
    "\n",
    "testing['Fare'].fillna(med, inplace = True)\n",
    "\n",
    "testing.info()"
   ]
  },
  {
   "cell_type": "markdown",
   "id": "f8d6b58b",
   "metadata": {
    "papermill": {
     "duration": 0.043997,
     "end_time": "2023-01-10T12:14:30.676189",
     "exception": false,
     "start_time": "2023-01-10T12:14:30.632192",
     "status": "completed"
    },
    "tags": []
   },
   "source": [
    "Now to create the 'notAlone' column for testing."
   ]
  },
  {
   "cell_type": "code",
   "execution_count": 84,
   "id": "75ae099b",
   "metadata": {
    "execution": {
     "iopub.execute_input": "2023-01-10T12:14:30.765725Z",
     "iopub.status.busy": "2023-01-10T12:14:30.765377Z",
     "iopub.status.idle": "2023-01-10T12:14:30.799324Z",
     "shell.execute_reply": "2023-01-10T12:14:30.798614Z"
    },
    "papermill": {
     "duration": 0.080836,
     "end_time": "2023-01-10T12:14:30.801402",
     "exception": false,
     "start_time": "2023-01-10T12:14:30.720566",
     "status": "completed"
    },
    "tags": []
   },
   "outputs": [],
   "source": [
    "ticks = {}\n",
    "ticksCount = {}\n",
    "\n",
    "for index, row in testing.iterrows():\n",
    "    if row['Ticket'] not in ticks:\n",
    "        ticks[row['Ticket']] = [row['Fare']]\n",
    "        ticksCount[row['Ticket']] = 1\n",
    "    else:\n",
    "        if row['Fare'] in ticks[row['Ticket']]:\n",
    "            pass\n",
    "        else:\n",
    "            ticks[row['Ticket']].append(row['Fare'])\n",
    "        ticksCount[row['Ticket']] += 1\n",
    "\n",
    "\n",
    "for key in ticks:\n",
    "    if len(ticks[key]) > 1:\n",
    "        print('Ticket {} had fares {}.'.format(key, ticks[key]))\n",
    "        print('\\n The passengers on this ticket were:')\n",
    "        \n",
    "        print(testing[testing['Ticket'] == key][['Name','Fare']])"
   ]
  },
  {
   "cell_type": "code",
   "execution_count": 85,
   "id": "80a99d80",
   "metadata": {
    "execution": {
     "iopub.execute_input": "2023-01-10T12:14:30.894304Z",
     "iopub.status.busy": "2023-01-10T12:14:30.893985Z",
     "iopub.status.idle": "2023-01-10T12:14:31.029448Z",
     "shell.execute_reply": "2023-01-10T12:14:31.028436Z"
    },
    "papermill": {
     "duration": 0.185281,
     "end_time": "2023-01-10T12:14:31.031769",
     "exception": false,
     "start_time": "2023-01-10T12:14:30.846488",
     "status": "completed"
    },
    "tags": []
   },
   "outputs": [],
   "source": [
    "#Testing noAlone\n",
    "testing['notAlone'] = -1\n",
    "\n",
    "for index, row in testing.iterrows():\n",
    "    if ticksCount[str(row['Ticket'])] > 1 or row['SibSp'] > 0 or row['Parch'] > 0:\n",
    "        testing.loc[index, 'notAlone'] = 1\n",
    "    else:\n",
    "        testing.loc[index, 'notAlone'] = 0"
   ]
  },
  {
   "cell_type": "markdown",
   "id": "fd7c66ec",
   "metadata": {
    "papermill": {
     "duration": 0.044828,
     "end_time": "2023-01-10T12:14:31.122148",
     "exception": false,
     "start_time": "2023-01-10T12:14:31.077320",
     "status": "completed"
    },
    "tags": []
   },
   "source": [
    "Dropping Ticket feature."
   ]
  },
  {
   "cell_type": "code",
   "execution_count": 86,
   "id": "eb71fbf5",
   "metadata": {
    "execution": {
     "iopub.execute_input": "2023-01-10T12:14:31.212722Z",
     "iopub.status.busy": "2023-01-10T12:14:31.212144Z",
     "iopub.status.idle": "2023-01-10T12:14:31.218054Z",
     "shell.execute_reply": "2023-01-10T12:14:31.217218Z"
    },
    "papermill": {
     "duration": 0.052925,
     "end_time": "2023-01-10T12:14:31.219688",
     "exception": false,
     "start_time": "2023-01-10T12:14:31.166763",
     "status": "completed"
    },
    "tags": []
   },
   "outputs": [],
   "source": [
    "for df in [training, testing]:\n",
    "    df.drop('Ticket',inplace = True, axis = 1)"
   ]
  },
  {
   "cell_type": "markdown",
   "id": "de87ecdd",
   "metadata": {
    "papermill": {
     "duration": 0.045874,
     "end_time": "2023-01-10T12:14:31.310839",
     "exception": false,
     "start_time": "2023-01-10T12:14:31.264965",
     "status": "completed"
    },
    "tags": []
   },
   "source": [
    "Let us examine the distribution of fares."
   ]
  },
  {
   "cell_type": "code",
   "execution_count": 87,
   "id": "99fff115",
   "metadata": {
    "execution": {
     "iopub.execute_input": "2023-01-10T12:14:31.402041Z",
     "iopub.status.busy": "2023-01-10T12:14:31.401684Z",
     "iopub.status.idle": "2023-01-10T12:14:31.917648Z",
     "shell.execute_reply": "2023-01-10T12:14:31.916342Z"
    },
    "papermill": {
     "duration": 0.563635,
     "end_time": "2023-01-10T12:14:31.919695",
     "exception": false,
     "start_time": "2023-01-10T12:14:31.356060",
     "status": "completed"
    },
    "tags": []
   },
   "outputs": [
    {
     "data": {
      "text/plain": [
       "Text(0.5, 1.0, 'Fares of Testing')"
      ]
     },
     "execution_count": 87,
     "metadata": {},
     "output_type": "execute_result"
    },
    {
     "data": {
      "image/png": "[encoded data removed]",
      "text/plain": [
       "<Figure size 432x288 with 2 Axes>"
      ]
     },
     "metadata": {
      "needs_background": "light"
     },
     "output_type": "display_data"
    }
   ],
   "source": [
    "#Plot of fares\n",
    "fig, ax = plt.subplots(1,2)\n",
    "\n",
    "sns.histplot(data = training, x = 'Fare', ax = ax[0])\n",
    "ax[0].set_title('Fares of Training')\n",
    "sns.histplot(data = testing, x = 'Fare', ax = ax[1])\n",
    "ax[1].set_title('Fares of Testing')"
   ]
  },
  {
   "cell_type": "markdown",
   "id": "fb035343",
   "metadata": {
    "papermill": {
     "duration": 0.044518,
     "end_time": "2023-01-10T12:14:32.010049",
     "exception": false,
     "start_time": "2023-01-10T12:14:31.965531",
     "status": "completed"
    },
    "tags": []
   },
   "source": [
    "We will scale the Fares column via a log transformation."
   ]
  },
  {
   "cell_type": "code",
   "execution_count": 88,
   "id": "51325c38",
   "metadata": {
    "execution": {
     "iopub.execute_input": "2023-01-10T12:14:32.101779Z",
     "iopub.status.busy": "2023-01-10T12:14:32.101417Z",
     "iopub.status.idle": "2023-01-10T12:14:32.108736Z",
     "shell.execute_reply": "2023-01-10T12:14:32.108144Z"
    },
    "papermill": {
     "duration": 0.055358,
     "end_time": "2023-01-10T12:14:32.110366",
     "exception": false,
     "start_time": "2023-01-10T12:14:32.055008",
     "status": "completed"
    },
    "tags": []
   },
   "outputs": [],
   "source": [
    "for df in [training, testing]:\n",
    "    df['Fare'] = [np.log(x) if x > 0 else 0 for x in df['Fare']]\n",
    "    df.rename(columns = {'Fare': 'log_Fare'}, inplace = True)"
   ]
  },
  {
   "cell_type": "code",
   "execution_count": 89,
   "id": "b38005a1",
   "metadata": {
    "execution": {
     "iopub.execute_input": "2023-01-10T12:14:32.203759Z",
     "iopub.status.busy": "2023-01-10T12:14:32.203290Z",
     "iopub.status.idle": "2023-01-10T12:14:32.511385Z",
     "shell.execute_reply": "2023-01-10T12:14:32.510598Z"
    },
    "papermill": {
     "duration": 0.357858,
     "end_time": "2023-01-10T12:14:32.514156",
     "exception": false,
     "start_time": "2023-01-10T12:14:32.156298",
     "status": "completed"
    },
    "tags": []
   },
   "outputs": [
    {
     "data": {
      "text/plain": [
       "Text(0.5, 1.0, 'log_Fares of Testing')"
      ]
     },
     "execution_count": 89,
     "metadata": {},
     "output_type": "execute_result"
    },
    {
     "data": {
      "image/png": "[encoded data removed]",
      "text/plain": [
       "<Figure size 432x288 with 2 Axes>"
      ]
     },
     "metadata": {
      "needs_background": "light"
     },
     "output_type": "display_data"
    }
   ],
   "source": [
    "#Plot of scaled fares.\n",
    "fig, ax = plt.subplots(1,2)\n",
    "\n",
    "sns.histplot(data = training, x = 'log_Fare', ax = ax[0])\n",
    "ax[0].set_title('log_Fares of Training')\n",
    "sns.histplot(data = testing, x = 'log_Fare', ax = ax[1])\n",
    "ax[1].set_title('log_Fares of Testing')"
   ]
  },
  {
   "cell_type": "markdown",
   "id": "d09e3bcf",
   "metadata": {
    "papermill": {
     "duration": 0.045856,
     "end_time": "2023-01-10T12:14:32.610126",
     "exception": false,
     "start_time": "2023-01-10T12:14:32.564270",
     "status": "completed"
    },
    "tags": []
   },
   "source": [
    "Converting Sex, Cabin, Embarked, Title, Agebin, and notAlone to category."
   ]
  },
  {
   "cell_type": "code",
   "execution_count": 90,
   "id": "333cae3d",
   "metadata": {
    "execution": {
     "iopub.execute_input": "2023-01-10T12:14:32.703500Z",
     "iopub.status.busy": "2023-01-10T12:14:32.703044Z",
     "iopub.status.idle": "2023-01-10T12:14:32.715733Z",
     "shell.execute_reply": "2023-01-10T12:14:32.715070Z"
    },
    "papermill": {
     "duration": 0.061839,
     "end_time": "2023-01-10T12:14:32.717687",
     "exception": false,
     "start_time": "2023-01-10T12:14:32.655848",
     "status": "completed"
    },
    "tags": []
   },
   "outputs": [],
   "source": [
    "for feature in ['Sex', 'Cabin', 'Embarked', 'Title', 'Agebin', 'notAlone']:\n",
    "    for df in [training, testing]:\n",
    "        df[feature] = df[feature].astype('category')\n",
    "        \n",
    "training['Survived'] = training['Survived'].astype('category')"
   ]
  },
  {
   "cell_type": "code",
   "execution_count": 91,
   "id": "6be0a6f6",
   "metadata": {
    "execution": {
     "iopub.execute_input": "2023-01-10T12:14:32.812618Z",
     "iopub.status.busy": "2023-01-10T12:14:32.812002Z",
     "iopub.status.idle": "2023-01-10T12:14:32.827921Z",
     "shell.execute_reply": "2023-01-10T12:14:32.825915Z"
    },
    "papermill": {
     "duration": 0.066297,
     "end_time": "2023-01-10T12:14:32.830528",
     "exception": false,
     "start_time": "2023-01-10T12:14:32.764231",
     "status": "completed"
    },
    "tags": []
   },
   "outputs": [
    {
     "name": "stdout",
     "output_type": "stream",
     "text": [
      "<class 'pandas.core.frame.DataFrame'>\n",
      "RangeIndex: 418 entries, 0 to 417\n",
      "Data columns (total 10 columns):\n",
      " #   Column    Non-Null Count  Dtype   \n",
      "---  ------    --------------  -----   \n",
      " 0   Pclass    418 non-null    category\n",
      " 1   Sex       418 non-null    category\n",
      " 2   SibSp     418 non-null    int64   \n",
      " 3   Parch     418 non-null    int64   \n",
      " 4   log_Fare  418 non-null    float64 \n",
      " 5   Cabin     418 non-null    category\n",
      " 6   Embarked  418 non-null    category\n",
      " 7   Title     418 non-null    category\n",
      " 8   Agebin    418 non-null    category\n",
      " 9   notAlone  418 non-null    category\n",
      "dtypes: category(7), float64(1), int64(2)\n",
      "memory usage: 14.3 KB\n"
     ]
    }
   ],
   "source": [
    "testing.info()"
   ]
  },
  {
   "cell_type": "markdown",
   "id": "91aa4196",
   "metadata": {
    "papermill": {
     "duration": 0.046678,
     "end_time": "2023-01-10T12:14:32.924085",
     "exception": false,
     "start_time": "2023-01-10T12:14:32.877407",
     "status": "completed"
    },
    "tags": []
   },
   "source": [
    "Splitting Data."
   ]
  },
  {
   "cell_type": "code",
   "execution_count": 92,
   "id": "3c471535",
   "metadata": {
    "execution": {
     "iopub.execute_input": "2023-01-10T12:14:33.015704Z",
     "iopub.status.busy": "2023-01-10T12:14:33.014846Z",
     "iopub.status.idle": "2023-01-10T12:14:33.020388Z",
     "shell.execute_reply": "2023-01-10T12:14:33.019340Z"
    },
    "papermill": {
     "duration": 0.052825,
     "end_time": "2023-01-10T12:14:33.022090",
     "exception": false,
     "start_time": "2023-01-10T12:14:32.969265",
     "status": "completed"
    },
    "tags": []
   },
   "outputs": [],
   "source": [
    "#Splitting data into features and target\n",
    "X_train = training.iloc[:, 1:]\n",
    "y_train = training.iloc[:, 0]\n",
    "X_test = testing"
   ]
  },
  {
   "cell_type": "code",
   "execution_count": 93,
   "id": "6ef1ecd0",
   "metadata": {
    "execution": {
     "iopub.execute_input": "2023-01-10T12:14:33.116459Z",
     "iopub.status.busy": "2023-01-10T12:14:33.115341Z",
     "iopub.status.idle": "2023-01-10T12:14:33.139527Z",
     "shell.execute_reply": "2023-01-10T12:14:33.137797Z"
    },
    "papermill": {
     "duration": 0.074476,
     "end_time": "2023-01-10T12:14:33.142110",
     "exception": false,
     "start_time": "2023-01-10T12:14:33.067634",
     "status": "completed"
    },
    "tags": []
   },
   "outputs": [
    {
     "data": {
      "text/plain": [
       "Index(['SibSp', 'Parch', 'log_Fare', 'Pclass_1', 'Pclass_2', 'Pclass_3',\n",
       "       'Sex_0', 'Sex_1', 'Cabin_A', 'Cabin_B', 'Cabin_C', 'Cabin_D', 'Cabin_E',\n",
       "       'Cabin_F', 'Cabin_G', 'Cabin_N', 'Cabin_T', 'Embarked_C', 'Embarked_Q',\n",
       "       'Embarked_S', 'Title_Dr', 'Title_Master', 'Title_Miss', 'Title_Mr',\n",
       "       'Title_Mrs', 'Title_Other', 'Title_Rev', 'Agebin_0', 'Agebin_1',\n",
       "       'Agebin_2', 'Agebin_3', 'Agebin_4', 'Agebin_5', 'Agebin_6', 'Agebin_7',\n",
       "       'notAlone_0', 'notAlone_1'],\n",
       "      dtype='object')"
      ]
     },
     "execution_count": 93,
     "metadata": {},
     "output_type": "execute_result"
    }
   ],
   "source": [
    "X_train = pd.get_dummies(X_train)\n",
    "X_test = pd.get_dummies(X_test)\n",
    "X_train.columns"
   ]
  },
  {
   "cell_type": "code",
   "execution_count": 94,
   "id": "ef730a3a",
   "metadata": {
    "execution": {
     "iopub.execute_input": "2023-01-10T12:14:33.235271Z",
     "iopub.status.busy": "2023-01-10T12:14:33.234909Z",
     "iopub.status.idle": "2023-01-10T12:14:33.240948Z",
     "shell.execute_reply": "2023-01-10T12:14:33.240131Z"
    },
    "papermill": {
     "duration": 0.054257,
     "end_time": "2023-01-10T12:14:33.242572",
     "exception": false,
     "start_time": "2023-01-10T12:14:33.188315",
     "status": "completed"
    },
    "tags": []
   },
   "outputs": [
    {
     "data": {
      "text/plain": [
       "{'Cabin_T'}"
      ]
     },
     "execution_count": 94,
     "metadata": {},
     "output_type": "execute_result"
    }
   ],
   "source": [
    "#Any features in X_train that are not in X_test?\n",
    "A = set(X_train.columns)\n",
    "B = set(X_test.columns)\n",
    "\n",
    "A.difference(B)"
   ]
  },
  {
   "cell_type": "markdown",
   "id": "ae319f75",
   "metadata": {
    "papermill": {
     "duration": 0.045016,
     "end_time": "2023-01-10T12:14:33.332638",
     "exception": false,
     "start_time": "2023-01-10T12:14:33.287622",
     "status": "completed"
    },
    "tags": []
   },
   "source": [
    "'Cabin T' is not in testing. This cabin was only assigned to one cabin. "
   ]
  },
  {
   "cell_type": "code",
   "execution_count": 95,
   "id": "5fc954e7",
   "metadata": {
    "execution": {
     "iopub.execute_input": "2023-01-10T12:14:33.428205Z",
     "iopub.status.busy": "2023-01-10T12:14:33.427607Z",
     "iopub.status.idle": "2023-01-10T12:14:33.432647Z",
     "shell.execute_reply": "2023-01-10T12:14:33.432054Z"
    },
    "papermill": {
     "duration": 0.056825,
     "end_time": "2023-01-10T12:14:33.434377",
     "exception": false,
     "start_time": "2023-01-10T12:14:33.377552",
     "status": "completed"
    },
    "tags": []
   },
   "outputs": [],
   "source": [
    "X_train.drop('Cabin_T', inplace = True, axis = 1)"
   ]
  },
  {
   "cell_type": "markdown",
   "id": "51c61177",
   "metadata": {
    "papermill": {
     "duration": 0.045617,
     "end_time": "2023-01-10T12:14:33.525430",
     "exception": false,
     "start_time": "2023-01-10T12:14:33.479813",
     "status": "completed"
    },
    "tags": []
   },
   "source": [
    "Need to drop some columns.\n"
   ]
  },
  {
   "cell_type": "code",
   "execution_count": 96,
   "id": "2be6be19",
   "metadata": {
    "execution": {
     "iopub.execute_input": "2023-01-10T12:14:33.618673Z",
     "iopub.status.busy": "2023-01-10T12:14:33.618100Z",
     "iopub.status.idle": "2023-01-10T12:14:33.624065Z",
     "shell.execute_reply": "2023-01-10T12:14:33.623359Z"
    },
    "papermill": {
     "duration": 0.054784,
     "end_time": "2023-01-10T12:14:33.625768",
     "exception": false,
     "start_time": "2023-01-10T12:14:33.570984",
     "status": "completed"
    },
    "tags": []
   },
   "outputs": [
    {
     "data": {
      "text/plain": [
       "Index(['SibSp', 'Parch', 'log_Fare', 'Pclass_1', 'Pclass_2', 'Pclass_3',\n",
       "       'Sex_0', 'Sex_1', 'Cabin_A', 'Cabin_B', 'Cabin_C', 'Cabin_D', 'Cabin_E',\n",
       "       'Cabin_F', 'Cabin_G', 'Cabin_N', 'Embarked_C', 'Embarked_Q',\n",
       "       'Embarked_S', 'Title_Dr', 'Title_Master', 'Title_Miss', 'Title_Mr',\n",
       "       'Title_Mrs', 'Title_Other', 'Title_Rev', 'Agebin_0', 'Agebin_1',\n",
       "       'Agebin_2', 'Agebin_3', 'Agebin_4', 'Agebin_5', 'Agebin_6', 'Agebin_7',\n",
       "       'notAlone_0', 'notAlone_1'],\n",
       "      dtype='object')"
      ]
     },
     "execution_count": 96,
     "metadata": {},
     "output_type": "execute_result"
    }
   ],
   "source": [
    "X_train.columns"
   ]
  },
  {
   "cell_type": "code",
   "execution_count": 97,
   "id": "c681845c",
   "metadata": {
    "execution": {
     "iopub.execute_input": "2023-01-10T12:14:33.717038Z",
     "iopub.status.busy": "2023-01-10T12:14:33.716486Z",
     "iopub.status.idle": "2023-01-10T12:14:33.728804Z",
     "shell.execute_reply": "2023-01-10T12:14:33.728175Z"
    },
    "papermill": {
     "duration": 0.060014,
     "end_time": "2023-01-10T12:14:33.730596",
     "exception": false,
     "start_time": "2023-01-10T12:14:33.670582",
     "status": "completed"
    },
    "tags": []
   },
   "outputs": [
    {
     "data": {
      "text/plain": [
       "Index(['SibSp', 'Parch', 'log_Fare', 'Pclass_1', 'Pclass_3', 'Sex_1',\n",
       "       'Cabin_A', 'Cabin_B', 'Cabin_C', 'Cabin_D', 'Cabin_E', 'Cabin_F',\n",
       "       'Cabin_G', 'Cabin_N', 'Embarked_C', 'Embarked_S', 'Title_Dr',\n",
       "       'Title_Master', 'Title_Miss', 'Title_Mr', 'Title_Mrs', 'Title_Other',\n",
       "       'Agebin_0', 'Agebin_1', 'Agebin_2', 'Agebin_3', 'Agebin_4', 'Agebin_5',\n",
       "       'Agebin_6', 'notAlone_1'],\n",
       "      dtype='object')"
      ]
     },
     "execution_count": 97,
     "metadata": {},
     "output_type": "execute_result"
    }
   ],
   "source": [
    "#We drop some columns\n",
    "for df in [X_train, X_test]:\n",
    "    for feature in ['Pclass_2','Sex_0', 'Embarked_Q', 'Title_Rev', 'Agebin_7','notAlone_0']:\n",
    "        df.drop(feature, axis = 1, inplace = True)\n",
    "        \n",
    "X_train.columns"
   ]
  },
  {
   "cell_type": "markdown",
   "id": "caba3853",
   "metadata": {
    "papermill": {
     "duration": 0.047271,
     "end_time": "2023-01-10T12:14:33.824968",
     "exception": false,
     "start_time": "2023-01-10T12:14:33.777697",
     "status": "completed"
    },
    "tags": []
   },
   "source": [
    "# Modelling"
   ]
  },
  {
   "cell_type": "markdown",
   "id": "84e31bf6",
   "metadata": {
    "papermill": {
     "duration": 0.045796,
     "end_time": "2023-01-10T12:14:33.917054",
     "exception": false,
     "start_time": "2023-01-10T12:14:33.871258",
     "status": "completed"
    },
    "tags": []
   },
   "source": [
    "We can see that there is strong correlation between some features below. For example, notAlone and SibSp. \n",
    "We will use PCA to remove features.\n",
    "\n",
    "We will create a pipeline that will scale the data and then perform PCA analysis."
   ]
  },
  {
   "cell_type": "code",
   "execution_count": 98,
   "id": "a4a6dfbd",
   "metadata": {
    "execution": {
     "iopub.execute_input": "2023-01-10T12:14:34.011971Z",
     "iopub.status.busy": "2023-01-10T12:14:34.011433Z",
     "iopub.status.idle": "2023-01-10T12:14:34.021185Z",
     "shell.execute_reply": "2023-01-10T12:14:34.020196Z"
    },
    "papermill": {
     "duration": 0.060666,
     "end_time": "2023-01-10T12:14:34.023633",
     "exception": false,
     "start_time": "2023-01-10T12:14:33.962967",
     "status": "completed"
    },
    "tags": []
   },
   "outputs": [
    {
     "data": {
      "text/html": [
       "<div>\n",
       "<style scoped>\n",
       "    .dataframe tbody tr th:only-of-type {\n",
       "        vertical-align: middle;\n",
       "    }\n",
       "\n",
       "    .dataframe tbody tr th {\n",
       "        vertical-align: top;\n",
       "    }\n",
       "\n",
       "    .dataframe thead th {\n",
       "        text-align: right;\n",
       "    }\n",
       "</style>\n",
       "<table border=\"1\" class=\"dataframe\">\n",
       "  <thead>\n",
       "    <tr style=\"text-align: right;\">\n",
       "      <th></th>\n",
       "      <th>SibSp</th>\n",
       "      <th>Parch</th>\n",
       "      <th>log_Fare</th>\n",
       "    </tr>\n",
       "  </thead>\n",
       "  <tbody>\n",
       "    <tr>\n",
       "      <th>SibSp</th>\n",
       "      <td>1.000000</td>\n",
       "      <td>0.414838</td>\n",
       "      <td>0.323214</td>\n",
       "    </tr>\n",
       "    <tr>\n",
       "      <th>Parch</th>\n",
       "      <td>0.414838</td>\n",
       "      <td>1.000000</td>\n",
       "      <td>0.336857</td>\n",
       "    </tr>\n",
       "    <tr>\n",
       "      <th>log_Fare</th>\n",
       "      <td>0.323214</td>\n",
       "      <td>0.336857</td>\n",
       "      <td>1.000000</td>\n",
       "    </tr>\n",
       "  </tbody>\n",
       "</table>\n",
       "</div>"
      ],
      "text/plain": [
       "             SibSp     Parch  log_Fare\n",
       "SibSp     1.000000  0.414838  0.323214\n",
       "Parch     0.414838  1.000000  0.336857\n",
       "log_Fare  0.323214  0.336857  1.000000"
      ]
     },
     "execution_count": 98,
     "metadata": {},
     "output_type": "execute_result"
    }
   ],
   "source": [
    "training.corr()"
   ]
  },
  {
   "cell_type": "markdown",
   "id": "1d7c5271",
   "metadata": {
    "papermill": {
     "duration": 0.04639,
     "end_time": "2023-01-10T12:14:34.118340",
     "exception": false,
     "start_time": "2023-01-10T12:14:34.071950",
     "status": "completed"
    },
    "tags": []
   },
   "source": [
    "Now we will create several pipelines to test the score.\n",
    "\n",
    "We tried PCA in a different version, it did not lead to improvements."
   ]
  },
  {
   "cell_type": "code",
   "execution_count": 99,
   "id": "fb99e1e0",
   "metadata": {
    "execution": {
     "iopub.execute_input": "2023-01-10T12:14:34.213784Z",
     "iopub.status.busy": "2023-01-10T12:14:34.213245Z",
     "iopub.status.idle": "2023-01-10T12:14:34.680179Z",
     "shell.execute_reply": "2023-01-10T12:14:34.679348Z"
    },
    "papermill": {
     "duration": 0.516889,
     "end_time": "2023-01-10T12:14:34.682258",
     "exception": false,
     "start_time": "2023-01-10T12:14:34.165369",
     "status": "completed"
    },
    "tags": []
   },
   "outputs": [],
   "source": [
    "from sklearn.preprocessing import StandardScaler\n",
    "from sklearn.decomposition import PCA\n",
    "from sklearn.pipeline import Pipeline\n",
    "from sklearn.model_selection import KFold, cross_val_score, GridSearchCV, RandomizedSearchCV\n",
    "\n",
    "scaler = StandardScaler()\n",
    "#pca = PCA()\n",
    "\n",
    "models = []\n",
    "score = []"
   ]
  },
  {
   "cell_type": "markdown",
   "id": "8c7865ff",
   "metadata": {
    "papermill": {
     "duration": 0.045237,
     "end_time": "2023-01-10T12:14:34.773023",
     "exception": false,
     "start_time": "2023-01-10T12:14:34.727786",
     "status": "completed"
    },
    "tags": []
   },
   "source": [
    "We use grid searches to find the best parameters of several different types of models."
   ]
  },
  {
   "cell_type": "code",
   "execution_count": 100,
   "id": "698e8c8f",
   "metadata": {
    "execution": {
     "iopub.execute_input": "2023-01-10T12:14:34.868409Z",
     "iopub.status.busy": "2023-01-10T12:14:34.868082Z",
     "iopub.status.idle": "2023-01-10T12:14:54.342445Z",
     "shell.execute_reply": "2023-01-10T12:14:54.341121Z"
    },
    "papermill": {
     "duration": 19.52573,
     "end_time": "2023-01-10T12:14:54.344823",
     "exception": false,
     "start_time": "2023-01-10T12:14:34.819093",
     "status": "completed"
    },
    "tags": []
   },
   "outputs": [
    {
     "name": "stdout",
     "output_type": "stream",
     "text": [
      "Fitting 5 folds for each of 40 candidates, totalling 200 fits\n",
      "{'logreg__C': 0.23357214690901212, 'logreg__max_iter': 2000, 'logreg__penalty': 'l1', 'logreg__solver': 'liblinear'}\n"
     ]
    }
   ],
   "source": [
    "#Logreg\n",
    "from sklearn.linear_model import LogisticRegression\n",
    "\n",
    "logreg_pipe_pca = Pipeline([(\"scaler\", scaler), #('pca', pca), \n",
    "                        (\"logreg\", LogisticRegression())])\n",
    "\n",
    "params_lr = {'logreg__max_iter' : [2000],\n",
    "             'logreg__C' :np.logspace(-4,4,20), \n",
    "             #'pca__n_components' : [10,15,20,30],\n",
    "            'logreg__penalty' : ['l1','l2'],\n",
    "            'logreg__solver' : ['liblinear']}\n",
    "\n",
    "logit_search = GridSearchCV(logreg_pipe_pca, params_lr, verbose  = True)\n",
    "\n",
    "logit_search.fit(X_train, y_train)\n",
    "\n",
    "print(logit_search.best_params_)\n",
    "\n",
    "models.append('Logistic Regression')\n",
    "score.append(logit_search.best_score_)\n",
    "\n",
    "#print()"
   ]
  },
  {
   "cell_type": "code",
   "execution_count": 101,
   "id": "bd84ca37",
   "metadata": {
    "execution": {
     "iopub.execute_input": "2023-01-10T12:14:54.439489Z",
     "iopub.status.busy": "2023-01-10T12:14:54.438961Z",
     "iopub.status.idle": "2023-01-10T12:14:56.147738Z",
     "shell.execute_reply": "2023-01-10T12:14:56.146224Z"
    },
    "papermill": {
     "duration": 1.758598,
     "end_time": "2023-01-10T12:14:56.150147",
     "exception": false,
     "start_time": "2023-01-10T12:14:54.391549",
     "status": "completed"
    },
    "tags": []
   },
   "outputs": [
    {
     "name": "stdout",
     "output_type": "stream",
     "text": [
      "Fitting 5 folds for each of 24 candidates, totalling 120 fits\n",
      "{'knn__algorithm': 'kd_tree', 'knn__n_neighbors': 11, 'knn__weights': 'uniform'}\n"
     ]
    }
   ],
   "source": [
    "#KNeighbors\n",
    "\n",
    "from sklearn.neighbors import KNeighborsClassifier\n",
    "\n",
    "knn_pipe_pca = Pipeline([(\"scaler\", scaler),#('pca', pca), \n",
    "                        (\"knn\", KNeighborsClassifier())])\n",
    "\n",
    "params_knn = {'knn__n_neighbors' : [5,7,9,11],\n",
    "             'knn__algorithm' : ['auto', 'ball_tree', 'kd_tree'],\n",
    "            # 'pca__n_components' : [10,15,20,30],\n",
    "            'knn__weights' : ['uniform', 'distance']}\n",
    "\n",
    "knn_search = GridSearchCV(knn_pipe_pca, params_knn, verbose  = True)\n",
    "\n",
    "knn_search.fit(X_train, y_train)\n",
    "\n",
    "print(knn_search.best_params_)\n",
    "\n",
    "models.append('KNN')\n",
    "score.append(knn_search.best_score_)\n"
   ]
  },
  {
   "cell_type": "code",
   "execution_count": 102,
   "id": "660db46f",
   "metadata": {
    "execution": {
     "iopub.execute_input": "2023-01-10T12:14:56.244677Z",
     "iopub.status.busy": "2023-01-10T12:14:56.243858Z",
     "iopub.status.idle": "2023-01-10T12:15:17.848538Z",
     "shell.execute_reply": "2023-01-10T12:15:17.847589Z"
    },
    "papermill": {
     "duration": 21.654206,
     "end_time": "2023-01-10T12:15:17.850642",
     "exception": false,
     "start_time": "2023-01-10T12:14:56.196436",
     "status": "completed"
    },
    "tags": []
   },
   "outputs": [
    {
     "name": "stdout",
     "output_type": "stream",
     "text": [
      "Fitting 4 folds for each of 20 candidates, totalling 80 fits\n",
      "{'svc__kernel': 'poly', 'svc__degree': 2, 'svc__C': 1}\n"
     ]
    }
   ],
   "source": [
    "#SVC\n",
    "\n",
    "from sklearn.svm import SVC\n",
    "\n",
    "svc_pipe_pca = Pipeline([(\"scaler\", scaler),##('pca', pca), \n",
    "                        (\"svc\", SVC(probability=True))])\n",
    "\n",
    "params_svc = [{'svc__kernel' : ['rbf'], 'svc__gamma' : [.1,.5,1,2,5,10], 'svc__C' : [.1,1,10,100]},\n",
    "             {'svc__kernel' : ['linear'], 'svc__C' : [.1,1,10,100]},\n",
    "             {'svc__kernel' : ['poly'], 'svc__degree' : [2,3,4], 'svc__C' : [.1,1,10,100]}]\n",
    "\n",
    "svc_search = RandomizedSearchCV(svc_pipe_pca, params_svc, verbose  = True, n_jobs = -1, cv = 4, n_iter = 20)\n",
    "\n",
    "svc_search.fit(X_train, y_train)\n",
    "\n",
    "models.append('SVC')\n",
    "score.append(svc_search.best_score_)\n",
    "\n",
    "print(svc_search.best_params_)\n"
   ]
  },
  {
   "cell_type": "code",
   "execution_count": 103,
   "id": "273448cd",
   "metadata": {
    "execution": {
     "iopub.execute_input": "2023-01-10T12:15:17.944122Z",
     "iopub.status.busy": "2023-01-10T12:15:17.943568Z",
     "iopub.status.idle": "2023-01-10T12:16:10.574560Z",
     "shell.execute_reply": "2023-01-10T12:16:10.573945Z"
    },
    "papermill": {
     "duration": 52.725661,
     "end_time": "2023-01-10T12:16:10.622341",
     "exception": false,
     "start_time": "2023-01-10T12:15:17.896680",
     "status": "completed"
    },
    "tags": []
   },
   "outputs": [
    {
     "name": "stdout",
     "output_type": "stream",
     "text": [
      "Fitting 5 folds for each of 100 candidates, totalling 500 fits\n",
      "{'rf__n_estimators': 50, 'rf__min_samples_split': 5, 'rf__min_samples_leaf': 2, 'rf__max_depth': 10, 'rf__bootstrap': True}\n"
     ]
    }
   ],
   "source": [
    "#Random Forrest\n",
    "\n",
    "from sklearn.ensemble import  RandomForestClassifier\n",
    "\n",
    "rf_pipe_pca = Pipeline([(\"scaler\", scaler),#('pca', pca), \n",
    "                        (\"rf\", RandomForestClassifier())])\n",
    "\n",
    "params_rf = {'rf__max_depth' : [3,5,10,20,50,None],\n",
    "             'rf__min_samples_split' : [2,5,10],\n",
    "            'rf__min_samples_leaf' : [1,2,4,10],\n",
    "             'rf__n_estimators' : [50,100,500],\n",
    "            'rf__bootstrap' : [True, False]\n",
    "            }\n",
    "\n",
    "rf_search = RandomizedSearchCV(rf_pipe_pca, params_rf, verbose  = True, n_jobs = -1, n_iter = 100)\n",
    "\n",
    "rf_search.fit(X_train, y_train)\n",
    "\n",
    "print(rf_search.best_params_)\n",
    "\n",
    "models.append('RF')\n",
    "score.append(rf_search.best_score_)\n"
   ]
  },
  {
   "cell_type": "code",
   "execution_count": 104,
   "id": "9ec10b61",
   "metadata": {
    "execution": {
     "iopub.execute_input": "2023-01-10T12:16:10.717183Z",
     "iopub.status.busy": "2023-01-10T12:16:10.716211Z",
     "iopub.status.idle": "2023-01-10T12:16:10.760089Z",
     "shell.execute_reply": "2023-01-10T12:16:10.759160Z"
    },
    "papermill": {
     "duration": 0.093668,
     "end_time": "2023-01-10T12:16:10.762509",
     "exception": false,
     "start_time": "2023-01-10T12:16:10.668841",
     "status": "completed"
    },
    "tags": []
   },
   "outputs": [],
   "source": [
    "from sklearn.naive_bayes import GaussianNB \n",
    "\n",
    "gnb_pipe_pca = Pipeline([(\"scaler\", scaler),#('pca', pca), \n",
    "                        (\"svc\", GaussianNB())])\n",
    "\n",
    "gnb_score_pca = np.round(np.mean(cross_val_score(gnb_pipe_pca, X_train, y_train)),2)\n",
    "\n",
    "models.append('Naive Bayes')\n",
    "score.append(gnb_score_pca)"
   ]
  },
  {
   "cell_type": "markdown",
   "id": "f04abef1",
   "metadata": {
    "papermill": {
     "duration": 0.046397,
     "end_time": "2023-01-10T12:16:10.855805",
     "exception": false,
     "start_time": "2023-01-10T12:16:10.809408",
     "status": "completed"
    },
    "tags": []
   },
   "source": [
    "We see how well our modelds did."
   ]
  },
  {
   "cell_type": "code",
   "execution_count": 105,
   "id": "ffd94885",
   "metadata": {
    "execution": {
     "iopub.execute_input": "2023-01-10T12:16:10.951722Z",
     "iopub.status.busy": "2023-01-10T12:16:10.950478Z",
     "iopub.status.idle": "2023-01-10T12:16:10.963441Z",
     "shell.execute_reply": "2023-01-10T12:16:10.962308Z"
    },
    "papermill": {
     "duration": 0.062639,
     "end_time": "2023-01-10T12:16:10.965523",
     "exception": false,
     "start_time": "2023-01-10T12:16:10.902884",
     "status": "completed"
    },
    "tags": []
   },
   "outputs": [
    {
     "data": {
      "text/html": [
       "<div>\n",
       "<style scoped>\n",
       "    .dataframe tbody tr th:only-of-type {\n",
       "        vertical-align: middle;\n",
       "    }\n",
       "\n",
       "    .dataframe tbody tr th {\n",
       "        vertical-align: top;\n",
       "    }\n",
       "\n",
       "    .dataframe thead th {\n",
       "        text-align: right;\n",
       "    }\n",
       "</style>\n",
       "<table border=\"1\" class=\"dataframe\">\n",
       "  <thead>\n",
       "    <tr style=\"text-align: right;\">\n",
       "      <th></th>\n",
       "      <th>Model</th>\n",
       "      <th>Score</th>\n",
       "    </tr>\n",
       "  </thead>\n",
       "  <tbody>\n",
       "    <tr>\n",
       "      <th>0</th>\n",
       "      <td>RF</td>\n",
       "      <td>0.835001</td>\n",
       "    </tr>\n",
       "    <tr>\n",
       "      <th>1</th>\n",
       "      <td>Logistic Regression</td>\n",
       "      <td>0.822673</td>\n",
       "    </tr>\n",
       "    <tr>\n",
       "      <th>2</th>\n",
       "      <td>SVC</td>\n",
       "      <td>0.821602</td>\n",
       "    </tr>\n",
       "    <tr>\n",
       "      <th>3</th>\n",
       "      <td>KNN</td>\n",
       "      <td>0.818222</td>\n",
       "    </tr>\n",
       "    <tr>\n",
       "      <th>4</th>\n",
       "      <td>Naive Bayes</td>\n",
       "      <td>0.750000</td>\n",
       "    </tr>\n",
       "  </tbody>\n",
       "</table>\n",
       "</div>"
      ],
      "text/plain": [
       "                 Model     Score\n",
       "0                   RF  0.835001\n",
       "1  Logistic Regression  0.822673\n",
       "2                  SVC  0.821602\n",
       "3                  KNN  0.818222\n",
       "4          Naive Bayes  0.750000"
      ]
     },
     "execution_count": 105,
     "metadata": {},
     "output_type": "execute_result"
    }
   ],
   "source": [
    "modelScores = pd.DataFrame({'Model': models, 'Score': score})\n",
    "\n",
    "modelScores.sort_values(by = 'Score', ascending = False, ignore_index = True)"
   ]
  },
  {
   "cell_type": "code",
   "execution_count": 106,
   "id": "cfa51d11",
   "metadata": {
    "execution": {
     "iopub.execute_input": "2023-01-10T12:16:11.062021Z",
     "iopub.status.busy": "2023-01-10T12:16:11.061648Z",
     "iopub.status.idle": "2023-01-10T12:16:11.067149Z",
     "shell.execute_reply": "2023-01-10T12:16:11.066404Z"
    },
    "papermill": {
     "duration": 0.055281,
     "end_time": "2023-01-10T12:16:11.068724",
     "exception": false,
     "start_time": "2023-01-10T12:16:11.013443",
     "status": "completed"
    },
    "tags": []
   },
   "outputs": [
    {
     "data": {
      "text/plain": [
       "(891, 30)"
      ]
     },
     "execution_count": 106,
     "metadata": {},
     "output_type": "execute_result"
    }
   ],
   "source": [
    "X_train.shape"
   ]
  },
  {
   "cell_type": "code",
   "execution_count": 107,
   "id": "18df4f64",
   "metadata": {
    "execution": {
     "iopub.execute_input": "2023-01-10T12:16:11.164564Z",
     "iopub.status.busy": "2023-01-10T12:16:11.163382Z",
     "iopub.status.idle": "2023-01-10T12:16:11.168747Z",
     "shell.execute_reply": "2023-01-10T12:16:11.167845Z"
    },
    "papermill": {
     "duration": 0.055466,
     "end_time": "2023-01-10T12:16:11.170782",
     "exception": false,
     "start_time": "2023-01-10T12:16:11.115316",
     "status": "completed"
    },
    "tags": []
   },
   "outputs": [],
   "source": [
    "#Getting the Best Four\n",
    "\n",
    "best_svc = svc_search.best_estimator_\n",
    "best_logit = logit_search.best_estimator_\n",
    "best_knn = knn_search.best_estimator_\n",
    "best_rf = rf_search.best_estimator_"
   ]
  },
  {
   "cell_type": "markdown",
   "id": "ecd2c250",
   "metadata": {
    "papermill": {
     "duration": 0.047529,
     "end_time": "2023-01-10T12:16:11.266132",
     "exception": false,
     "start_time": "2023-01-10T12:16:11.218603",
     "status": "completed"
    },
    "tags": []
   },
   "source": [
    "We will use two voting classifiers with our fourr best individual models. "
   ]
  },
  {
   "cell_type": "code",
   "execution_count": 108,
   "id": "4f7bc032",
   "metadata": {
    "execution": {
     "iopub.execute_input": "2023-01-10T12:16:11.365337Z",
     "iopub.status.busy": "2023-01-10T12:16:11.364443Z",
     "iopub.status.idle": "2023-01-10T12:16:11.370260Z",
     "shell.execute_reply": "2023-01-10T12:16:11.369621Z"
    },
    "papermill": {
     "duration": 0.057356,
     "end_time": "2023-01-10T12:16:11.372193",
     "exception": false,
     "start_time": "2023-01-10T12:16:11.314837",
     "status": "completed"
    },
    "tags": []
   },
   "outputs": [],
   "source": [
    "#Voting Classifiers\n",
    "from sklearn.ensemble import VotingClassifier\n",
    "\n",
    "voting_best_soft = VotingClassifier(estimators = [('knn', best_knn), ('svc', best_svc), ('rf', best_rf), ('logit', best_logit)], voting = 'soft')\n",
    "\n",
    "voting_best_hard = VotingClassifier(estimators = [('knn', best_knn), ('svc', best_svc), ('rf', best_rf), ('logit', best_logit)], voting = 'hard')"
   ]
  },
  {
   "cell_type": "markdown",
   "id": "2932af0e",
   "metadata": {
    "papermill": {
     "duration": 0.046044,
     "end_time": "2023-01-10T12:16:11.465397",
     "exception": false,
     "start_time": "2023-01-10T12:16:11.419353",
     "status": "completed"
    },
    "tags": []
   },
   "source": [
    "We train our two voting classifiers below. The hard voter scored the best."
   ]
  },
  {
   "cell_type": "code",
   "execution_count": 109,
   "id": "bbe4c3f4",
   "metadata": {
    "execution": {
     "iopub.execute_input": "2023-01-10T12:16:11.561002Z",
     "iopub.status.busy": "2023-01-10T12:16:11.560359Z",
     "iopub.status.idle": "2023-01-10T12:16:13.350304Z",
     "shell.execute_reply": "2023-01-10T12:16:13.349396Z"
    },
    "papermill": {
     "duration": 1.84117,
     "end_time": "2023-01-10T12:16:13.352369",
     "exception": false,
     "start_time": "2023-01-10T12:16:11.511199",
     "status": "completed"
    },
    "tags": []
   },
   "outputs": [
    {
     "name": "stdout",
     "output_type": "stream",
     "text": [
      "voting_soft_score 0.8272\n",
      "voting_hard_score 0.8294\n"
     ]
    }
   ],
   "source": [
    "#voting pipelines\n",
    "\n",
    "pipe_soft = Pipeline([(\"scaler\", scaler), #('pca', pca), \n",
    "                        (\"vote soft\", voting_best_soft)])\n",
    "                      \n",
    "pipe_hard = Pipeline([(\"scaler\", scaler), #('pca', pca), \n",
    "                        (\"vote hard\", voting_best_hard)])\n",
    "                      \n",
    "print('voting_soft_score', np.round(np.mean(cross_val_score(pipe_soft, X_train, y_train, cv = 5)),4))\n",
    "                      \n",
    "print('voting_hard_score', np.round(np.mean(cross_val_score(pipe_hard, X_train, y_train, cv = 5)),4))"
   ]
  },
  {
   "cell_type": "markdown",
   "id": "8b5d9c1f",
   "metadata": {
    "papermill": {
     "duration": 0.047155,
     "end_time": "2023-01-10T12:16:13.446818",
     "exception": false,
     "start_time": "2023-01-10T12:16:13.399663",
     "status": "completed"
    },
    "tags": []
   },
   "source": [
    "Creating an ensemble voter."
   ]
  },
  {
   "cell_type": "code",
   "execution_count": 110,
   "id": "065b8e62",
   "metadata": {
    "execution": {
     "iopub.execute_input": "2023-01-10T12:16:13.544007Z",
     "iopub.status.busy": "2023-01-10T12:16:13.543608Z",
     "iopub.status.idle": "2023-01-10T12:16:14.074826Z",
     "shell.execute_reply": "2023-01-10T12:16:14.074091Z"
    },
    "papermill": {
     "duration": 0.583347,
     "end_time": "2023-01-10T12:16:14.077279",
     "exception": false,
     "start_time": "2023-01-10T12:16:13.493932",
     "status": "completed"
    },
    "tags": []
   },
   "outputs": [],
   "source": [
    "#Scaling training data\n",
    "X_train_scaled = scaler.fit_transform(X_train)\n",
    "\n",
    "\n",
    "#Soft Voter\n",
    "voting_best_soft.fit(X_train_scaled, y_train)\n",
    "soft_preds = voting_best_soft.predict(scaler.transform(X_test))\n",
    "\n",
    "#Hard Voter\n",
    "voting_best_hard.fit(X_train_scaled, y_train)\n",
    "hard_preds = voting_best_hard.predict(scaler.transform(X_test))\n"
   ]
  },
  {
   "cell_type": "code",
   "execution_count": 111,
   "id": "8fb8f910",
   "metadata": {
    "execution": {
     "iopub.execute_input": "2023-01-10T12:16:14.202384Z",
     "iopub.status.busy": "2023-01-10T12:16:14.201972Z",
     "iopub.status.idle": "2023-01-10T12:16:14.212614Z",
     "shell.execute_reply": "2023-01-10T12:16:14.211088Z"
    },
    "papermill": {
     "duration": 0.075013,
     "end_time": "2023-01-10T12:16:14.215328",
     "exception": false,
     "start_time": "2023-01-10T12:16:14.140315",
     "status": "completed"
    },
    "tags": []
   },
   "outputs": [],
   "source": [
    "\n",
    "#Creating Data Frames\n",
    "testing = pd.read_csv('/kaggle/input/titanic/test.csv')\n",
    "\n",
    "submit_hard = pd.DataFrame({'PassengerId': testing['PassengerId'], 'Survived': hard_preds})\n",
    "submit_soft = pd.DataFrame({'PassengerId': testing['PassengerId'], 'Survived': soft_preds})"
   ]
  },
  {
   "cell_type": "code",
   "execution_count": 112,
   "id": "5fc67066",
   "metadata": {
    "execution": {
     "iopub.execute_input": "2023-01-10T12:16:14.311325Z",
     "iopub.status.busy": "2023-01-10T12:16:14.310967Z",
     "iopub.status.idle": "2023-01-10T12:16:14.320772Z",
     "shell.execute_reply": "2023-01-10T12:16:14.319781Z"
    },
    "papermill": {
     "duration": 0.060503,
     "end_time": "2023-01-10T12:16:14.323290",
     "exception": false,
     "start_time": "2023-01-10T12:16:14.262787",
     "status": "completed"
    },
    "tags": []
   },
   "outputs": [],
   "source": [
    "#Generating CSVs\n",
    "\n",
    "submit_soft.to_csv('to_submit_soft.csv',index = False)\n",
    "submit_hard.to_csv('to_submit_hard.csv',index = False)"
   ]
  },
  {
   "cell_type": "markdown",
   "id": "7654b293",
   "metadata": {
    "papermill": {
     "duration": 0.047675,
     "end_time": "2023-01-10T12:16:14.419354",
     "exception": false,
     "start_time": "2023-01-10T12:16:14.371679",
     "status": "completed"
    },
    "tags": []
   },
   "source": [
    "With the following parameters we scored as followed:\n",
    "\n",
    "LOGREG\n",
    "{'logreg__C': 0.23357214690901212, 'logreg__max_iter': 2000, 'logreg__penalty': 'l1', 'logreg__solver': 'liblinear'}\n",
    "\n",
    "SVC\n",
    "{'svc__kernel': 'poly', 'svc__degree': 2, 'svc__C': 1}\n",
    "\n",
    "KNN\n",
    "{'knn__algorithm': 'kd_tree', 'knn__n_neighbors': 11, 'knn__weights': 'uniform'}\n",
    "\n",
    "RF\n",
    "{'rf__n_estimators': 50, 'rf__min_samples_split': 10, 'rf__min_samples_leaf': 1, 'rf__max_depth': 10, 'rf__bootstrap': True}\n",
    "\n"
   ]
  },
  {
   "cell_type": "markdown",
   "id": "a6c446b4",
   "metadata": {
    "papermill": {
     "duration": 0.047319,
     "end_time": "2023-01-10T12:16:14.513913",
     "exception": false,
     "start_time": "2023-01-10T12:16:14.466594",
     "status": "completed"
    },
    "tags": []
   },
   "source": [
    "Soft Voting scored **0.7799**\n",
    "\n",
    "Hard Voting scored **0.78229** : As of January 2023, this is in the top 18% of submissions."
   ]
  }
 ],
 "metadata": {
  "kernelspec": {
   "display_name": "Python 3",
   "language": "python",
   "name": "python3"
  },
  "language_info": {
   "codemirror_mode": {
    "name": "ipython",
    "version": 3
   },
   "file_extension": ".py",
   "mimetype": "text/x-python",
   "name": "python",
   "nbconvert_exporter": "python",
   "pygments_lexer": "ipython3",
   "version": "3.7.12"
  },
  "papermill": {
   "default_parameters": {},
   "duration": 132.510101,
   "end_time": "2023-01-10T12:16:17.183110",
   "environment_variables": {},
   "exception": null,
   "input_path": "__notebook__.ipynb",
   "output_path": "__notebook__.ipynb",
   "parameters": {},
   "start_time": "2023-01-10T12:14:04.673009",
   "version": "2.3.4"
  }
 },
 "nbformat": 4,
 "nbformat_minor": 5
}
